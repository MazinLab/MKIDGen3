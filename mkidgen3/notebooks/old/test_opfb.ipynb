{
 "cells": [
  {
   "cell_type": "markdown",
   "metadata": {},
   "source": [
    "# gen3-opfb\n",
    "\n",
    "This notebook tests the functionality of the gen3-opfb through the FIR reorder."
   ]
  },
  {
   "cell_type": "markdown",
   "metadata": {},
   "source": [
    "## 1. Imports, Definitions, and Instantiating the overlay"
   ]
  },
  {
   "cell_type": "code",
   "execution_count": 1,
   "metadata": {},
   "outputs": [],
   "source": [
    "from mkidgen3.daccomb import generate as gen_comb\n",
    "from mkidgen3.pynq import dma_status  ## also activates the drivers\n",
    "import logging\n",
    "import numpy as np\n",
    "import time\n",
    "import pynq\n",
    "from pynq import PL\n",
    "from pynq import Overlay\n",
    "from pynq import DefaultIP\n",
    "from pynq import allocate\n",
    "from fpbinary import FpBinary, OverflowEnum, RoundingEnum\n",
    "import itertools\n",
    "import matplotlib.pyplot as plt\n",
    "from scipy.signal import welch\n",
    "\n",
    "FP16_15=lambda x: FpBinary(int_bits=1, frac_bits=15, signed=True, value=x)\n",
    "FP26_26=lambda x: FpBinary(int_bits=0, frac_bits=26, signed=True, value=x)\n",
    "FP16_26=lambda x: FpBinary(int_bits=-10, frac_bits=26, signed=True, value=x)\n",
    "FP32_31=lambda x: FpBinary(int_bits=1, frac_bits=31, signed=True, value=x)\n",
    "FP18_17=lambda x: FpBinary(int_bits=1, frac_bits=17, signed=True, value=x)\n",
    "\n",
    "logging.basicConfig()\n",
    "\n",
    "n_res = 2048\n",
    "n_bin = 4096\n",
    "\n",
    "first_good_packet=17 # sixteen to prime the FIR and 1 of latency\n",
    "latency_shift=3*16\n",
    "n_packets_rcvd, n_packets_sent, next_sample_send = 0, 0, 0"
   ]
  },
  {
   "cell_type": "markdown",
   "metadata": {},
   "source": [
    "We've had some issues with unexpected ZCU111 hangs and this was suggesting as a stabilizing measure on the PYNQ forums. This configuration is designed to enable timeouts for PS/PL AXI connnections."
   ]
  },
  {
   "cell_type": "code",
   "execution_count": 2,
   "metadata": {},
   "outputs": [],
   "source": [
    "mmio  = pynq.MMIO(0xFD610000 , 64)\n",
    "mmio.write(0x18, 7) # Return slave errors when timeouts occur\n",
    "mmio.write(0x20, 0x1020) # Set and enable prescale of 32 which should be about 10 ms\n",
    "mmio.write(0x10, 0x7) # Enable transactions tracking\n",
    "mmio.write(0x14, 0x7) # Enable timeouts"
   ]
  },
  {
   "cell_type": "markdown",
   "metadata": {},
   "source": [
    "Load the overlay and extract the dma core"
   ]
  },
  {
   "cell_type": "code",
   "execution_count": 3,
   "metadata": {},
   "outputs": [
    {
     "name": "stdout",
     "output_type": "stream",
     "text": [
      "PL Bitfile: /home/xilinx/overlayfiles/opfb/opfb.bit\n",
      "PL Timestamp: 2020/4/16 3:47:13 +838162\n",
      "Overlay timestamp: 2020/4/16 3:47:13 +838162  Loaded: True\n",
      "DMA:\n",
      " MM2s\n",
      " Idle:False\n",
      " MM2S_DMASR (status):0x0\n",
      " MM2S_SA (ptr) :0x0\n",
      " MM2S_LENGTH (len):0\n",
      " S2MM\n",
      " Idle:False\n",
      " S2MM_DMASR (status):0x0\n",
      " S2MM_DA (ptr) :0x0\n",
      " S2MM_LENGTH (len):0\n"
     ]
    }
   ],
   "source": [
    "ol = Overlay('/home/xilinx/overlayfiles/opfb/opfb.bit')\n",
    "ol.download()\n",
    "dma = ol.axi_dma_0\n",
    "print(f\"PL Bitfile: {PL.bitfile_name}\\nPL Timestamp: {PL.timestamp}\\n\"\n",
    "      f\"Overlay timestamp: {ol.timestamp}  Loaded: {ol.is_loaded()}\")\n",
    "dma_status(dma)"
   ]
  },
  {
   "cell_type": "markdown",
   "metadata": {},
   "source": [
    "## Reading and writing DMA\n",
    "\n",
    "Prepare some functions to convert numpy data to and from the correct data format.\n",
    "\n",
    "Keep in mind the cores are based around 256 groups of 8 or 16 samples in parallel. Each sample is either 2 or 4 bytes depending on if they are real or complex. We are sending in a 256 bit stream that will be split into 128 low (I) and 128 high bits (Q), each transaction of which consists of 8 16 bit numbers. The TLAST of the DMA serves as a trigger to the large AXIS FIFO (4096 deep) in the OL that is configured in packet mode to trigger streaming though the opfb cores (data doesn't flow until the DMA write is done). This supports sending up to 16 packets (256 groups of 8 samples) at a time. The adc2opfb core will provide a tlast to the FIR every 512 transactions (1 stream beat).\n",
    "\n",
    "Since one packet contains 2048 samples it results in 128 new values being fed into each lane packet[0-7::32] is lane0-7 real, packet[0-7 + 8::32] are lane0-7 imag. packet[0-7 + 16::32] is lane8-15 real and packet[0-7 + 24::32] the iamginary. The other 128 values that are sent down the lane are pulled by the adc2fir core from the respective lanes' shift registers. The ADC 2 FIR [sheet](https://docs.google.com/spreadsheets/d/1Aq9HyYat-zHmeC_wIC7wDO6Zweh_Myets_AHY71ldlU/edit#gid=0) in the linked google doc shows the resulting output of a C/RTL simulation of the core when fed with ADC \"samples\" composed of a ramp of reals. i.e. The first transaction in the beat is 0,1,2,3,4,5,6,7; the second, 8,9,10,11,...15 etc. Note that this matches the order of samples in Jenny's FPGA PDF with the delayed sample numbers interleaved with the non-delayed numbers.\n",
    "\n",
    "The FIR cores (one per lane) are configured with 256 coefficient sets of 8 taps each so that floor(channel/2) gives the coefficient set used. They are not configured to blank the output until the taps are fully loaded. Two stream beats (two packets sent) will fill one tap for all 512 channels (256 channels and their 256 delayed counterparts). So packets 0-13 fill the first 7 taps. Packet 14 and 15 will place data into the last tap. \n",
    "\n",
    "The output of the FIRs feeds into the fir2fft core which de-interleaves and buffers the delayed and non-delayed samples in each stream beat. It replays them, non-delayed followed by the delayed samples reordered so that the output ADC sample subseries is convolved with FIR coefficients needed by the FFT. See the FIR 2 FFT sheet in the aformentioned google sheet for the results of the C/RTL simulation on the reorder core.\n",
    "\n",
    "The reorder core feeds transactions into an 4096 deep (16 packets) AXIS FIFO that is not in packet mode, so it passes things along as soon as the AXI DMA is ready. Since the blocks have latency you can only recieve one less packet than is sent. All recieve operations must be one packet at a time because the TLAST is generated by the reoder core. \n",
    "\n",
    "The resulting output stream is similar to the input, though it consists of groups of 16 complex numbers due to the oversampling and is also joins the I and Q values (512 bits, 16x32b, 16 `complex<ap_fixed<-9,25>>`). So the packet needs to be read into a buffer of 8192 uint16s. buffer[::32] is lane0real buffer[1::32] is lane0imag and so forth. \n",
    "\n",
    "This overlay is equiped with a System ILA with an 8192 deep capture buffer.\n",
    "- Slot0: adc2fir lane0 output\n",
    "- Slot1: fir0 (lane0 output)\n",
    "- Slot2: reorder output (all lanes combined)\n",
    "- probe0: fir0 interrupts bit0-3: tlast missing, tlast unexpected, config tlast missing, config tlast unexpected\n",
    "- probe1: fir0 TUSER (ChanID Valid bit0 & ChanID bits1-9)"
   ]
  },
  {
   "cell_type": "markdown",
   "metadata": {},
   "source": [
    "### Create functions to help mode the data\n",
    "\n",
    "A pair to convert to and from floating point"
   ]
  },
  {
   "cell_type": "code",
   "execution_count": 4,
   "metadata": {},
   "outputs": [],
   "source": [
    "# 0.75/np.abs(comb.real).max() = 382.....\n",
    "SCALE_IN=382.65305668618328*2**15\n",
    "SCALE_OUT=1/(.75*2**9)\n",
    "def packet_to_buffer(packet, zero_i=tuple(), zero_q=tuple(), fp=True, scale=SCALE_IN):\n",
    "    \"\"\"\n",
    "    Converts a packet of complex data into a n_res*2 uint16 array\n",
    "    \n",
    "    Packet should be an array of dtype=np.complex64 or 128. length must be a multiple of 16\n",
    "    \n",
    "    zero_i & zero_q may be set to a tuple to selectively zero out values going into specific lanes\n",
    "    \n",
    "    Setting fp = False will result in the real and imaginaty values being multiplied by scale \n",
    "    and then cast to uint16. Otherwise FpBinary will be used to convert the data from float to signed 16_15.\n",
    "    \"\"\"\n",
    "    if fp:\n",
    "        ibits=[FP16_15(x).__index__() for x in packet.real]\n",
    "        qbits=[FP16_15(x).__index__() for x in packet.imag]\n",
    "    else:\n",
    "        ibits=(packet.real*scale).astype(np.uint16)\n",
    "        qbits=(packet.imag*scale).astype(np.uint16)\n",
    "    data=np.zeros(2*packet.size, dtype=np.uint16)\n",
    "    for i in range(8):\n",
    "        data[i::16] = 0 if i in zero_i else ibits[i::8]\n",
    "        data[i+8::16] = 0 if i in zero_q else qbits[i::8]\n",
    "    return data\n",
    "\n",
    "def packet_from_buffer(buffer, fp=True, scale=SCALE_OUT):\n",
    "    \"\"\"\n",
    "    Converts a buffer of uint16 fixed point data to a np.complex128. \n",
    "    \n",
    "    Buffer must be in multiples of 2*n_bin.\n",
    "    \"\"\"\n",
    "    ibits=np.zeros(buffer.size//2, dtype=np.uint16)\n",
    "    qbits=np.zeros(buffer.size//2, dtype=np.uint16)\n",
    "    for i in range(16):\n",
    "        ibits[i::16]=buffer[2*i::32]\n",
    "        qbits[i::16]=buffer[2*i+1::32]\n",
    "    \n",
    "    packet=np.zeros(buffer.size//2, dtype=np.complex128)\n",
    "    if fp:\n",
    "        packet.real=[float(FpBinary(int_bits=-9, frac_bits=25, signed=True, bit_field=int(x))) for x in ibits]\n",
    "        packet.imag=[float(FpBinary(int_bits=-9, frac_bits=25, signed=True, bit_field=int(x))) for x in qbits]\n",
    "    else:\n",
    "        packet.real=ibits*scale\n",
    "        packet.imag=qbits*scale\n",
    "        \n",
    "    return packet"
   ]
  },
  {
   "cell_type": "markdown",
   "metadata": {},
   "source": [
    "And one to prepare xilinx buffers"
   ]
  },
  {
   "cell_type": "code",
   "execution_count": 5,
   "metadata": {},
   "outputs": [],
   "source": [
    "def prep_buffers(ntx=16):\n",
    "    \"\"\" \n",
    "    ntx: How many packets do we send per DMA transfer. \n",
    "         Must be <=16 to move the stream smoothly through the core\n",
    "    \"\"\"\n",
    "    global pptx, input_buffer, output_buffer\n",
    "    pptx=ntx\n",
    "    \n",
    "    try: \n",
    "        #Close buffers if they are open\n",
    "        input_buffer.close()\n",
    "        output_buffer.close()\n",
    "    except NameError:\n",
    "        pass\n",
    "\n",
    "    #Create the buffers\n",
    "    n_in_buff = n_res*2*pptx if n_packets_sent else n_res*2*pptx+latency_shift*2\n",
    "    input_buffer = allocate(shape=(n_in_buff,), dtype=np.uint16)  #2048 I & Q\n",
    "    output_buffer = allocate(shape=(n_bin*2,), dtype=np.uint16)"
   ]
  },
  {
   "cell_type": "markdown",
   "metadata": {},
   "source": [
    "Functions to send and receive multiple packets (uses some globals we will define later)"
   ]
  },
  {
   "cell_type": "code",
   "execution_count": 6,
   "metadata": {},
   "outputs": [],
   "source": [
    "def init_pipe():\n",
    "    \"\"\"Send one packet's worth of 0s down the line.\"\"\"\n",
    "    if n_packets_sent==0:\n",
    "        foo = allocate(shape=n_res*2, dtype=np.uint16)\n",
    "        foo[:]=0\n",
    "        dma.sendchannel.transfer(foo)\n",
    "        dma.sendchannel.wait()\n",
    "        foo.close()\n",
    "        \n",
    "def txpackets(packets, **kwargs):\n",
    "    \"\"\"\n",
    "    Send packets to the FPGA and increment the number of packets sent. The number of packets \n",
    "    must correspond to the number specified in prep_buffers.\n",
    "    \"\"\"\n",
    "    global n_packets_sent, pptx, input_buffer\n",
    "    input_buffer[:]=np.array([packet_to_buffer(p, **kwargs) for p in packets]).ravel()\n",
    "    dma.sendchannel.transfer(input_buffer)\n",
    "    dma.sendchannel.wait()\n",
    "    n_packets_sent+=pptx\n",
    "    \n",
    "def txcomb(**kwargs):\n",
    "    global n_packets_sent, pptx, input_buffer, next_sample_send\n",
    "      #92/2 empirically determined to overcome reorder core latency\n",
    "\n",
    "    if n_packets_sent:\n",
    "        n_to_send=pptx*n_res\n",
    "        data=comb.ravel()[next_sample_send:next_sample_send+n_to_send]\n",
    "        input_buffer[:]=packet_to_buffer(data, **kwargs)\n",
    "    else:\n",
    "        n_to_send=(pptx-1)*n_res + latency_shift\n",
    "        data=comb.ravel()[next_sample_send:next_sample_send+n_to_send]\n",
    "        input_buffer[:n_res*2]=0\n",
    "        input_buffer[n_res*2:]=packet_to_buffer(data, **kwargs)\n",
    "    dma.sendchannel.transfer(input_buffer)\n",
    "    dma.sendchannel.wait()\n",
    "    next_sample_send+=n_to_send\n",
    "    n_packets_sent=1+next_sample_send//n_res\n",
    "\n",
    "def rxpackets(n=None, status=False, **kwargs):\n",
    "    \"\"\"Attempts to receive packets. If no number is specified then n_outstanding-1 are received.\"\"\"\n",
    "    global n_packets_sent, n_packets_rcvd\n",
    "    if n is None:\n",
    "        n=n_packets_sent-n_packets_rcvd\n",
    "    for i in range(n-1):\n",
    "        if status:\n",
    "            print(f\"Receiving {pprx} packet(s) starting with {n_packets_rcvd}\")\n",
    "        dma.recvchannel.transfer(output_buffer)\n",
    "        dma.recvchannel.wait()\n",
    "        converted=packet_from_buffer(output_buffer,**kwargs)\n",
    "        packets_out[n_packets_rcvd]=converted\n",
    "        n_packets_rcvd+=1\n",
    "    return converted"
   ]
  },
  {
   "cell_type": "markdown",
   "metadata": {},
   "source": [
    "One to flush the pipeline"
   ]
  },
  {
   "cell_type": "code",
   "execution_count": 7,
   "metadata": {},
   "outputs": [],
   "source": [
    "def flush(n=2):\n",
    "    \"\"\"Flush the pipeline n times with 16 packets worth of 0s and reset acket sent and recieved counters\"\"\"\n",
    "    prep_buffers(16)\n",
    "    global n_packets_sent,n_packets_rcvd, ramp0_n\n",
    "    for i in range(n):\n",
    "        input_buffer[:]=0\n",
    "        dma.sendchannel.transfer(input_buffer)\n",
    "        dma.sendchannel.wait()\n",
    "        input_buffer[:]=1\n",
    "        n_packets_sent+=pptx\n",
    "        rxpackets(pptx)  #output is twice as large per packet\n",
    "    n_packets_sent,n_packets_rcvd=0,0"
   ]
  },
  {
   "cell_type": "markdown",
   "metadata": {},
   "source": [
    "# Generate and feed a stream\n",
    "\n",
    "Both the resonator packets and the downconverted packets are $8kB = 256~cycles \\cdot256~bits/cycle$, probably I0I1...I7Q0...Q7. So that is 4096 16 bit numbers, note that operations like input_buffer[5:]=999 will kill the kernel (at least sometimes)!\n",
    "\n",
    "We need to send two packets  to ensure we drive the last transfer of the first packet all the way through the core (the core latency is ~30).\n",
    "\n",
    "input_buffer = allocate(shape=(n_res*2,), dtype=np.uint16)\n",
    "output_buffer = allocate(shape=(n_res*2,), dtype=np.uint16)\n",
    "\n",
    "First create a timeseries of IQ values for a bin in it.\n",
    "A 1Hz signal would have 2M samples"
   ]
  },
  {
   "cell_type": "markdown",
   "metadata": {},
   "source": [
    "## Load the coefficients and matlab reference data\n",
    "We may want to reference them in various places"
   ]
  },
  {
   "cell_type": "code",
   "execution_count": 8,
   "metadata": {},
   "outputs": [],
   "source": [
    "coeffs=np.zeros((16,256,8))  #lane, coeff set, c7-0\n",
    "for i in range(16):\n",
    "    with open(f\"data/lane{i}.coe\",'r') as f:\n",
    "        lines=f.readlines()[1:]\n",
    "    lines[0]=lines[0].partition('=')[-1]\n",
    "    coeffs[i]=np.array(list(map(float,''.join(lines).replace(';','').replace('\\n','').split(',')))).reshape(256,8)"
   ]
  },
  {
   "cell_type": "markdown",
   "metadata": {},
   "source": [
    "Import matlab results"
   ]
  },
  {
   "cell_type": "code",
   "execution_count": 9,
   "metadata": {},
   "outputs": [],
   "source": [
    "try:\n",
    "    with np.load(\"matlabsim_out.npz\") as d:\n",
    "        matlab_sim_out=d['matlab_sim_out']\n",
    "except IOError:\n",
    "    with open('matlabsim_out.csv') as f:\n",
    "        lines=f.readlines()\n",
    "        matlab_sim_out = np.array([list(map(np.complex, x)) for x in \n",
    "                                   map(lambda x: x.replace('i','j').split(','), lines)], \n",
    "                                  dtype=np.complex64)\n",
    "    np.savez(f\"matlabsim_out.npz\", matlab_sim_out=matlab_sim_out)\n",
    "matlab_sim_out=matlab_sim_out.reshape(matlab_sim_out.shape[0],256,16)"
   ]
  },
  {
   "cell_type": "markdown",
   "metadata": {},
   "source": [
    "## Prepare the Data\n",
    "\n",
    "What tones we want to send? Note these don't matter if we set use_matlab_input to True"
   ]
  },
  {
   "cell_type": "code",
   "execution_count": 10,
   "metadata": {},
   "outputs": [],
   "source": [
    "use_matlab_input=True\n",
    "\n",
    "n_total_packets=128+16+3           #How many packets\n",
    "n_samples=256*n_total_packets*8  #How many waveform samples do we need to generate\n",
    "sample_rate=4.096e9\n",
    "\n",
    "freq=np.array([-300, 100, 151, 1000.5])*1e6  # -2048-2047\n",
    "amplitudes = np.ones_like(freq)/n_res\n",
    "phases=np.zeros_like(freq)"
   ]
  },
  {
   "cell_type": "markdown",
   "metadata": {},
   "source": [
    "Generate the complex waveform"
   ]
  },
  {
   "cell_type": "code",
   "execution_count": 11,
   "metadata": {},
   "outputs": [
    {
     "name": "stdout",
     "output_type": "stream",
     "text": [
      "Comb shape: (1280, 2048). \n",
      "Total Samples: 2621440. Memory: 20 MB\n",
      "Max value: 0.0019600000232458115.\n",
      "Expected tone amplitude factor: ~512 * N_TONES_IN_BIN. (4096/8 as FFT scale dfaults to 8 in last 3 stages)\n",
      "Resulting samples per output bin: 1280.0\n"
     ]
    }
   ],
   "source": [
    "if not use_matlab_input:\n",
    "    t = 2 * np.pi * np.arange(n_samples)/sample_rate\n",
    "    comb=np.zeros(n_samples, dtype=np.complex64)\n",
    "    for i in range(freq.size):\n",
    "        comb += amplitudes[i] * np.exp(1j * (t * freq[i] + phases[i]))\n",
    "else:\n",
    "    try:\n",
    "        with np.load(\"matlabsim_in.npz\") as d:\n",
    "            comb=d['comb']\n",
    "    except IOError:\n",
    "        with open('matlabsim_in.csv') as f:\n",
    "            lines=f.read()\n",
    "        comb=np.array(list(map(np.complex,lines.replace('i','j').split(','))), dtype=np.complex64)\n",
    "        np.savez(\"matlabsim_in.npz\", comb=comb)\n",
    "comb=comb.reshape(comb.size//n_res, n_res)\n",
    "print(f\"Comb shape: {comb.shape}. \\nTotal Samples: {comb.size}. Memory: {comb.size*8/1024**2:.0f} MB\\n\"\n",
    "      f\"Max value: {np.abs(comb).max()}.\\n\"\n",
    "      f\"Expected tone amplitude factor: ~512 * N_TONES_IN_BIN. (4096/8 as FFT scale dfaults to 8 in last 3 stages)\\n\"\n",
    "      f\"Resulting samples per output bin: {comb.size*2/n_bin}\")"
   ]
  },
  {
   "cell_type": "markdown",
   "metadata": {},
   "source": [
    "Plot an FFT of the first full timeseries"
   ]
  },
  {
   "cell_type": "code",
   "execution_count": 12,
   "metadata": {},
   "outputs": [],
   "source": [
    "if False:\n",
    "    plt.figure(figsize=(7,4))\n",
    "    plt.plot(np.fft.fftfreq(comb.size, d=1/sample_rate)/1e9, \n",
    "             np.abs(np.fft.fft(comb.ravel(), norm='ortho')))\n",
    "    plt.xlim(-sample_rate/2e9,sample_rate/2e9);\n",
    "    plt.xlabel('Freq (GHz)');"
   ]
  },
  {
   "cell_type": "markdown",
   "metadata": {},
   "source": [
    "## Prepare an output array"
   ]
  },
  {
   "cell_type": "code",
   "execution_count": 13,
   "metadata": {},
   "outputs": [],
   "source": [
    "packets_out=np.zeros((comb.shape[0], n_bin), dtype=np.complex64)"
   ]
  },
  {
   "cell_type": "markdown",
   "metadata": {},
   "source": [
    "## Show what will be sent"
   ]
  },
  {
   "cell_type": "markdown",
   "metadata": {},
   "source": [
    "Show an example of what will be on the wires."
   ]
  },
  {
   "cell_type": "code",
   "execution_count": 14,
   "metadata": {},
   "outputs": [
    {
     "name": "stdout",
     "output_type": "stream",
     "text": [
      "Packet 0\n",
      "PFB Lane0 (iADC0 Evens): [ 24576  -5025 -21732  13223]...[-4018  -400  6025   464]\n",
      "PFB Lane0 (qADC0 Evens): [     0 -11563   8667   6279]...[-12047   3375  12946  -7344]\n",
      "PFB Lane1 (iADC1 Evens): [ 23608   1795 -23483   7536]...[-3893 -1801  5658  2707]\n",
      "PFB Lane8 (iADC0 Odds): [-15449  21448   6152 -22048]...[ 3149 -3334 -5319  6162]\n",
      "Packet 1\n",
      "PFB Lane0 (iADC0 Evens): [-9812  2392 13215 -8592]...[ 7247   636 -5592  3622]\n",
      "PFB Lane0 (qADC0 Evens): [-11767  12194   7116 -15233]...[  5565 -19043    983  16141]\n",
      "PFB Lane1 (iADC1 Evens): [-9688 -1009 14261 -4414]...[ 5906  2405 -5844  2456]\n",
      "PFB Lane8 (iADC0 Odds): [  6694 -11471  -4861  17190]...[-6576  4957  1348 -5020]\n",
      "Packet 2\n",
      "PFB Lane0 (iADC0 Evens): [ 1994 -4718   930  3876]...[ -9506 -17644  16345   8996]\n",
      "PFB Lane0 (qADC0 Evens): [ -4531 -12597   5307  10580]...[ -8456  14788   1388 -18400]\n",
      "PFB Lane1 (iADC1 Evens): [ 3124 -4442  -321  4158]...[ -3413 -20633  11896  13546]\n",
      "PFB Lane8 (iADC0 Odds): [ 2537  2995 -3888 -1306]...[ 21814    504 -20291   8226]\n"
     ]
    }
   ],
   "source": [
    "foo=packet_to_buffer(comb[0], fp=False).reshape(128,2,2,8).astype(np.int16) #sample, even|odd, real|imag, adc port 0-7\n",
    "print(\"Packet 0\")\n",
    "print(f\"PFB Lane0 (iADC0 Evens): {foo[:,0,0,0][[0,1,2,3]]}...{foo[:,0,0,0][[-4,-3,-2,-1]]}\")\n",
    "print(f\"PFB Lane0 (qADC0 Evens): {foo[:,0,1,0][[0,1,2,3]]}...{foo[:,0,1,0][[-4,-3,-2,-1]]}\")\n",
    "print(f\"PFB Lane1 (iADC1 Evens): {foo[:,0,0,1][[0,1,2,3]]}...{foo[:,0,0,1][[-4,-3,-2,-1]]}\")\n",
    "print(f\"PFB Lane8 (iADC0 Odds): {foo[:,1,0,0][[0,1,2,3]]}...{foo[:,1,0,0][[-4,-3,-2,-1]]}\")\n",
    "\n",
    "foo=packet_to_buffer(comb[1], fp=False).reshape(128,2,2,8).astype(np.int16)\n",
    "print(\"Packet 1\")\n",
    "print(f\"PFB Lane0 (iADC0 Evens): {foo[:,0,0,0][[0,1,2,3]]}...{foo[:,0,0,0][[-4,-3,-2,-1]]}\")\n",
    "print(f\"PFB Lane0 (qADC0 Evens): {foo[:,0,1,0][[0,1,2,3]]}...{foo[:,0,1,0][[-4,-3,-2,-1]]}\")\n",
    "print(f\"PFB Lane1 (iADC1 Evens): {foo[:,0,0,1][[0,1,2,3]]}...{foo[:,0,0,1][[-4,-3,-2,-1]]}\")\n",
    "print(f\"PFB Lane8 (iADC0 Odds): {foo[:,1,0,0][[0,1,2,3]]}...{foo[:,1,0,0][[-4,-3,-2,-1]]}\")\n",
    "\n",
    "foo=packet_to_buffer(comb[2], fp=False).reshape(128,2,2,8).astype(np.int16)\n",
    "print(\"Packet 2\")\n",
    "print(f\"PFB Lane0 (iADC0 Evens): {foo[:,0,0,0][[0,1,2,3]]}...{foo[:,0,0,0][[-4,-3,-2,-1]]}\")\n",
    "print(f\"PFB Lane0 (qADC0 Evens): {foo[:,0,1,0][[0,1,2,3]]}...{foo[:,0,1,0][[-4,-3,-2,-1]]}\")\n",
    "print(f\"PFB Lane1 (iADC1 Evens): {foo[:,0,0,1][[0,1,2,3]]}...{foo[:,0,0,1][[-4,-3,-2,-1]]}\")\n",
    "print(f\"PFB Lane8 (iADC0 Odds): {foo[:,1,0,0][[0,1,2,3]]}...{foo[:,1,0,0][[-4,-3,-2,-1]]}\")"
   ]
  },
  {
   "cell_type": "markdown",
   "metadata": {},
   "source": [
    "## Send the data\n",
    "This takes a while. We send 12, then 8, then 12 to enble waveform capture across the FIR windup and transition into normal operation  "
   ]
  },
  {
   "cell_type": "markdown",
   "metadata": {},
   "source": [
    "Now go arm the ILA if desired, uncomment these following three cells and execute them in turn to look at movement in the fabric."
   ]
  },
  {
   "cell_type": "code",
   "execution_count": 15,
   "metadata": {
    "scrolled": true
   },
   "outputs": [
    {
     "name": "stdout",
     "output_type": "stream",
     "text": [
      "Sent: 12 Received: 11. Pending: 1\n"
     ]
    }
   ],
   "source": [
    "prep_buffers(12)\n",
    "#txpackets(comb[n_packets_sent:n_packets_sent+pptx], fp=use_fp)\n",
    "txcomb()\n",
    "rxpackets()\n",
    "print(f\"Sent: {n_packets_sent} Received: {n_packets_rcvd}. Pending: {n_packets_sent-n_packets_rcvd}\")\n",
    "prep_buffers(12) #Must reprep as from here on we don't need to bad"
   ]
  },
  {
   "cell_type": "code",
   "execution_count": 16,
   "metadata": {
    "scrolled": false
   },
   "outputs": [],
   "source": [
    "# prep_buffers(8)\n",
    "# txpackets(comb[n_packets_sent:n_packets_sent+pptx], fp=use_fp)\n",
    "# rxpackets(fp=use_fp)\n",
    "# print(f\"Sent: {n_packets_sent} Received: {n_packets_rcvd}. Pending: {n_packets_sent-n_packets_rcvd}\")"
   ]
  },
  {
   "cell_type": "code",
   "execution_count": 17,
   "metadata": {
    "scrolled": false
   },
   "outputs": [],
   "source": [
    "# prep_buffers(12)\n",
    "# txpackets(comb[n_packets_sent:n_packets_sent+pptx], fp=use_fp)\n",
    "# rxpackets(fp=use_fp)\n",
    "# print(f\"Sent: {n_packets_sent} Received: {n_packets_rcvd}. Pending: {n_packets_sent-n_packets_rcvd}\")"
   ]
  },
  {
   "cell_type": "code",
   "execution_count": 18,
   "metadata": {},
   "outputs": [
    {
     "name": "stdout",
     "output_type": "stream",
     "text": [
      "Sent: 24 Received: 23. Pending: 1\n"
     ]
    }
   ],
   "source": [
    "txcomb()\n",
    "rxpackets()\n",
    "print(f\"Sent: {n_packets_sent} Received: {n_packets_rcvd}. Pending: {n_packets_sent-n_packets_rcvd}\")"
   ]
  },
  {
   "cell_type": "markdown",
   "metadata": {},
   "source": [
    "Send the rest (or all) of the packets in groups of 16. This a few seconds."
   ]
  },
  {
   "cell_type": "code",
   "execution_count": 21,
   "metadata": {
    "scrolled": false
   },
   "outputs": [
    {
     "name": "stdout",
     "output_type": "stream",
     "text": [
      "Sent: 36 Received: 35. Pending: 1\n",
      "Sent: 48 Received: 47. Pending: 1\n",
      "Sent: 60 Received: 59. Pending: 1\n",
      "Sent: 72 Received: 71. Pending: 1\n",
      "Sent: 84 Received: 83. Pending: 1\n",
      "Sent: 96 Received: 95. Pending: 1\n",
      "Sent: 108 Received: 107. Pending: 1\n",
      "Sent: 120 Received: 119. Pending: 1\n",
      "Sent: 132 Received: 131. Pending: 1\n",
      "Sent: 144 Received: 143. Pending: 1\n"
     ]
    }
   ],
   "source": [
    "# prep_buffers(8)\n",
    "for i in range((n_total_packets-n_packets_sent)//pptx):\n",
    "    #txpackets(comb[n_packets_sent:n_packets_sent+pptx], fp=use_fp)\n",
    "    txcomb()\n",
    "    rxpackets()\n",
    "    print(f\"Sent: {n_packets_sent} Received: {n_packets_rcvd}. Pending: {n_packets_sent-n_packets_rcvd}\")"
   ]
  },
  {
   "cell_type": "markdown",
   "metadata": {},
   "source": [
    "And save the output to disk."
   ]
  },
  {
   "cell_type": "code",
   "execution_count": null,
   "metadata": {},
   "outputs": [],
   "source": [
    "np.savez(f\"packets_out_opfb.npz\",  \n",
    "         freq=freq, phases=phases, amplitudes=amplitudes,\n",
    "         packets_out=packets_out)"
   ]
  },
  {
   "cell_type": "markdown",
   "metadata": {},
   "source": [
    "## Look at the results"
   ]
  },
  {
   "cell_type": "markdown",
   "metadata": {},
   "source": [
    "Manually compute what we would expect for the first output with 8 taps from above for lane0. This should be on packet 16, yielding FIR clock outputs 1,3,...511 per jenny's PDF, and should be the 384th to 511th, 256th inputs to the FFT (so I think the matlab output samples would be those \\*16)."
   ]
  },
  {
   "cell_type": "code",
   "execution_count": 22,
   "metadata": {},
   "outputs": [
    {
     "data": {
      "image/png": "[encoded data removed]",
      "text/plain": [
       "<matplotlib.figure.Figure at 0x7f7f58a860>"
      ]
     },
     "metadata": {},
     "output_type": "display_data"
    }
   ],
   "source": [
    "plt.figure(figsize=(8,6))\n",
    "plt.plot(np.fft.fftshift(np.abs(packets_out[18])));\n",
    "plt.plot(np.fft.fftshift(np.abs(packets_out[20])));\n",
    "plt.plot(np.fft.fftshift(np.abs(packets_out[85])));"
   ]
  },
  {
   "cell_type": "markdown",
   "metadata": {},
   "source": [
    "Now lets try and reproduce and find what we are getting. First lets define a function that given a lane and an fftclock cycle it will \n",
    "\n",
    "- Extract what we should see from the matlab golder output,\n",
    "- Compute what we should see in python from the input,\n",
    "- Compute what we should see in fixed point\n",
    "- Extract the corresponding sample from the output (subject to varioud options to adjust where we look in the output)"
   ]
  },
  {
   "cell_type": "code",
   "execution_count": null,
   "metadata": {},
   "outputs": [],
   "source": [
    "def fir(lane=0, fftclk=None, show=True, rollfpga_new=False, rollfpga_old=False, swapfpga=False, fpga_i=0, fpga_p=0):\n",
    "    \"\"\"Assumes comb.shape(N, 2048) matlab_sim_out.shape=(N,256,16)\"\"\"\n",
    "    mlab_block=fftclk//256\n",
    "    mlab_chan=fftclk%256  #fft order\n",
    "    \n",
    "    reorder=mlab_block%2\n",
    "    packet_0=mlab_block #+ (1 if reorder else 0) #fir order\n",
    "    coeff_chan=mlab_chan if not reorder else (mlab_chan+128)%256  #input order\n",
    "    if coeff_chan<128:\n",
    "        comb_chan = coeff_chan\n",
    "    else:\n",
    "        comb_chan = coeff_chan-128\n",
    "        packet_0+=1\n",
    "        \n",
    "    pak_out=mlab_block+first_good_packet+fpga_p#+ #(-1 if swapfpga and reorder else 1)\n",
    "    \n",
    "    fpga_chan=mlab_chan+fpga_i\n",
    "    if (rollfpga_old and reorder) or (rollfpga_new and not reorder):\n",
    "        fpga_chan=(fpga_chan+128)\n",
    "    fpga_chan%=256\n",
    "    \n",
    "    if show:\n",
    "        print(f'Matlab block {mlab_block}, channel {mlab_chan}, lane {lane}')\n",
    "        print(f'FIR Coeff channel {coeff_chan}')\n",
    "        print(f'Delayed cycle needing reorder: {reorder}')\n",
    "        print(f'Input samples {packet_0}-{packet_0+14} (by twos), channel {comb_chan} (i={16*comb_chan+lane})')\n",
    "        print(f'FPGA Output packet {pak_out}, sample {fpga_chan} (i={fpga_chan*16+lane})')\n",
    "    \n",
    "    mlab=matlab_sim_out[mlab_block,mlab_chan,lane]\n",
    "    pysamp=comb[packet_0:packet_0+15:2, 16*comb_chan+lane]\n",
    "    \n",
    "    taps=coeffs[lane,coeff_chan,::-1]\n",
    "    fpdat=[(FP16_15(s.real),FP16_15(s.imag),FP16_26(c)) for s,c in zip(pysamp,taps)]\n",
    "    fpreal, fpimag=sum(r*c for r,i,c in fpdat), sum(i*c for r,i,c in fpdat)\n",
    "    py=(pysamp*taps).sum()\n",
    "    pyfp=float(fpreal.resize((-9,25)))+float(fpimag.resize((-9,25)))*1j\n",
    "    \n",
    "    fpga=packets_out.reshape(packets_out.shape[0],256,16)[pak_out, fpga_chan ,lane]\n",
    "    if show:\n",
    "        print(f\" Matlab:  {mlab:.3g}\")  #256 clocks per packet we are looking for 384 so 2nd packet chan. 128\n",
    "        print(f\" Python:  {py:.3g}  (matlab diff {mlab-py:.0g})\")\n",
    "        print(f\" FP16_25: {pyfp:.3g}  (min rep. diff {100*(py-pyfp)/2**-25:.0f}%)\")\n",
    "        print(f\" FPGA[{pak_out},{fpga_chan*16+lane}]: {fpga:.3g}\")\n",
    "        print(f\" Diff: {pyfp-fpga:.4g}\")\n",
    "    return mlab, py, pyfp, fpga"
   ]
  },
  {
   "cell_type": "markdown",
   "metadata": {},
   "source": [
    "Now lets reshape all the packets and shoe some similar things graphically for packets 14-18"
   ]
  },
  {
   "cell_type": "code",
   "execution_count": null,
   "metadata": {},
   "outputs": [],
   "source": [
    "data=packets_out.reshape(packets_out.shape[0],256,16)  # [packet, group number, lane]"
   ]
  },
  {
   "cell_type": "markdown",
   "metadata": {},
   "source": [
    "Note that packet 14 has a non-zero value in most lanes (i.e. data[14,127,:].real, the FIRs are giving real data) on that particular output. Cycle 127 (the 128th) cycle of packet 14 is a reordered packet so it is channel 511 (maybe 510 if I've done something wrong in hardware) from the FIR. The input data for packet 14 placed populated the 8th tap for channels 0-255 of the FIR so this shouldn't be possible. The value on lane0 (packets_out[14].reshape(256,16)[127,0].real) is 1, which indicates it was multiplied by coefficient set 1, which would correspond to FIR channel 0 or 1. This is troubling and indicates something, but I don't understand what."
   ]
  },
  {
   "cell_type": "markdown",
   "metadata": {},
   "source": [
    "### Lets try and compute the FIR in python to see if we did what we said we'd do"
   ]
  },
  {
   "cell_type": "markdown",
   "metadata": {},
   "source": [
    "Also do things with 16_15 and 18_17 fixed point math. This is slow."
   ]
  },
  {
   "cell_type": "code",
   "execution_count": 23,
   "metadata": {},
   "outputs": [],
   "source": [
    "packets_to_convert=164\n",
    "assert packets_to_convert>=1+n_total_packets+2*7+2\n",
    "\n",
    "#16_15 comb and 16_26 coeff\n",
    "fpcoeff16_26l=[[[FP16_26(tap) for tap in channel] for channel in lane] for lane in coeffs]\n",
    "fpcomb16_15l=[[[FP16_15(y.real),FP16_15(y.imag)] for y in x] for x in comb[:packets_to_convert]]\n",
    "fpcomb16_15=np.empty((packets_to_convert, 2048, 2),dtype=object)\n",
    "fpcoeff16_26=np.empty_like(coeffs, dtype=object)\n",
    "fpcomb16_15[:,:,:]=fpcomb16_15l\n",
    "fpcoeff16_26[:,:,:]=fpcoeff16_26l\n",
    "del fpcomb16_15l, fpcoeff16_26l"
   ]
  },
  {
   "cell_type": "code",
   "execution_count": 24,
   "metadata": {},
   "outputs": [],
   "source": [
    "def do_fixed_point_pfb(fpcomb,fpcoeff, truncate=True):\n",
    "    \"\"\"Set truncate to false to preserve the full output bitwidth. Truncation is done with FpBinary defaults.\"\"\"\n",
    "    fft_block=np.zeros((n_total_packets+1, 256, 16),dtype=np.complex64)\n",
    "    for i in range(0,128,2):  #each packet of ADC samples, 128 new things to a lane 2 packets to feed all channels\n",
    "        lane_out=np.zeros((2,256,16), dtype=np.complex64)\n",
    "        for l in range(16):\n",
    "            fresh=np.array([fpcoeff[l,:,7-c_i]*fpcomb[i+2*c_i:i+2*c_i+2, l::16,:].reshape(256,2).T \n",
    "                      for c_i in range(8)]).sum(axis=0)\n",
    "            delay=np.roll(np.array([fpcoeff[l,:,7-c_i]*fpcomb[1+i+2*c_i:1+i+2*c_i+2, l::16,:].reshape(256,2).T \n",
    "                      for c_i in range(8)]).sum(axis=0),128, axis=1)\n",
    "            #Sum the multiplies are roll the delayed samples\n",
    "            if truncate:\n",
    "                outformat=(-9, sum(fpcomb.flat[0].format)+9)\n",
    "                conv= lambda a: np.array(list(map(lambda x:float(x.resize(outformat)) , a)))\n",
    "                lane_out[0, :, l]=conv(fresh[0]) + conv(fresh[1])*1j\n",
    "                lane_out[1, :, l]=conv(delay[0]) + conv(delay[1])*1j\n",
    "            else:\n",
    "                lane_out[0, :, l]=fresh[0].astype(float)+fresh[1].astype(float)*1j\n",
    "                lane_out[1, :, l]=delay[0].astype(float)+delay[1].astype(float)*1j\n",
    "        fft_block[i]=lane_out[0]\n",
    "        fft_block[i+1]=lane_out[1]\n",
    "    print(outformat)\n",
    "    return fft_block"
   ]
  },
  {
   "cell_type": "code",
   "execution_count": 25,
   "metadata": {},
   "outputs": [
    {
     "name": "stdout",
     "output_type": "stream",
     "text": [
      "(-9, 25)\n"
     ]
    }
   ],
   "source": [
    "pfb_fp16=do_fixed_point_pfb(fpcomb16_15, fpcoeff16_26)"
   ]
  },
  {
   "cell_type": "markdown",
   "metadata": {},
   "source": [
    "## Try taking the FFT manually\n"
   ]
  },
  {
   "cell_type": "markdown",
   "metadata": {},
   "source": [
    "Some functions to process the data"
   ]
  },
  {
   "cell_type": "code",
   "execution_count": 26,
   "metadata": {
    "scrolled": false
   },
   "outputs": [],
   "source": [
    "def do_fft(datain, do_pfb_fft=False, sl=None, do_welch=False, roll_pfb_fft=0):\n",
    "    data = datain.reshape(datain.shape[0], 256*16) if datain.ndim==3 else datain\n",
    "    if sl is not None:\n",
    "        data=data[sl]\n",
    "    data = np.fft.fft(np.roll(data, roll_pfb_fft, axis=1), axis=1) if do_pfb_fft else data\n",
    "    if do_welch:\n",
    "        freq, data = welch(data, fs=2e6, return_onesided=False, scaling='spectrum', axis=0)\n",
    "        data = np.fft.fftshift(data, axes=0)\n",
    "        freq = np.fft.fftshift(freq, axes=0)\n",
    "    else:\n",
    "        data = np.fft.fftshift(np.fft.fft(data, axis=0), axes=0)\n",
    "    return data\n",
    "\n",
    "def extract_opfb_spec(data, OS=2, exclude_overlap=True, linear=False):\n",
    "    if not exclude_overlap:\n",
    "        raise NotImplementedError\n",
    "    \n",
    "    N, M = data.shape\n",
    "    data=np.abs(data) if linear else 20*np.log10(np.abs(data))\n",
    "    ndx_bin = int(np.ceil((OS-1)/(2*OS)*N))-1  #no overlap start of bin\n",
    "    \n",
    "    stride = int(np.floor(1/OS*N))+1\n",
    "    yax_t = np.zeros(stride*M)\n",
    "    xax_t = np.arange(M)[:,np.newaxis] + np.linspace(-.5, .5 - 1/stride, stride)\n",
    "    \n",
    "    ndx_out=0\n",
    "    for i in range(M):\n",
    "        yax_t[ndx_out:ndx_out + stride] = data[ndx_bin:ndx_bin+stride,i]\n",
    "        ndx_out+=stride\n",
    "\n",
    "    # shift the negative frequency components back to the correct place\n",
    "    return xax_t.ravel() - M/2, np.fft.fftshift(yax_t)"
   ]
  },
  {
   "cell_type": "markdown",
   "metadata": {},
   "source": [
    "## Plot the OPFB Spectra"
   ]
  },
  {
   "cell_type": "code",
   "execution_count": null,
   "metadata": {},
   "outputs": [],
   "source": [
    "pltslc=slice(18,21)\n",
    "fpgaplotdata = extract_opfb_spec(do_fft(packets_out, sl=pltslc))\n",
    "mlabplotdata = extract_opfb_spec(do_fft(matlab_sim_out, do_pfb_fft=True, sl=slice(0,126)))\n",
    "plt.figure(figsize=(15,7))\n",
    "plt.plot(*mlabplotdata,label='mlab', linewidth=.8)\n",
    "plt.plot(*fpgaplotdata, label='fpga', linewidth=.5)\n",
    "plt.legend()\n",
    "plt.xlabel('Frequency (MHz)')\n",
    "plt.ylabel('Power (dB)')\n",
    "plt.grid()\n",
    "plt.title('OPFB Spectrum')\n",
    "plt.show()"
   ]
  },
  {
   "cell_type": "code",
   "execution_count": null,
   "metadata": {},
   "outputs": [],
   "source": [
    "plt.figure(figsize=(15,7))\n",
    "plt.plot(np.fft.fftshift(np.abs(packets_out[19])))\n",
    "plt.xlim(1800,2200)"
   ]
  },
  {
   "cell_type": "code",
   "execution_count": 31,
   "metadata": {},
   "outputs": [
    {
     "name": "stderr",
     "output_type": "stream",
     "text": [
      "/usr/lib/python3/dist-packages/ipykernel_launcher.py:19: RuntimeWarning: divide by zero encountered in log10\n"
     ]
    }
   ],
   "source": [
    "pltslc=slice(18,126)\n",
    "fpgaplotdata = extract_opfb_spec(do_fft(packets_out*2**3, sl=pltslc))\n",
    "mlabplotdata = extract_opfb_spec(do_fft(matlab_sim_out, do_pfb_fft=True, sl=slice(0,126)))\n",
    "plotdata_fp16 = extract_opfb_spec(do_fft(pfb_fp16, sl=pltslc, do_pfb_fft=True, roll_pfb_fft=0))"
   ]
  },
  {
   "cell_type": "code",
   "execution_count": 33,
   "metadata": {
    "scrolled": false
   },
   "outputs": [
    {
     "data": {
      "image/png": "[encoded data removed]",
      "text/plain": [
       "<matplotlib.figure.Figure at 0x7f7eb40e80>"
      ]
     },
     "metadata": {},
     "output_type": "display_data"
    }
   ],
   "source": [
    "plt.figure(figsize=(15,7))\n",
    "plt.plot(*mlabplotdata,label='mlab', linewidth=.8)\n",
    "plt.plot(*fpgaplotdata, label='fpga', linewidth=.5)\n",
    "plt.plot(*plotdata_fp16,label='fp16', linewidth=.8)\n",
    "plt.legend()\n",
    "plt.xlabel('Frequency (MHz)')\n",
    "plt.ylabel('Power (dB)')\n",
    "plt.grid()\n",
    "plt.title('OPFB Spectrum')\n",
    "plt.show()"
   ]
  }
 ],
 "metadata": {
  "kernelspec": {
   "display_name": "Python 3",
   "language": "python",
   "name": "python3"
  },
  "language_info": {
   "codemirror_mode": {
    "name": "ipython",
    "version": 3
   },
   "file_extension": ".py",
   "mimetype": "text/x-python",
   "name": "python",
   "nbconvert_exporter": "python",
   "pygments_lexer": "ipython3",
   "version": "3.6.5"
  },
  "toc": {
   "base_numbering": 1,
   "nav_menu": {},
   "number_sections": true,
   "sideBar": true,
   "skip_h1_title": false,
   "title_cell": "Table of Contents",
   "title_sidebar": "Contents",
   "toc_cell": false,
   "toc_position": {},
   "toc_section_display": true,
   "toc_window_display": false
  }
 },
 "nbformat": 4,
 "nbformat_minor": 1
}
