{
 "cells": [
  {
   "cell_type": "markdown",
   "id": "8c7264b6",
   "metadata": {
    "pycharm": {
     "name": "#%% md\n"
    }
   },
   "source": [
    "<img src=\"images/banner.png\" align=\"left\">"
   ]
  },
  {
   "cell_type": "markdown",
   "id": "319eafb5",
   "metadata": {},
   "source": [
    "# Introduction"
   ]
  },
  {
   "cell_type": "markdown",
   "id": "22bec8b5",
   "metadata": {},
   "source": [
    "This notebook walks through some of the basic functions we have developed to support the readout of two-thousand, multiplexed superconducting detectors. This work is part of a broader effort in Ben Mazin's group at UCSB to develop instruments featuing arrays of cryogenic detectors for astronomy imaging applications. Check out our [lab website](https://web.physics.ucsb.edu/~bmazin/) to learn more about the whole research group. To learn more about the FPGA project, check out our [latest update on arXiv](https://arxiv.org/abs/2203.16520) or visit poster 170 at FCCM22."
   ]
  },
  {
   "cell_type": "markdown",
   "id": "b3f6bb08",
   "metadata": {},
   "source": [
    "# Table of Contents\n",
    "A\n",
    "B\n",
    "C\n",
    ".\n",
    ".\n",
    "."
   ]
  },
  {
   "cell_type": "markdown",
   "id": "b3d83e5e",
   "metadata": {},
   "source": [
    "# 1. System Overview"
   ]
  },
  {
   "cell_type": "markdown",
   "id": "cdc8c67d",
   "metadata": {},
   "source": [
    "The full superconducting detector readout system block design is shown below. In this demonstration notebook, we will be showcasing the DAC Replay, OPFB, Bin Select, and Calibration Capture systems which are highlighted in yellow. All of these IP blocks are implemented with a combination of Vitis High-Level Syntheis and pre-existing Xilinx IP available in Vivado IPI. The one exception is the capture subsystem which uses an [open source RTL core](https://github.com/MazinLab/wb2axip/tree/master) to convert AXIS to AXI burst writes to the MIG because as far as we can tell this is not possible with HLS as of version 2021.1."
   ]
  },
  {
   "cell_type": "markdown",
   "id": "3c19b990",
   "metadata": {},
   "source": [
    "<img src=\"images/full_block_design.png\" alt=\"drawing\" width=\"600\"/>"
   ]
  },
  {
   "cell_type": "markdown",
   "id": "4278ceb1",
   "metadata": {},
   "source": [
    "## 1.1 Hardware Setup"
   ]
  },
  {
   "cell_type": "markdown",
   "id": "f18a5a09",
   "metadata": {},
   "source": [
    "To fully run this notebook, you will need to have a ZCU111 with the XM500 Balun card attached. Connect ADC XXX to DAC XXX and ADC XXX ."
   ]
  },
  {
   "cell_type": "markdown",
   "id": "944469c4",
   "metadata": {},
   "source": [
    "***Picutre of Board in Loopback (label ADC and DAC ports)***"
   ]
  },
  {
   "cell_type": "markdown",
   "id": "2c8ecddc",
   "metadata": {},
   "source": [
    "## 1.2 Overlay Design"
   ]
  },
  {
   "cell_type": "markdown",
   "id": "092fb959",
   "metadata": {},
   "source": [
    "The overlay design is built in Vivado 2021.2. The design sources all clocks from the RFDC ADC and DAC tile PLL's. All optional resets in the design have been tied off to improve timing performance and resource utilization. Note the RFDC, DAC Replay, and MIG blocks require functioning resets. "
   ]
  },
  {
   "cell_type": "markdown",
   "id": "4c8b615b",
   "metadata": {},
   "source": [
    "<img src=\"images/overlay.png\" alt=\"drawing\" width=\"990\"/>"
   ]
  },
  {
   "cell_type": "markdown",
   "id": "c7b9c5ac",
   "metadata": {},
   "source": [
    "## 1.3 Imports, Download Overlay"
   ]
  },
  {
   "cell_type": "code",
   "execution_count": 1,
   "id": "ae7ad640",
   "metadata": {
    "pycharm": {
     "name": "#%%\n"
    }
   },
   "outputs": [
    {
     "data": {
      "application/javascript": [
       "\n",
       "try {\n",
       "require(['notebook/js/codecell'], function(codecell) {\n",
       "  codecell.CodeCell.options_default.highlight_modes[\n",
       "      'magic_text/x-csrc'] = {'reg':[/^%%microblaze/]};\n",
       "  Jupyter.notebook.events.one('kernel_ready.Kernel', function(){\n",
       "      Jupyter.notebook.get_cells().map(function(cell){\n",
       "          if (cell.cell_type == 'code'){ cell.auto_highlight(); } }) ;\n",
       "  });\n",
       "});\n",
       "} catch (e) {};\n"
      ]
     },
     "metadata": {},
     "output_type": "display_data"
    },
    {
     "data": {
      "application/javascript": [
       "\n",
       "try {\n",
       "require(['notebook/js/codecell'], function(codecell) {\n",
       "  codecell.CodeCell.options_default.highlight_modes[\n",
       "      'magic_text/x-csrc'] = {'reg':[/^%%pybind11/]};\n",
       "  Jupyter.notebook.events.one('kernel_ready.Kernel', function(){\n",
       "      Jupyter.notebook.get_cells().map(function(cell){\n",
       "          if (cell.cell_type == 'code'){ cell.auto_highlight(); } }) ;\n",
       "  });\n",
       "});\n",
       "} catch (e) {};\n"
      ]
     },
     "metadata": {},
     "output_type": "display_data"
    }
   ],
   "source": [
    "import logging\n",
    "logging.basicConfig()\n",
    "logging.getLogger('mkidgen3').setLevel('DEBUG')\n",
    "import pynq\n",
    "import time\n",
    "from pynq import PL\n",
    "\n",
    "import numpy as np\n",
    "from fpbinary import FpBinary\n",
    "import matplotlib.pyplot as plt\n",
    "from scipy.fftpack import fft, fftfreq, fftshift\n",
    "import scipy.io as sio\n",
    "import mkidgen3 as g3\n",
    "import mkidgen3.mkidpynq as mkidpynq\n",
    "import mkidgen3.util\n",
    "import mkidgen3.plotting\n",
    "from mkidgen3.daccomb import generate_dac_comb\n",
    "from mkidgen3.drivers import axiswitch, bintores, capture, ddc, dactable, axififo, rfdc"
   ]
  },
  {
   "cell_type": "code",
   "execution_count": 2,
   "id": "02bca40b",
   "metadata": {
    "pycharm": {
     "name": "#%%\n"
    }
   },
   "outputs": [
    {
     "name": "stderr",
     "output_type": "stream",
     "text": [
      "INFO:mkidgen3:PL Bitfile: /home/xilinx/jupyter_notebooks/fccm22_demo/fccm22_demo.bit (2022/5/9 17:46:26 +112764)  Loaded: True\n"
     ]
    }
   ],
   "source": [
    "# Download Overlay, Optionally Configure Clocks\n",
    "ol = g3.configure('fccm22_demo.bit', clocks=True, external_10mhz=True, ignore_version=True)"
   ]
  },
  {
   "cell_type": "markdown",
   "id": "15b694a5",
   "metadata": {},
   "source": [
    "# 2. IP Blocks"
   ]
  },
  {
   "cell_type": "markdown",
   "id": "8f655164",
   "metadata": {},
   "source": [
    "The demo overlay contains four major IP subsystems: DAC Replay, OPFB, Bin Select, and Capture. The remainder of this notebook will walk you through the IP we have developed and how to use them."
   ]
  },
  {
   "cell_type": "markdown",
   "id": "d10bc580",
   "metadata": {},
   "source": [
    "## 2.1 DAC Replay\n",
    "The DAC Replay is a Vitis HLS IP. The source code along with the exported IP is available [here](https://github.com/MazinLab/dac-replay/tree/master). The DAC Replay IP is implemented as a 60 URAM look-up-table which totals 2MiB of waveform data. The URAM is programmed with 2^19 complex values where the real and complex parts are each 16-bits. The real and complex signal components are fed to two RFSoC DACs each running at 4.096 GSPS. This allows us to generate arbitrary waveforms in the [-2048 MHz, 2048 MHz) range with 4.096 GHz / 2^19 =  7.8125 KHz resolution. \n",
    "\n",
    "The DAC Replay IP supports replaying all 2^19 samples in a loop or a smaller (integer multiple of 16) range of samples. The IP also supports generating a TLAST signal on a group of 16 samples. The IP outputs two 256-bit AXI-4 streams at 256 MHz, one feeds the I DAC and the other the Q DAC. An example of the AXI4-Stream format for the real data (I DAC) is shown below. \n"
   ]
  },
  {
   "cell_type": "code",
   "execution_count": null,
   "id": "440ae66e",
   "metadata": {},
   "outputs": [],
   "source": [
    "import nbwavedrom as wd"
   ]
  },
  {
   "cell_type": "code",
   "execution_count": null,
   "id": "ee33cc7e",
   "metadata": {},
   "outputs": [],
   "source": [
    "wd.draw({\n",
    "'signal': [\n",
    "  {'name': 'clk', 'wave': 'p.....|...'},\n",
    "  {'name': 'tlast', 'wave': '0.10...'},\n",
    "  {'name': 'data[0:15]', 'wave': 'x.345x|=x', 'data': ['i_33', 'i_16','i_0','idata']},\n",
    "  {'name': 'data[16:32]', 'wave': 'x.345x|=x', 'data': ['i_34', 'i_17','i_1','idata']},\n",
    "  {'name': 'data[33:49]', 'wave': 'x.345x|=x', 'data': ['i_35', 'i_18','i_2','idata']},\n",
    "  {'name': 'data[50:66]', 'wave': 'x.345x|=x', 'data': ['i_36', 'i_19','i_3','idata']},\n",
    "  {},\n",
    "  {'name': 'data[239:255]', 'wave': 'x.345x|=x', 'data': ['i_49', 'i_32','i_15','idata']},\n",
    "]})"
   ]
  },
  {
   "cell_type": "markdown",
   "id": "770a4036",
   "metadata": {},
   "source": [
    "The core is programmed over AXI4-Lite using the DAC Replay Python driver availbale [here](https://github.com/MazinLab/MKIDGen3/blob/develop/mkidgen3/drivers/dactable.py). This core is nominally used to feed two RFSoC DACs but it is also possible to stream data to other DSP logic within the FPGA fabric to test IP subsystems with data manufactured in Python. Please contact the authors to learn more about this use case."
   ]
  },
  {
   "cell_type": "markdown",
   "id": "e2d3ed4e",
   "metadata": {},
   "source": [
    "### DAC Waveform"
   ]
  },
  {
   "cell_type": "markdown",
   "id": "c491478b",
   "metadata": {},
   "source": [
    "The following cells demonstrate how to construct an arbitrary waveform and play it out of the DACs."
   ]
  },
  {
   "cell_type": "code",
   "execution_count": 62,
   "id": "7d441d2b",
   "metadata": {
    "pycharm": {
     "name": "#%%\n"
    }
   },
   "outputs": [],
   "source": [
    "#Set tones to send (in Hz). Domain is [-2047,2048) MHz. Set the SNR for a noise floor, `'max'` will turn off noise.\n",
    "tones = np.array([300e6, 300.5e6])\n",
    "amplitudes = np.ones_like(tones)/tones.shape[0]\n",
    "snr = 'max'"
   ]
  },
  {
   "cell_type": "code",
   "execution_count": 63,
   "id": "f1651b60",
   "metadata": {
    "pycharm": {
     "name": "#%%\n"
    }
   },
   "outputs": [],
   "source": [
    "Ns=2**19 # fill the DAC LUT Table\n",
    "in_noise = 0\n",
    "if snr != 'max':\n",
    "    a_noise = 10**((20*np.log10(1/np.sqrt(2)) - snr)/10)\n",
    "    in_noise = np.sqrt(a_noise)*(np.random.uniform(-1,1,size=Ns) + 1j*np.random.uniform(-1,1,size=Ns))"
   ]
  },
  {
   "cell_type": "code",
   "execution_count": 64,
   "id": "f3e9a13f",
   "metadata": {
    "pycharm": {
     "name": "#%%\n"
    }
   },
   "outputs": [],
   "source": [
    "# Compute the waveform\n",
    "dactable = generate_dac_comb(frequencies=tones, n_samples=Ns, sample_rate=4.096e9, amplitudes=amplitudes)\n",
    "if snr != 'max':\n",
    "    dactable['iq']+=in_noise\n",
    "    dactable['iq']/=max(dactable['iq'].real, dactable['iq'].imag)\n",
    "    pass"
   ]
  },
  {
   "cell_type": "code",
   "execution_count": 65,
   "id": "d288dbc8",
   "metadata": {
    "pycharm": {
     "name": "#%%\n"
    }
   },
   "outputs": [],
   "source": [
    "# Program URAM and run DAC Table\n",
    "if ol.dac_table_axim_0.register_map.run.run:\n",
    "    ol.dac_table_axim_0.stop()\n",
    "ol.dac_table_axim_0.replay(dactable['iq'], fpgen='simple')"
   ]
  },
  {
   "cell_type": "markdown",
   "id": "b08bf403",
   "metadata": {},
   "source": [
    "At this point, you should be able to measure the DAC output using a Spectrum Analyzer or Oscilloscope. You can also use the RFSoC ADCs! Keep scrolling to see how."
   ]
  },
  {
   "cell_type": "markdown",
   "id": "374f09c9",
   "metadata": {},
   "source": [
    "### Capture & Plot DAC Output Using RFSoC ADCs"
   ]
  },
  {
   "cell_type": "markdown",
   "id": "4dc3fd8a",
   "metadata": {},
   "source": [
    "With the ZCU111 connected in loopback, we can sample the DAC output with the RFSoC ADCs and capture the result to the PL DRAM where we can visualize it in this notebook."
   ]
  },
  {
   "cell_type": "code",
   "execution_count": 66,
   "id": "4db3566e",
   "metadata": {
    "pycharm": {
     "name": "#%%\n"
    }
   },
   "outputs": [],
   "source": [
    "N = Ns # Number of samples to capture (full waveform)\n",
    "Fs = 4.096e9 # ADC Sample Rate [Hz]\n",
    "Tc = N/Fs # total collection time (seconds)\n",
    "#time = np.linspace(0, Tc, N) # Time vector (seconds)"
   ]
  },
  {
   "cell_type": "code",
   "execution_count": 76,
   "id": "c2547475",
   "metadata": {
    "pycharm": {
     "name": "#%%\n"
    }
   },
   "outputs": [
    {
     "name": "stderr",
     "output_type": "stream",
     "text": [
      "DEBUG:mkidgen3.drivers.capture:Capturing 2.0 MB of data @ 16384 MB/s. ETA 0 ms\n",
      "DEBUG:mkidgen3.drivers.capture:Starting capture of 2097152 bytes (32768 beats) to address 0x500800000 from source adc\n"
     ]
    }
   ],
   "source": [
    "# Trigger Capture\n",
    "adc_capture_data = ol.capture.capture_adc(N, complex=True)\n",
    "adc_capture_data/=2**16  #Normalize to 1/2 V"
   ]
  },
  {
   "cell_type": "code",
   "execution_count": 80,
   "id": "d54a8805",
   "metadata": {
    "pycharm": {
     "name": "#%%\n"
    }
   },
   "outputs": [
    {
     "data": {
      "image/png": "[encoded data removed]",
      "text/plain": [
       "<Figure size 720x432 with 3 Axes>"
      ]
     },
     "metadata": {
      "needs_background": "light"
     },
     "output_type": "display_data"
    }
   ],
   "source": [
    "# Plot ADC Data\n",
    "timerange = (0,120)  # ns\n",
    "fftrange= (16, 16 + 20*4096) \n",
    "fftzoom = (2.9e8, 3.1e8)\n",
    "mkidgen3.plotting.adc_test_plot(adc_capture_data, timerange, fftrange, fftzoom, figsize=(10, 6))"
   ]
  },
  {
   "cell_type": "markdown",
   "id": "41e19fa6",
   "metadata": {},
   "source": [
    "### QMC Correction"
   ]
  },
  {
   "cell_type": "markdown",
   "id": "c42b7e0f",
   "metadata": {},
   "source": [
    "In the plots above, you may have noticed we generated the frequencies desired, but we also generated image tones on the other half of the spectrum. This is due to slight gain, phase, and offset imbalances in the I and Q ADCs and DACs. As is, there should be a ~40 dB offset. This is good enough for our application (and most) but it is possible to use the built-in QMC circuit to try to correct for these imbalances. The figure below is copied from [PG269 page v2.4 page 140](https://docs.xilinx.com/v/u/2.4-English/pg269-rf-data-converter)."
   ]
  },
  {
   "cell_type": "markdown",
   "id": "35b7868d",
   "metadata": {},
   "source": [
    "<img src=\"images/qmc.png\" alt=\"drawing\" width=\"500\"/>"
   ]
  },
  {
   "cell_type": "markdown",
   "id": "f69d69f0",
   "metadata": {},
   "source": [
    "In this design the I DAC is dac(1,3) and the Q DAC is dac(1,4)."
   ]
  },
  {
   "cell_type": "code",
   "execution_count": 31,
   "id": "c030aa9b",
   "metadata": {},
   "outputs": [
    {
     "name": "stdout",
     "output_type": "stream",
     "text": [
      "Setting DAC Tile 1, Block 3\n"
     ]
    },
    {
     "data": {
      "text/plain": [
       "{'EnableGain': 0,\n",
       " 'EnablePhase': 0,\n",
       " 'EventSource': 0,\n",
       " 'GainCorrectionFactor': 0.0,\n",
       " 'OffsetCorrectionFactor': 0,\n",
       " 'PhaseCorrectionFactor': 0.0}"
      ]
     },
     "execution_count": 31,
     "metadata": {},
     "output_type": "execute_result"
    }
   ],
   "source": [
    "ol.rfdc.set_qmc(dac=(1,3), gain=0.5)"
   ]
  },
  {
   "cell_type": "code",
   "execution_count": 32,
   "id": "270e1fcc",
   "metadata": {},
   "outputs": [
    {
     "name": "stderr",
     "output_type": "stream",
     "text": [
      "DEBUG:mkidgen3.drivers.capture:Capturing 2.0 MB of data @ 16384 MB/s. ETA 0 ms\n",
      "DEBUG:mkidgen3.drivers.capture:Starting capture of 2097152 bytes (32768 beats) to address 0x500400000 from source adc\n"
     ]
    }
   ],
   "source": [
    "# Trigger another ADC Capture\n",
    "adc_capture_data = ol.capture.capture_adc(N, complex=True)\n",
    "adc_capture_data/=2**16  #Normalize to 1/2 V"
   ]
  },
  {
   "cell_type": "code",
   "execution_count": 75,
   "id": "e4e4f68c",
   "metadata": {},
   "outputs": [
    {
     "data": {
      "image/png": "[encoded data removed]",
      "text/plain": [
       "<Figure size 432x288 with 1 Axes>"
      ]
     },
     "metadata": {
      "needs_background": "light"
     },
     "output_type": "display_data"
    }
   ],
   "source": [
    "# Plot ADC Capture\n",
    "mkidgen3.plotting.plot_adc_fft(adc_capture_data, fs=4.096e9, db=True, fft_points=2**14, xlim=(-2.048e9,2.048e9), ylim=None, ax=None)"
   ]
  },
  {
   "cell_type": "markdown",
   "id": "4bac822c",
   "metadata": {},
   "source": [
    "As you may have discovered the QMC is very sensitive. It's hard to do better than 40 dB-- almost any noticable change will make it much worse!"
   ]
  },
  {
   "cell_type": "code",
   "execution_count": 81,
   "id": "21f1e644",
   "metadata": {},
   "outputs": [
    {
     "name": "stdout",
     "output_type": "stream",
     "text": [
      "Setting DAC Tile 1, Block 3\n"
     ]
    },
    {
     "data": {
      "text/plain": [
       "{'EnableGain': 0,\n",
       " 'EnablePhase': 0,\n",
       " 'EventSource': 0,\n",
       " 'GainCorrectionFactor': 0.0,\n",
       " 'OffsetCorrectionFactor': 0,\n",
       " 'PhaseCorrectionFactor': 0.0}"
      ]
     },
     "execution_count": 81,
     "metadata": {},
     "output_type": "execute_result"
    }
   ],
   "source": [
    "# Return to Default Settings\n",
    "ol.rfdc.set_qmc(dac=(1,3))"
   ]
  },
  {
   "cell_type": "markdown",
   "id": "b7482c49",
   "metadata": {},
   "source": [
    "### 1.2.2 Oversampled Polyphase Filter Bank (OPFB)"
   ]
  },
  {
   "cell_type": "markdown",
   "id": "ee0c2050",
   "metadata": {},
   "source": [
    "The OPFB is a 4,096-channel, 2/1 oversampled 4 GHz channelizer. It takes in 2, 4.096 GSPS data streams--one from and I ADC and the other from a Q ADC, and produces 4096 2 MHz channels which overlap by 50%. This overlapping feature insures that no matter where a signal exists in-band, it will be able to pass through the channelizer un-attenuated. This IP is the subject of [this publication](https://ieeexplore.ieee.org/document/9336352) and is also documented in a [stand-alone git repo](https://github.com/MazinLab/RFSoC_OPFB).\n",
    "\n",
    "After being sampled by the ADCs, we can run the data through the OPFB IP and capture the result to the PPL DDR4 for visualization."
   ]
  },
  {
   "cell_type": "markdown",
   "id": "f3356be7",
   "metadata": {
    "pycharm": {
     "name": "#%% md\n"
    }
   },
   "source": [
    "## OPFB Capture"
   ]
  },
  {
   "cell_type": "markdown",
   "id": "9834a034",
   "metadata": {},
   "source": [
    "<script src=\"https://cdnjs.cloudflare.com/ajax/libs/wavedrom/2.6.8/skins/default.js\" type=\"text/javascript\"></script>\n",
    "<body onload=\"WaveDrom.ProcessAll()\">\n",
    "<script type=\"WaveDrom\">\n",
    "{ signal : [\n",
    "  { name: \"clk\",  wave: \"p......\" },\n",
    "  { name: \"bus\",  wave: \"x.34.5x\",   data: \"head body tail\" },\n",
    "  { name: \"wire\", wave: \"0.1..0.\" },\n",
    "]}\n",
    "</script>"
   ]
  },
  {
   "cell_type": "code",
   "execution_count": null,
   "id": "8b6760e4",
   "metadata": {
    "pycharm": {
     "name": "#%%\n"
    },
    "scrolled": true
   },
   "outputs": [],
   "source": [
    "# Capture N samples from all 4096 OPFB Bins\n",
    "opfb_raw = g3.capture_opfb(1024, raw=True)\n",
    "# Convert to complex numbers\n",
    "opfb_fp = opfb_raw[..., 0] + 1j*(opfb_raw[..., 1])"
   ]
  },
  {
   "cell_type": "code",
   "execution_count": null,
   "id": "876031ec",
   "metadata": {
    "pycharm": {
     "name": "#%%\n"
    }
   },
   "outputs": [],
   "source": [
    "# Bin Offset Correction (Author's are working to fix)\n",
    "opfb_shifted = np.roll(opfb_fp, 16, axis=1)"
   ]
  },
  {
   "cell_type": "markdown",
   "id": "c5332e5a",
   "metadata": {
    "pycharm": {
     "name": "#%% md\n"
    }
   },
   "source": [
    "# Plot OPFB"
   ]
  },
  {
   "cell_type": "code",
   "execution_count": null,
   "id": "a25a3e6f",
   "metadata": {
    "pycharm": {
     "name": "#%%\n"
    }
   },
   "outputs": [],
   "source": [
    "from mkidgen3.dsp import opfb_bin_spectrum, opfb_bin_freq"
   ]
  },
  {
   "cell_type": "code",
   "execution_count": null,
   "id": "3e453048",
   "metadata": {
    "pycharm": {
     "name": "#%%\n"
    }
   },
   "outputs": [],
   "source": [
    "def plot_opfb_bins(data, bins, fine_fft_shift = True, fft_shift = True, left_snip=0, ol=True):\n",
    "    \"\"\"\n",
    "    Inputs:\n",
    "    - data: Raw data out of OPFB. Should be in the form N x 4096 where N is the number of samples from a single bin.\n",
    "    - bins: list of OPFB bins 0 to 4095 (note bin 0 is far left in the +/- 2 GHz spectrum).\n",
    "    - fine_fft_shift: boolean. To apply an fft shift to the fine fft spectrum of each bin or not. (You should.)\n",
    "    - fft_shift: boolean. To apply an fft shift to the entire OPFB output spectrum or not. (You should.)\n",
    "    - ol: To plot the bins as overlapping or discard the overlap region.\"\"\"\n",
    "\n",
    "    if fft_shift:\n",
    "        data = np.fft.fftshift(data, axes=1)\n",
    "    bin_freqs=opfb_bin_freq(bins, data.shape[0])\n",
    "    spectra=opfb_bin_spectrum(data,bins)\n",
    "\n",
    "    sl = slice(data.shape[0]//3, -data.shape[0]//3) if not ol else slice(0,-1)\n",
    "    plt.plot(bin_freqs[sl], spectra[sl])\n",
    "    return bin_freqs[sl], spectra[sl]"
   ]
  },
  {
   "cell_type": "code",
   "execution_count": null,
   "id": "7d948a2f",
   "metadata": {
    "pycharm": {
     "name": "#%%\n"
    }
   },
   "outputs": [],
   "source": [
    "all_bins = np.linspace(0,4095,4096).astype(int).tolist()"
   ]
  },
  {
   "cell_type": "code",
   "execution_count": null,
   "id": "419bb375",
   "metadata": {
    "pycharm": {
     "name": "#%%\n"
    }
   },
   "outputs": [],
   "source": [
    "plt.subplot(211)\n",
    "plot_opfb_bins(opfb_shifted,[2347,2348,2349,2350]);\n",
    "plt.subplot(212)\n",
    "plot_opfb_bins(opfb_shifted,[2347,2348,2350]);\n"
   ]
  },
  {
   "cell_type": "code",
   "execution_count": null,
   "id": "97a62c58",
   "metadata": {},
   "outputs": [],
   "source": [
    "plot_opfb_bins(opfb_shifted,all_bins)"
   ]
  },
  {
   "cell_type": "markdown",
   "id": "82001ce0",
   "metadata": {},
   "source": [
    "### 1.2.3 Bin Select"
   ]
  },
  {
   "cell_type": "markdown",
   "id": "b15c6c06",
   "metadata": {},
   "source": [
    "The bin select block is a Vitis HLS IP. The source code along with the exported IP is available [here](https://github.com/MazinLab/opfb-bin-to-res/tree/2021.1). The bin select block caches 8 full spectra from the 4,096-bin channelizer and assigns up to 2048 output bins to user defined channels. The user programs the core over AXI4-Lite to tell it which of the 4096 input OPFB bins to map to which of the 2048 output channels with arbitrary mapping. An example of how we might program the bin select block is shown in the figure below."
   ]
  },
  {
   "cell_type": "markdown",
   "id": "c7bd1ec7",
   "metadata": {},
   "source": [
    "<img src=\"images/Bin_Select_Notebookl.png\" alt=\"drawing\" width=\"600\"/>"
   ]
  }
 ],
 "metadata": {
  "kernelspec": {
   "display_name": "Python 3",
   "language": "python",
   "name": "python3"
  },
  "language_info": {
   "codemirror_mode": {
    "name": "ipython",
    "version": 3
   },
   "file_extension": ".py",
   "mimetype": "text/x-python",
   "name": "python",
   "nbconvert_exporter": "python",
   "pygments_lexer": "ipython3",
   "version": "3.8.2"
  }
 },
 "nbformat": 4,
 "nbformat_minor": 5
}
