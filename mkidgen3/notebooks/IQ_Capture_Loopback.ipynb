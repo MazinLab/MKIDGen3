{
 "cells": [
  {
   "cell_type": "markdown",
   "id": "0162fd09",
   "metadata": {},
   "source": [
    "# Imports"
   ]
  },
  {
   "cell_type": "code",
   "execution_count": 1,
   "id": "576b8d1c",
   "metadata": {},
   "outputs": [
    {
     "data": {
      "application/javascript": [
       "\n",
       "try {\n",
       "require(['notebook/js/codecell'], function(codecell) {\n",
       "  codecell.CodeCell.options_default.highlight_modes[\n",
       "      'magic_text/x-csrc'] = {'reg':[/^%%pybind11/]};\n",
       "  Jupyter.notebook.events.one('kernel_ready.Kernel', function(){\n",
       "      Jupyter.notebook.get_cells().map(function(cell){\n",
       "          if (cell.cell_type == 'code'){ cell.auto_highlight(); } }) ;\n",
       "  });\n",
       "});\n",
       "} catch (e) {};\n"
      ]
     },
     "metadata": {},
     "output_type": "display_data"
    }
   ],
   "source": [
    "import pynq\n",
    "import time\n",
    "from pynq import PL\n",
    "import xrfclk\n",
    "import xrfdc\n",
    "import numpy as np\n",
    "from fpbinary import FpBinary\n",
    "import matplotlib.pyplot as plt\n",
    "from scipy.fftpack import fft, fftfreq, fftshift\n",
    "import mkidgen3 as g3\n",
    "import mkidgen3.mkidpynq as mkidpynq\n",
    "import mkidgen3.daccomb as daccomb\n",
    "import mkidgen3\n",
    "from mkidgen3.daccomb import generateTones\n",
    "from mkidgen3.drivers import axiswitch, bintores, capture, ddc, dactable, axififo, rfdc"
   ]
  },
  {
   "cell_type": "markdown",
   "id": "fd1602e3",
   "metadata": {},
   "source": [
    "# Load the Overlay and Mig Allocation XCLBIN"
   ]
  },
  {
   "cell_type": "code",
   "execution_count": 2,
   "id": "1f0a0305",
   "metadata": {},
   "outputs": [
    {
     "name": "stdout",
     "output_type": "stream",
     "text": [
      "PL Bitfile: /home/xilinx/jupyter_notebooks/Unit_Tests/Full_Channelizer/filter_2cap/gen3_512_iqsweep.bit\n",
      "PL Timestamp: 2022/1/10 20:16:28 +521528\n",
      "Overlay timestamp: 2022/1/10 20:16:28 +521528  Loaded: True\n"
     ]
    }
   ],
   "source": [
    "ol = pynq.Overlay('filter_2cap/gen3_512_iqsweep.bit', ignore_version=True, download=True)\n",
    "print(f\"PL Bitfile: {PL.bitfile_name}\\nPL Timestamp: {PL.timestamp}\\n\"\n",
    "      f\"Overlay timestamp: {ol.timestamp}  Loaded: {ol.is_loaded()}\")\n",
    "#xrt_ol = pynq.Overlay('mig_modified_ip_layout_mem_topology.xclbin', device=pynq.Device.devices[1], download=True)"
   ]
  },
  {
   "cell_type": "markdown",
   "id": "3adaba9b",
   "metadata": {},
   "source": [
    "Tell mkidgen3"
   ]
  },
  {
   "cell_type": "code",
   "execution_count": 3,
   "id": "c8a30e04",
   "metadata": {},
   "outputs": [],
   "source": [
    "mkidpynq.PL_DDR4_ADDR = 0x500000000\n",
    "g3._gen3_overlay=ol\n",
    "# g3._mig_overlay=xrt_ol"
   ]
  },
  {
   "cell_type": "markdown",
   "id": "8db85064",
   "metadata": {},
   "source": [
    "## Fire Up the RFDC"
   ]
  },
  {
   "cell_type": "code",
   "execution_count": null,
   "id": "fc2c0cf6",
   "metadata": {},
   "outputs": [],
   "source": [
    "#xrfclk.set_all_ref_clks(409.6)\n",
    "# new driver: xrfclk.set_ref_clks(409.6)"
   ]
  },
  {
   "cell_type": "code",
   "execution_count": 4,
   "id": "ed2631bc",
   "metadata": {},
   "outputs": [],
   "source": [
    "rfdc=ol.usp_rf_data_converter_0\n",
    "adc_tile = rfdc.adc_tiles[2]\n",
    "adc0 = adc_tile.blocks[0]\n",
    "adc1 = adc_tile.blocks[1]\n",
    "dac_tile = rfdc.dac_tiles[0]\n",
    "dac0 = dac_tile.blocks[0]\n",
    "dac1 = dac_tile.blocks[1]"
   ]
  },
  {
   "cell_type": "code",
   "execution_count": 5,
   "id": "8e0defad",
   "metadata": {},
   "outputs": [
    {
     "name": "stdout",
     "output_type": "stream",
     "text": [
      "10\n",
      "ADC0\n",
      "  Restart Power-On State Machine:  0\n",
      "  Restart State:  15\n",
      "  Current State:  15\n",
      "  Reset Count:  0\n",
      "  Interrupt Status:  0\n",
      "  Tile Common Status:  71\n",
      "  Tile Disable:  0\n",
      "ADC1\n",
      "  Restart Power-On State Machine:  0\n",
      "  Restart State:  15\n",
      "  Current State:  15\n",
      "  Reset Count:  0\n",
      "  Interrupt Status:  0\n",
      "  Tile Common Status:  71\n",
      "  Tile Disable:  0\n",
      "ADC2\n",
      "  Restart Power-On State Machine:  0\n",
      "  Restart State:  15\n",
      "  Current State:  15\n",
      "  Reset Count:  0\n",
      "  Interrupt Status:  0\n",
      "  Tile Common Status:  12015\n",
      "  Tile Disable:  0\n",
      "ADC3\n",
      "  Restart Power-On State Machine:  0\n",
      "  Restart State:  15\n",
      "  Current State:  15\n",
      "  Reset Count:  0\n",
      "  Interrupt Status:  0\n",
      "  Tile Common Status:  71\n",
      "  Tile Disable:  0\n",
      "DAC0\n",
      "  Restart Power-On State Machine:  0\n",
      "  Restart State:  15\n",
      "  Current State:  15\n",
      "  Reset Count:  0\n",
      "  Interrupt Status:  0\n",
      "  Tile Common Status:  54351\n",
      "  Tile Disable:  0\n",
      "DAC1\n",
      "  Restart Power-On State Machine:  0\n",
      "  Restart State:  15\n",
      "  Current State:  15\n",
      "  Reset Count:  0\n",
      "  Interrupt Status:  0\n",
      "  Tile Common Status:  71\n",
      "  Tile Disable:  0\n"
     ]
    }
   ],
   "source": [
    "dac0.QMCSettings = {\n",
    "    'EnableGain': 1,\n",
    "    'EnablePhase': 0,\n",
    "    'EventSource': 0,\n",
    "    'GainCorrectionFactor': 1.9,\n",
    "    'OffsetCorrectionFactor': 0,\n",
    "    'PhaseCorrectionFactor': 0.0\n",
    "}\n",
    "dac0.UpdateEvent(xrfdc.EVENT_QMC)\n",
    "dac1.QMCSettings = {\n",
    "    'EnableGain': 1,\n",
    "    'EnablePhase': 0,\n",
    "    'EventSource': 0,\n",
    "    'GainCorrectionFactor': 1.9,\n",
    "    'OffsetCorrectionFactor': 0,\n",
    "    'PhaseCorrectionFactor': 0.0\n",
    "}\n",
    "dac0.UpdateEvent(xrfdc.EVENT_QMC)\n",
    "mkidgen3.drivers.rfdc.status()"
   ]
  },
  {
   "cell_type": "markdown",
   "id": "acd6c57d",
   "metadata": {},
   "source": [
    "## Fetch Blocks"
   ]
  },
  {
   "cell_type": "code",
   "execution_count": null,
   "id": "44cb0ee0",
   "metadata": {},
   "outputs": [],
   "source": []
  },
  {
   "cell_type": "code",
   "execution_count": 7,
   "id": "b2fe022b",
   "metadata": {},
   "outputs": [],
   "source": [
    "rfdc=ol.usp_rf_data_converter_0\n",
    "cap=ol.capture\n",
    "#switch = ol.capture.axis_switch_0\n",
    "#fifo=ol.capture.axi_fifo_mm_s_0\n",
    "replay = ol.dac_table_axim_0\n",
    "axiint = ol.axi_intc_0\n",
    "ddc=ol.photon_pipe.reschan.resonator_ddc\n",
    "bin2res = ol.photon_pipe.reschan.bin_to_res"
   ]
  },
  {
   "cell_type": "code",
   "execution_count": null,
   "id": "b05f0361",
   "metadata": {
    "scrolled": true
   },
   "outputs": [],
   "source": [
    "self=fifo\n",
    "addr = self.register_map.RDFD.address\n",
    "occ = self.rx_occupancy\n",
    "data = []\n",
    "for _ in range(occ):\n",
    "    x=self.mmio.read(addr)\n",
    "    data.extend([x & 0xffff, x>>16] )\n",
    "    \n",
    "\n",
    "print(occ, data[:10])"
   ]
  },
  {
   "cell_type": "code",
   "execution_count": null,
   "id": "97913c09",
   "metadata": {},
   "outputs": [],
   "source": [
    "switch.set_master(1,commit=True)"
   ]
  },
  {
   "cell_type": "markdown",
   "id": "8a7f35e3",
   "metadata": {},
   "source": [
    "### Allocate a Chunk of PLDRAM"
   ]
  },
  {
   "cell_type": "code",
   "execution_count": null,
   "id": "34e7bcc3",
   "metadata": {},
   "outputs": [],
   "source": [
    "pl_buf = pynq.allocate((2**29,2), 'i2', target=xrt_ol.MIG0) # 2**30 is 4 GiB"
   ]
  },
  {
   "cell_type": "code",
   "execution_count": null,
   "id": "8469c9d2",
   "metadata": {},
   "outputs": [],
   "source": [
    "pl_buf[:]"
   ]
  },
  {
   "cell_type": "code",
   "execution_count": 10,
   "id": "d6af5d37",
   "metadata": {},
   "outputs": [
    {
     "data": {
      "text/plain": [
       "[0,\n",
       " 2,\n",
       " 4,\n",
       " 6,\n",
       " 8,\n",
       " 10,\n",
       " 12,\n",
       " 14,\n",
       " 16,\n",
       " 18,\n",
       " 20,\n",
       " 22,\n",
       " 24,\n",
       " 26,\n",
       " 28,\n",
       " 30,\n",
       " 32,\n",
       " 34,\n",
       " 36,\n",
       " 38,\n",
       " 40,\n",
       " 42,\n",
       " 44,\n",
       " 46,\n",
       " 48,\n",
       " 50,\n",
       " 52,\n",
       " 54,\n",
       " 56,\n",
       " 58,\n",
       " 60,\n",
       " 62,\n",
       " 64,\n",
       " 66,\n",
       " 68,\n",
       " 70,\n",
       " 72,\n",
       " 74,\n",
       " 76,\n",
       " 78,\n",
       " 80,\n",
       " 82,\n",
       " 84,\n",
       " 86,\n",
       " 88,\n",
       " 90,\n",
       " 92,\n",
       " 94,\n",
       " 96,\n",
       " 98,\n",
       " 100,\n",
       " 102,\n",
       " 104,\n",
       " 106,\n",
       " 108,\n",
       " 110,\n",
       " 112,\n",
       " 114,\n",
       " 116,\n",
       " 118,\n",
       " 120,\n",
       " 122,\n",
       " 124,\n",
       " 126]"
      ]
     },
     "execution_count": 10,
     "metadata": {},
     "output_type": "execute_result"
    }
   ],
   "source": [
    "list(range(0,128,2))"
   ]
  },
  {
   "cell_type": "code",
   "execution_count": 9,
   "id": "4a8fbd41",
   "metadata": {},
   "outputs": [
    {
     "data": {
      "text/plain": [
       "RegisterMap {\n",
       "  keep_1 = Register(keep=1431655765),\n",
       "  keep_2 = Register(keep=1431655765),\n",
       "  keep_3 = Register(keep=1431655765),\n",
       "  keep_4 = Register(keep=1431655765),\n",
       "  keep_5 = Register(keep=0),\n",
       "  keep_6 = Register(keep=0),\n",
       "  keep_7 = Register(keep=0),\n",
       "  keep_8 = Register(keep=0),\n",
       "  lastgrp = Register(lastgrp=126, RESERVED=0)\n",
       "}"
      ]
     },
     "execution_count": 9,
     "metadata": {},
     "output_type": "execute_result"
    }
   ],
   "source": [
    "cap.filter_iq.keep=range(0,128,2)\n",
    "cap.filter_iq.register_map"
   ]
  },
  {
   "cell_type": "code",
   "execution_count": null,
   "id": "274caba7",
   "metadata": {},
   "outputs": [],
   "source": [
    "cap.write_axi256_0.capture(128, pl_buf.device_address)"
   ]
  },
  {
   "cell_type": "code",
   "execution_count": 11,
   "id": "80ed51de",
   "metadata": {},
   "outputs": [],
   "source": [
    "cap.write_axi256_0.capture(128, 0x500000000)"
   ]
  },
  {
   "cell_type": "code",
   "execution_count": 13,
   "id": "3e969779",
   "metadata": {},
   "outputs": [
    {
     "data": {
      "text/plain": [
       "RegisterMap {\n",
       "  CTRL = Register(AP_START=1, AP_DONE=0, AP_IDLE=0, AP_READY=0, RESERVED_1=0, AUTO_RESTART=0, RESERVED_2=0, RESERVED_3=0, RESERVED_4=0),\n",
       "  GIER = Register(Enable=0, RESERVED=0),\n",
       "  IP_IER = Register(CHAN0_INT_EN=0, CHAN1_INT_EN=0, RESERVED=0),\n",
       "  IP_ISR = Register(CHAN0_INT_ST=0, CHAN1_INT_ST=0, RESERVED=0),\n",
       "  capturesize = Register(capturesize=128, RESERVED=0),\n",
       "  out_r_1 = Register(out_r=0),\n",
       "  out_r_2 = Register(out_r=5)\n",
       "}"
      ]
     },
     "execution_count": 13,
     "metadata": {},
     "output_type": "execute_result"
    }
   ],
   "source": [
    "cap.write_axi256_0.register_map"
   ]
  },
  {
   "cell_type": "markdown",
   "id": "5b06182f",
   "metadata": {},
   "source": [
    "## Setup DAC REPLAY"
   ]
  },
  {
   "cell_type": "code",
   "execution_count": null,
   "id": "efbb6d7c",
   "metadata": {},
   "outputs": [],
   "source": [
    "f0=6.617570\n",
    "span=0.002\n",
    "offset=.5"
   ]
  },
  {
   "cell_type": "code",
   "execution_count": null,
   "id": "c5cb318b",
   "metadata": {},
   "outputs": [],
   "source": [
    "g3._gen3_overlay.dac_table_axim_0.register_map"
   ]
  },
  {
   "cell_type": "code",
   "execution_count": null,
   "id": "87b6eca3",
   "metadata": {},
   "outputs": [],
   "source": [
    "freq = np.array([(offset+0)*1e9])\n",
    "g3.set_waveform(freq)\n",
    "g3._gen3_overlay.dac_table_axim_0.register_map"
   ]
  },
  {
   "cell_type": "code",
   "execution_count": null,
   "id": "d4a8ea68",
   "metadata": {},
   "outputs": [],
   "source": [
    "g3._gen3_overlay.dac_table_axim_0._buffer[:10]"
   ]
  },
  {
   "cell_type": "code",
   "execution_count": null,
   "id": "b684a485",
   "metadata": {},
   "outputs": [],
   "source": [
    "g3.set_channels(freq)\n",
    "g3._gen3_overlay.photon_pipe.reschan.bin_to_res.bins[:20]"
   ]
  },
  {
   "cell_type": "code",
   "execution_count": null,
   "id": "21393f02",
   "metadata": {},
   "outputs": [],
   "source": [
    "freq = np.array([(offset+0)*1e9, .421*1e9])\n",
    "g3.set_tones(freq)\n",
    "ol.photon_pipe.reschan.resonator_ddc.tones"
   ]
  },
  {
   "cell_type": "code",
   "execution_count": null,
   "id": "65a20667",
   "metadata": {},
   "outputs": [],
   "source": [
    "g3._gen3_overlay.capture.axis_switch_0.set_master(1, commit=True)  # After the FIR"
   ]
  },
  {
   "cell_type": "code",
   "execution_count": null,
   "id": "534e2b64",
   "metadata": {},
   "outputs": [],
   "source": [
    "n=100"
   ]
  },
  {
   "cell_type": "code",
   "execution_count": null,
   "id": "b6b5779f",
   "metadata": {},
   "outputs": [],
   "source": [
    "#4 bytes per IQ * n * np.ceil(_frequencies.size/8)\n",
    "buf = pynq.allocate((2*n*int(np.ceil(freq.size/8)), 2), 'i2', target=g3._mig_overlay.MIG0)  # 2**30 is 4 GiB\n",
    "buf[:]=0"
   ]
  },
  {
   "cell_type": "code",
   "execution_count": null,
   "id": "00a5401e",
   "metadata": {},
   "outputs": [],
   "source": [
    "grp= np.arange(np.ceil(freq.size/8), dtype=int)\n",
    "n, grp"
   ]
  },
  {
   "cell_type": "code",
   "execution_count": null,
   "id": "aa34e399",
   "metadata": {},
   "outputs": [],
   "source": [
    "g3._gen3_overlay.capture.iq_capture_0.register_map"
   ]
  },
  {
   "cell_type": "code",
   "execution_count": null,
   "id": "da1cb172",
   "metadata": {},
   "outputs": [],
   "source": [
    "captime=g3._gen3_overlay.capture.iq_capture_0.capture(n, groups=grp, device_addr=0, start=False)\n",
    "g3._gen3_overlay.capture.iq_capture_0.start()\n",
    "g3._gen3_overlay.capture.iq_capture_0.register_map,time.sleep(captime*2),g3._gen3_overlay.capture.iq_capture_0.register_map"
   ]
  },
  {
   "cell_type": "code",
   "execution_count": null,
   "id": "86bf6903",
   "metadata": {},
   "outputs": [],
   "source": [
    "g3._gen3_overlay.capture.iq_capture_0.start()"
   ]
  },
  {
   "cell_type": "code",
   "execution_count": null,
   "id": "ac49a282",
   "metadata": {},
   "outputs": [],
   "source": [
    "g3._gen3_overlay.capture.iq_capture_0.register_map"
   ]
  },
  {
   "cell_type": "code",
   "execution_count": null,
   "id": "71af0469",
   "metadata": {},
   "outputs": [],
   "source": [
    "#     #TODO we need to wait for the core to signal done\n",
    "# g3._gen3_overlay.capture.iq_capture_0.start()\n",
    "time.sleep(captime*2)"
   ]
  },
  {
   "cell_type": "code",
   "execution_count": null,
   "id": "9a3842f0",
   "metadata": {},
   "outputs": [],
   "source": [
    "ddr4_mmio=pynq.MMIO(g3.mkidpynq.PL_DDR4_ADDR, length=2**32)"
   ]
  },
  {
   "cell_type": "code",
   "execution_count": null,
   "id": "df27bb56",
   "metadata": {},
   "outputs": [],
   "source": [
    "ddr4_mmio.array[:]=5"
   ]
  },
  {
   "cell_type": "code",
   "execution_count": null,
   "id": "a46a0b79",
   "metadata": {},
   "outputs": [],
   "source": [
    "ddr4_mmio.array[:1024].copy()[:100]"
   ]
  },
  {
   "cell_type": "code",
   "execution_count": null,
   "id": "b4447654",
   "metadata": {},
   "outputs": [],
   "source": [
    "buf[:]"
   ]
  },
  {
   "cell_type": "code",
   "execution_count": null,
   "id": "36a3d3df",
   "metadata": {},
   "outputs": [],
   "source": []
  },
  {
   "cell_type": "code",
   "execution_count": null,
   "id": "629299a4",
   "metadata": {},
   "outputs": [],
   "source": [
    "from mkidgen3.drivers.ddc import *"
   ]
  },
  {
   "cell_type": "code",
   "execution_count": null,
   "id": "4327d5cf",
   "metadata": {},
   "outputs": [],
   "source": [
    "tone_fmt = fp_factory(*DDC.TONE_FORMAT)"
   ]
  },
  {
   "cell_type": "code",
   "execution_count": null,
   "id": "69a800af",
   "metadata": {},
   "outputs": [],
   "source": [
    "tone_fmt(1).__index__()"
   ]
  },
  {
   "cell_type": "code",
   "execution_count": null,
   "id": "86c38028",
   "metadata": {},
   "outputs": [],
   "source": [
    "los = np.linspace(f0-span/2-offset, f0+span/2-offset,500)\n",
    "g3.set_lo_freq(los[0])"
   ]
  },
  {
   "cell_type": "code",
   "execution_count": null,
   "id": "f88fdfc6",
   "metadata": {},
   "outputs": [],
   "source": [
    "los[0]+"
   ]
  },
  {
   "cell_type": "code",
   "execution_count": null,
   "id": "c37a836f",
   "metadata": {},
   "outputs": [],
   "source": [
    "for lo in los:\n",
    "    g3.set_lo_freq(lo)\n",
    "    "
   ]
  },
  {
   "cell_type": "markdown",
   "id": "edd78d52",
   "metadata": {},
   "source": [
    "## Actual Tone(s)"
   ]
  },
  {
   "cell_type": "code",
   "execution_count": null,
   "id": "ad383cf4",
   "metadata": {},
   "outputs": [],
   "source": [
    "iq_capture.register_map"
   ]
  },
  {
   "cell_type": "code",
   "execution_count": null,
   "id": "c36df8c9",
   "metadata": {},
   "outputs": [],
   "source": [
    "tones = np.array([offset*1e9])"
   ]
  },
  {
   "cell_type": "code",
   "execution_count": null,
   "id": "e151ec03",
   "metadata": {},
   "outputs": [],
   "source": [
    "amplitudes = np.array([1.0])"
   ]
  },
  {
   "cell_type": "code",
   "execution_count": null,
   "id": "225d1c48",
   "metadata": {},
   "outputs": [],
   "source": [
    "dactable = generateTones(frequencies=tones, n_samples=2**19, sample_rate=4.096e9, amplitudes=amplitudes)\n",
    "i_data = dactable['I']\n",
    "q_data = dactable['Q']\n",
    "data = i_data + 1j*q_data"
   ]
  },
  {
   "cell_type": "code",
   "execution_count": null,
   "id": "e51a25d3",
   "metadata": {},
   "outputs": [],
   "source": [
    "dacreplay.stop()"
   ]
  },
  {
   "cell_type": "code",
   "execution_count": null,
   "id": "3b213e15",
   "metadata": {},
   "outputs": [],
   "source": [
    "x=(data*2**32)\n",
    "data=np.zeros_like(data, dtype=np.uint32)\n",
    "data[:]|=x.real.astype(np.int16)\n",
    "data[:]|=(x.imag.astype(np.int16)<<16)"
   ]
  },
  {
   "cell_type": "code",
   "execution_count": null,
   "id": "e3785d16",
   "metadata": {},
   "outputs": [],
   "source": [
    "ol.dac_table_axim_0.replay(data)\n",
    "g3._gen3_overlay.dac_table_axim_0._buffer[:10]"
   ]
  },
  {
   "cell_type": "code",
   "execution_count": null,
   "id": "ee4937c6",
   "metadata": {},
   "outputs": [],
   "source": [
    "g3._gen3_overlay.dac_table_axim_0.register_map"
   ]
  },
  {
   "cell_type": "markdown",
   "id": "ac82263a",
   "metadata": {},
   "source": [
    "### Capture Configuration"
   ]
  },
  {
   "cell_type": "code",
   "execution_count": null,
   "id": "41ceb0bf",
   "metadata": {},
   "outputs": [],
   "source": [
    "adcsnap.register_map.capturesize = 2**27-1 # max 2**27\n",
    "adcsnap.register_map.iqout_1 = (pl_buf.device_address) & (0xffffffff) # set addresses\n",
    "adcsnap.register_map.iqout_2 = (pl_buf.device_address) >> 32 # set addresses"
   ]
  },
  {
   "cell_type": "code",
   "execution_count": null,
   "id": "1c0932ca",
   "metadata": {},
   "outputs": [],
   "source": [
    "adcsnap.register_map"
   ]
  },
  {
   "cell_type": "markdown",
   "id": "267daab2",
   "metadata": {},
   "source": [
    "### Zero-PL DRAM"
   ]
  },
  {
   "cell_type": "code",
   "execution_count": null,
   "id": "2c3dfa50",
   "metadata": {},
   "outputs": [],
   "source": [
    "pl_buf[:]=0"
   ]
  },
  {
   "cell_type": "markdown",
   "id": "b856cd07",
   "metadata": {},
   "source": [
    "### Trigger Capture"
   ]
  },
  {
   "cell_type": "code",
   "execution_count": null,
   "id": "5c878f17",
   "metadata": {},
   "outputs": [],
   "source": [
    "PL.ip_dict.usp_rf_data_converter_0"
   ]
  },
  {
   "cell_type": "code",
   "execution_count": null,
   "id": "32713581",
   "metadata": {},
   "outputs": [],
   "source": [
    "adcsnap.register_map.CTRL.AP_START=1"
   ]
  },
  {
   "cell_type": "code",
   "execution_count": null,
   "id": "0a86fbe0",
   "metadata": {},
   "outputs": [],
   "source": [
    "ps_buf = pl_buf[:2**19].copy() # first2**30 address for burst read. has to be on 4.096K boundary"
   ]
  },
  {
   "cell_type": "code",
   "execution_count": null,
   "id": "625cee5a",
   "metadata": {},
   "outputs": [],
   "source": [
    "fp = lambda x: FpBinary(int_bits=16, frac_bits=15, signed=True, bit_field=int(x))"
   ]
  },
  {
   "cell_type": "code",
   "execution_count": null,
   "id": "f452eafb",
   "metadata": {},
   "outputs": [],
   "source": [
    "adc_capture_data = np.zeros(ps_buf.shape[0], dtype=np.complex64)\n",
    "adc_capture_data.real = [float(fp(x)) for x in ps_buf[:,0]]\n",
    "adc_capture_data.imag = [float(fp(x)) for x in ps_buf[:,1]]"
   ]
  },
  {
   "cell_type": "markdown",
   "id": "b8f09d50",
   "metadata": {},
   "source": [
    "# Plot Captured Data"
   ]
  },
  {
   "cell_type": "code",
   "execution_count": null,
   "id": "5c6dc971",
   "metadata": {},
   "outputs": [],
   "source": [
    "N = 2**19\n",
    "Fs = 4.096e9 # ADC Sample Rate [Hz]\n",
    "Tc = N/Fs # total collection time (seconds)\n",
    "time = np.linspace(0,Tc,N) # Time vector (seconds)\n",
    "plot_start=16\n",
    "plot_stop=20*4096+16\n",
    "sl = slice(plot_start,plot_stop)\n",
    "fft_freqs = np.linspace(-2.048e9,2.048e9,plot_stop-plot_start)"
   ]
  },
  {
   "cell_type": "markdown",
   "id": "023b5fcd",
   "metadata": {},
   "source": [
    "## Captured Time Series"
   ]
  },
  {
   "cell_type": "code",
   "execution_count": null,
   "id": "82f51cfb",
   "metadata": {},
   "outputs": [],
   "source": [
    "plt.figure(figsize=(10,5))\n",
    "# plt.plot(time[sl],(ps_buf&0xffff)[sl].astype(np.int16), '-', label='real')\n",
    "plt.plot(time[sl],adc_capture_data.real[sl])\n",
    "plt.grid(True)\n",
    "plt.xlabel(\"time(s)\",position=(0.5,1))\n",
    "plt.ylabel(\"signal(V)\",position=(0,0.5))\n",
    "ax = plt.gca()\n",
    "ax.set_xlim(time[plot_start],time[plot_stop])\n",
    "plt.legend()\n",
    "plt.title('Time Series')\n",
    "plt.show()"
   ]
  },
  {
   "cell_type": "markdown",
   "id": "851bdb22",
   "metadata": {},
   "source": [
    "## Captured FFT"
   ]
  },
  {
   "cell_type": "code",
   "execution_count": null,
   "id": "e2d7d150",
   "metadata": {},
   "outputs": [],
   "source": [
    "y_fft = 20*np.log10(np.abs(fftshift(fft(adc_capture_data[sl]))))         # Calculate the FFT, and also shift so that f=0Hz is in the center."
   ]
  },
  {
   "cell_type": "code",
   "execution_count": null,
   "id": "38e32711",
   "metadata": {},
   "outputs": [],
   "source": [
    "plt.figure(figsize=(10,5))\n",
    "plt.plot(fft_freqs[::2],y_fft[::2]) # Note: the 2./N properly normalizes the FFT amplitude to be in Volts.\n",
    "plt.grid(True)\n",
    "ax = plt.gca()\n",
    "#plt.yscale(\"log\")      # Uncomment these to get a log-y scale.\n",
    "#ax.set_ylim(1e-2,10)\n",
    "ax.set_xlim(-2.048e9,2.048e9)\n",
    "plt.xlabel(\"Frequency[Hz]\",position=(0.5,0.5))\n",
    "plt.ylabel(\"power\",position=(1,0.5))\n",
    "plt.title('FFT')\n",
    "plt.axvline(fft_freqs[np.argmax(y_fft)])\n",
    "plt.show()"
   ]
  },
  {
   "cell_type": "code",
   "execution_count": null,
   "id": "cdda38f8",
   "metadata": {},
   "outputs": [],
   "source": [
    "fft_freqs[np.argmax(y_fft)] - -15e7"
   ]
  },
  {
   "cell_type": "code",
   "execution_count": null,
   "id": "ac8872a7",
   "metadata": {},
   "outputs": [],
   "source": [
    "n_cap = 40000000*3\n",
    "adc_mb=n_cap*32/1024**2\n",
    "adc_mbps=32*512\n",
    "adc_eta=n_cap/512e3\n",
    "print(f\"Will capture {adc_mb:.0f} MB of data @ {adc_mbps} MBps. ETA {adc_eta:.0f} ms\")\n",
    "adc0.capture(n_cap, start=False, addr=0*2**31/2**12)"
   ]
  },
  {
   "cell_type": "code",
   "execution_count": null,
   "id": "a475160b",
   "metadata": {},
   "outputs": [],
   "source": [
    "print('hi')"
   ]
  },
  {
   "cell_type": "code",
   "execution_count": null,
   "id": "0c77bd2b",
   "metadata": {},
   "outputs": [],
   "source": []
  }
 ],
 "metadata": {
  "kernelspec": {
   "display_name": "Python 3",
   "language": "python",
   "name": "python3"
  },
  "language_info": {
   "codemirror_mode": {
    "name": "ipython",
    "version": 3
   },
   "file_extension": ".py",
   "mimetype": "text/x-python",
   "name": "python",
   "nbconvert_exporter": "python",
   "pygments_lexer": "ipython3",
   "version": "3.8.2"
  }
 },
 "nbformat": 4,
 "nbformat_minor": 5
}
