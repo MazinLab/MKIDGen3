{
 "cells": [
  {
   "cell_type": "markdown",
   "metadata": {},
   "source": [
    "# Imports, Definitions, and Instantiating the overlay"
   ]
  },
  {
   "cell_type": "code",
   "execution_count": 1,
   "metadata": {},
   "outputs": [
    {
     "data": {
      "application/javascript": [
       "\n",
       "try {\n",
       "require(['notebook/js/codecell'], function(codecell) {\n",
       "  codecell.CodeCell.options_default.highlight_modes[\n",
       "      'magic_text/x-csrc'] = {'reg':[/^%%microblaze/]};\n",
       "  Jupyter.notebook.events.one('kernel_ready.Kernel', function(){\n",
       "      Jupyter.notebook.get_cells().map(function(cell){\n",
       "          if (cell.cell_type == 'code'){ cell.auto_highlight(); } }) ;\n",
       "  });\n",
       "});\n",
       "} catch (e) {};\n"
      ]
     },
     "metadata": {},
     "output_type": "display_data"
    },
    {
     "data": {
      "application/javascript": [
       "\n",
       "try {\n",
       "require(['notebook/js/codecell'], function(codecell) {\n",
       "  codecell.CodeCell.options_default.highlight_modes[\n",
       "      'magic_text/x-csrc'] = {'reg':[/^%%pybind11/]};\n",
       "  Jupyter.notebook.events.one('kernel_ready.Kernel', function(){\n",
       "      Jupyter.notebook.get_cells().map(function(cell){\n",
       "          if (cell.cell_type == 'code'){ cell.auto_highlight(); } }) ;\n",
       "  });\n",
       "});\n",
       "} catch (e) {};\n"
      ]
     },
     "metadata": {},
     "output_type": "display_data"
    }
   ],
   "source": [
    "# from mkidgen3.testutils import *\n",
    "# import mkidgen3.testutils as tu\n",
    "# from mkidgen3.fixedpoint import *\n",
    "import logging\n",
    "# import itertools\n",
    "# import scipy.signal\n",
    "# import os\n",
    "# from glob import glob\n",
    "\n",
    "import pynq\n",
    "import time\n",
    "from pynq import PL\n",
    "import xrfclk\n",
    "import xrfdc\n",
    "import numpy as np\n",
    "from fpbinary import FpBinary\n",
    "import matplotlib.pyplot as plt\n",
    "from scipy.fftpack import fft, fftfreq, fftshift\n",
    "import mkidgen3 as g3\n",
    "import mkidgen3.mkidpynq as mkidpynq\n",
    "import mkidgen3.daccomb as daccomb\n",
    "import mkidgen3\n",
    "from mkidgen3.daccomb import generate_dac_comb\n",
    "from mkidgen3.drivers import axiswitch, bintores, capture, ddc, dactable, axififo, rfdc, phasematch, iqgen\n",
    "\n",
    "FP16_23 = lambda x: FpBinary(int_bits=-7, frac_bits=23, signed=True, value=x)\n",
    "FP16_15 = lambda x: FpBinary(int_bits=1, frac_bits=15, signed=True, value=x)\n",
    "FP16_14 = lambda x: FpBinary(int_bits=2, frac_bits=14, signed=True, value=x)\n",
    "FP16_13 = lambda x: FpBinary(int_bits=3, frac_bits=13, signed=True, value=x)\n",
    "FP16_10 = lambda x: FpBinary(int_bits=6, frac_bits=10, signed=True, value=x)\n",
    "FP16_16 = lambda x: FpBinary(int_bits=0, frac_bits=16, signed=True, value=x)\n",
    "FP16_14bf = lambda x: FpBinary(int_bits=2, frac_bits=14, signed=True, bit_field=x)\n",
    "FP16_16bf = lambda x: FpBinary(int_bits=0, frac_bits=16, signed=True, bit_field=x)\n",
    "FP16_10bf = lambda x: FpBinary(int_bits=6, frac_bits=10, signed=True, bit_field=x)\n",
    "FP16_8 = lambda x: FpBinary(int_bits=8, frac_bits=8, signed=True, value=x)\n",
    "FP16_8bf = lambda x: FpBinary(int_bits=8, frac_bits=8, signed=True, bit_field=x)\n",
    "\n",
    "n_res = 2048\n",
    "n_bin = 4096\n",
    "matched_filter_loaded=False\n",
    "logging.basicConfig()\n",
    "logging.getLogger('').setLevel('INFO')\n",
    "logging.getLogger('__main__').setLevel('INFO')"
   ]
  },
  {
   "cell_type": "code",
   "execution_count": 2,
   "metadata": {
    "scrolled": true
   },
   "outputs": [
    {
     "name": "stdout",
     "output_type": "stream",
     "text": [
      "PL Bitfile: /home/xilinx/jupyter_notebooks/test_phasematch/zcu111a/test_phasematch.bit\n",
      "PL Timestamp: 2022/3/3 0:24:24 +811665\n",
      "Overlay timestamp: 2022/3/3 0:24:24 +811665  Loaded: True\n"
     ]
    }
   ],
   "source": [
    "ol = g3.configure('zcu111a/test_phasematch.bit', clocks=True, external_10mhz=True, ignore_version=True)\n",
    "print(f\"PL Bitfile: {PL.bitfile_name}\\nPL Timestamp: {PL.timestamp}\\n\"\n",
    "      f\"Overlay timestamp: {ol.timestamp}  Loaded: {ol.is_loaded()}\")"
   ]
  },
  {
   "cell_type": "code",
   "execution_count": 3,
   "metadata": {},
   "outputs": [],
   "source": [
    "class PhaseFIRCoeffFile:\n",
    "    def __init__(self, file):\n",
    "        self.file=file\n",
    "        npz = np.load(self.file)\n",
    "        self.coeffs = npz['filters']\n",
    "        \n",
    "class Foo:\n",
    "    def set_driver(self,*args,**kw):\n",
    "        return\n",
    "ol.capture.switch=Foo()"
   ]
  },
  {
   "cell_type": "code",
   "execution_count": 4,
   "metadata": {},
   "outputs": [
    {
     "data": {
      "text/plain": [
       "(<mkidgen3.drivers.capture.CaptureHierarchy at 0xffff80277d00>,\n",
       " <mkidgen3.drivers.phasematch.PhasematchDriver at 0xffff802889d0>,\n",
       " RegisterMap {\n",
       "   max = Register(max=0, RESERVED=0),\n",
       "   run = Register(run=0, RESERVED=0)\n",
       " })"
      ]
     },
     "execution_count": 4,
     "metadata": {},
     "output_type": "execute_result"
    }
   ],
   "source": [
    "ol.capture, ol.phasematch, ol.iq_gen_0.register_map"
   ]
  },
  {
   "cell_type": "code",
   "execution_count": 5,
   "metadata": {},
   "outputs": [
    {
     "data": {
      "text/plain": [
       "RegisterMap {\n",
       "  max = Register(max=0, RESERVED=0),\n",
       "  run = Register(run=0, RESERVED=0)\n",
       "}"
      ]
     },
     "execution_count": 5,
     "metadata": {},
     "output_type": "execute_result"
    }
   ],
   "source": [
    "ol.iq_gen_0.register_map"
   ]
  },
  {
   "cell_type": "code",
   "execution_count": 6,
   "metadata": {},
   "outputs": [
    {
     "data": {
      "text/plain": [
       "Register(max=1048575, RESERVED=0)"
      ]
     },
     "execution_count": 6,
     "metadata": {},
     "output_type": "execute_result"
    }
   ],
   "source": [
    "#ol.iq_gen_0.register_map.max=4096 #2**20-1\n",
    "ol.iq_gen_0.register_map.max=2**20-1\n",
    "ol.iq_gen_0.register_map.max"
   ]
  },
  {
   "cell_type": "code",
   "execution_count": 7,
   "metadata": {},
   "outputs": [],
   "source": [
    "ol.iq_gen_0.register_map.run=True"
   ]
  },
  {
   "cell_type": "markdown",
   "metadata": {},
   "source": [
    "## Test the basics of the driver"
   ]
  },
  {
   "cell_type": "code",
   "execution_count": null,
   "metadata": {},
   "outputs": [],
   "source": [
    "ncoeff=30\n",
    "res_id=4  #lane 0 coeff set 1\n",
    "lane = res_id % phasematch.PhasematchDriver.N_LANES\n",
    "reload_packet = np.zeros(phasematch.PhasematchDriver.N_TEMPLATE_TAPS + 1, dtype=np.uint16)\n",
    "reload_packet[0] = res_id // phasematch.PhasematchDriver.N_LANES\n",
    "# reload_packet[1:] = phasematch.PhasematchDriver.reorder_coeffs(2+np.arange(phasematch.PhasematchDriver.N_TEMPLATE_TAPS))]\n",
    "reload_packet[1:] = 1+np.arange(phasematch.PhasematchDriver.N_TEMPLATE_TAPS)\n",
    "cfg_packet = np.arange(phasematch.PhasematchDriver.N_RES_P_LANE, dtype=np.uint16)\n",
    "reload_packet = mkidpynq.pack16_to_32(reload_packet)\n",
    "cfg_packet = mkidpynq.pack16_to_32(cfg_packet)\n",
    "reload_packet,lane,reload_packet[0], cfg_packet"
   ]
  },
  {
   "cell_type": "code",
   "execution_count": null,
   "metadata": {},
   "outputs": [],
   "source": [
    "ol.phasematch.fifo.tx(mkidpynq.pack16_to_32(reload_packet), destination=lane, last_bytes=2)"
   ]
  },
  {
   "cell_type": "code",
   "execution_count": null,
   "metadata": {},
   "outputs": [],
   "source": [
    "ol.phasematch.fifo.tx(cfg_packet, destination=4)  # Send a config packet to trigger the reload"
   ]
  },
  {
   "cell_type": "code",
   "execution_count": 8,
   "metadata": {},
   "outputs": [],
   "source": [
    "cfg_packet = np.arange(phasematch.PhasematchDriver.N_RES_P_LANE, dtype=np.uint16)\n",
    "cfg_packet = mkidpynq.pack16_to_32(cfg_packet)\n",
    "reload_packet = np.zeros(phasematch.PhasematchDriver.N_TEMPLATE_TAPS + 1, dtype=np.uint16)\n",
    "\n",
    "def prog(res_id):\n",
    "    lane = res_id % phasematch.PhasematchDriver.N_LANES\n",
    "    reload_packet[0] = res_id // phasematch.PhasematchDriver.N_LANES\n",
    "    reload_packet[1:]=0\n",
    "    if res_id in (0,3):\n",
    "        reload_packet[1]=0x7fff\n",
    "    elif res_id in (4, 6,7):\n",
    "         reload_packet[1]=0x7fff//2\n",
    "    elif res_id in (2046,2045,244,2047,):\n",
    "        reload_packet[1]=0x7fff*3//4\n",
    "    reload_packet[1:] = reload_packet[1:][::-1]\n",
    "    ol.phasematch.fifo.tx(mkidpynq.pack16_to_32(reload_packet), destination=lane, last_bytes=2)\n",
    "    if (res_id>0 and res_id%8==3):\n",
    "        ol.phasematch.fifo.tx(cfg_packet, destination=4) "
   ]
  },
  {
   "cell_type": "code",
   "execution_count": 11,
   "metadata": {},
   "outputs": [
    {
     "ename": "ValueError",
     "evalue": "Insufficient room in fifo for data",
     "output_type": "error",
     "traceback": [
      "\u001b[0;31m---------------------------------------------------------------------------\u001b[0m",
      "\u001b[0;31mValueError\u001b[0m                                Traceback (most recent call last)",
      "\u001b[0;32m<ipython-input-11-e221f6b54046>\u001b[0m in \u001b[0;36m<module>\u001b[0;34m\u001b[0m\n\u001b[1;32m      1\u001b[0m \u001b[0;32mfor\u001b[0m \u001b[0mres_id\u001b[0m \u001b[0;32min\u001b[0m \u001b[0mrange\u001b[0m\u001b[0;34m(\u001b[0m\u001b[0;36m2048\u001b[0m\u001b[0;34m)\u001b[0m\u001b[0;34m:\u001b[0m\u001b[0;34m\u001b[0m\u001b[0;34m\u001b[0m\u001b[0m\n\u001b[0;32m----> 2\u001b[0;31m     \u001b[0mprog\u001b[0m\u001b[0;34m(\u001b[0m\u001b[0mres_id\u001b[0m\u001b[0;34m)\u001b[0m\u001b[0;34m\u001b[0m\u001b[0;34m\u001b[0m\u001b[0m\n\u001b[0m\u001b[1;32m      3\u001b[0m \u001b[0mtoc\u001b[0m\u001b[0;34m=\u001b[0m\u001b[0mtime\u001b[0m\u001b[0;34m.\u001b[0m\u001b[0mtime\u001b[0m\u001b[0;34m(\u001b[0m\u001b[0;34m)\u001b[0m\u001b[0;34m\u001b[0m\u001b[0;34m\u001b[0m\u001b[0m\n\u001b[1;32m      4\u001b[0m \u001b[0mprint\u001b[0m\u001b[0;34m(\u001b[0m\u001b[0mtoc\u001b[0m\u001b[0;34m-\u001b[0m\u001b[0mtic\u001b[0m\u001b[0;34m)\u001b[0m\u001b[0;34m\u001b[0m\u001b[0;34m\u001b[0m\u001b[0m\n",
      "\u001b[0;32m<ipython-input-8-c4ae62630ab2>\u001b[0m in \u001b[0;36mprog\u001b[0;34m(res_id)\u001b[0m\n\u001b[1;32m     16\u001b[0m     \u001b[0mol\u001b[0m\u001b[0;34m.\u001b[0m\u001b[0mphasematch\u001b[0m\u001b[0;34m.\u001b[0m\u001b[0mfifo\u001b[0m\u001b[0;34m.\u001b[0m\u001b[0mtx\u001b[0m\u001b[0;34m(\u001b[0m\u001b[0mmkidpynq\u001b[0m\u001b[0;34m.\u001b[0m\u001b[0mpack16_to_32\u001b[0m\u001b[0;34m(\u001b[0m\u001b[0mreload_packet\u001b[0m\u001b[0;34m)\u001b[0m\u001b[0;34m,\u001b[0m \u001b[0mdestination\u001b[0m\u001b[0;34m=\u001b[0m\u001b[0mlane\u001b[0m\u001b[0;34m,\u001b[0m \u001b[0mlast_bytes\u001b[0m\u001b[0;34m=\u001b[0m\u001b[0;36m2\u001b[0m\u001b[0;34m)\u001b[0m\u001b[0;34m\u001b[0m\u001b[0;34m\u001b[0m\u001b[0m\n\u001b[1;32m     17\u001b[0m     \u001b[0;32mif\u001b[0m \u001b[0;34m(\u001b[0m\u001b[0mres_id\u001b[0m\u001b[0;34m>\u001b[0m\u001b[0;36m0\u001b[0m \u001b[0;32mand\u001b[0m \u001b[0mres_id\u001b[0m\u001b[0;34m%\u001b[0m\u001b[0;36m8\u001b[0m\u001b[0;34m==\u001b[0m\u001b[0;36m3\u001b[0m\u001b[0;34m)\u001b[0m\u001b[0;34m:\u001b[0m\u001b[0;34m\u001b[0m\u001b[0;34m\u001b[0m\u001b[0m\n\u001b[0;32m---> 18\u001b[0;31m         \u001b[0mol\u001b[0m\u001b[0;34m.\u001b[0m\u001b[0mphasematch\u001b[0m\u001b[0;34m.\u001b[0m\u001b[0mfifo\u001b[0m\u001b[0;34m.\u001b[0m\u001b[0mtx\u001b[0m\u001b[0;34m(\u001b[0m\u001b[0mcfg_packet\u001b[0m\u001b[0;34m,\u001b[0m \u001b[0mdestination\u001b[0m\u001b[0;34m=\u001b[0m\u001b[0;36m4\u001b[0m\u001b[0;34m)\u001b[0m\u001b[0;34m\u001b[0m\u001b[0;34m\u001b[0m\u001b[0m\n\u001b[0m",
      "\u001b[0;32m/home/xilinx/src/mkidgen3/mkidgen3/drivers/axififo.py\u001b[0m in \u001b[0;36mtx\u001b[0;34m(self, data, destination, last_bytes)\u001b[0m\n\u001b[1;32m     27\u001b[0m         \"\"\"\n\u001b[1;32m     28\u001b[0m         \u001b[0;32mif\u001b[0m \u001b[0mdata\u001b[0m\u001b[0;34m.\u001b[0m\u001b[0msize\u001b[0m \u001b[0;34m>\u001b[0m \u001b[0mself\u001b[0m\u001b[0;34m.\u001b[0m\u001b[0mtx_vacancy\u001b[0m\u001b[0;34m:\u001b[0m\u001b[0;34m\u001b[0m\u001b[0;34m\u001b[0m\u001b[0m\n\u001b[0;32m---> 29\u001b[0;31m             \u001b[0;32mraise\u001b[0m \u001b[0mValueError\u001b[0m\u001b[0;34m(\u001b[0m\u001b[0;34m'Insufficient room in fifo for data'\u001b[0m\u001b[0;34m)\u001b[0m\u001b[0;34m\u001b[0m\u001b[0;34m\u001b[0m\u001b[0m\n\u001b[0m\u001b[1;32m     30\u001b[0m \u001b[0;34m\u001b[0m\u001b[0m\n\u001b[1;32m     31\u001b[0m         \u001b[0mgetLogger\u001b[0m\u001b[0;34m(\u001b[0m\u001b[0m__name__\u001b[0m\u001b[0;34m)\u001b[0m\u001b[0;34m.\u001b[0m\u001b[0mdebug\u001b[0m\u001b[0;34m(\u001b[0m\u001b[0;34mf'ISR at TX start: {repr(self.register_map.ISR)}'\u001b[0m\u001b[0;34m)\u001b[0m\u001b[0;34m\u001b[0m\u001b[0;34m\u001b[0m\u001b[0m\n",
      "\u001b[0;31mValueError\u001b[0m: Insufficient room in fifo for data"
     ]
    }
   ],
   "source": [
    "for res_id in range(2048):\n",
    "    prog(res_id)\n",
    "toc=time.time()\n",
    "print(toc-tic)"
   ]
  },
  {
   "cell_type": "code",
   "execution_count": null,
   "metadata": {},
   "outputs": [],
   "source": [
    "for i in range(1024,1031): prog(i)"
   ]
  },
  {
   "cell_type": "code",
   "execution_count": null,
   "metadata": {},
   "outputs": [],
   "source": [
    "prog(1031)"
   ]
  },
  {
   "cell_type": "code",
   "execution_count": null,
   "metadata": {},
   "outputs": [],
   "source": [
    "ol.phasematch.fifo.tx(cfg_packet, destination=4) "
   ]
  },
  {
   "cell_type": "code",
   "execution_count": 10,
   "metadata": {},
   "outputs": [],
   "source": [
    "ol.phasematch.stream_gate_0.register_map.run=True"
   ]
  },
  {
   "cell_type": "code",
   "execution_count": null,
   "metadata": {},
   "outputs": [],
   "source": [
    "[#,X,X,#, X,#,X,#, X,...,X, X,X,X,#]"
   ]
  },
  {
   "cell_type": "code",
   "execution_count": null,
   "metadata": {},
   "outputs": [],
   "source": [
    "##..#.#.#......."
   ]
  },
  {
   "cell_type": "code",
   "execution_count": null,
   "metadata": {},
   "outputs": [],
   "source": [
    "try:\n",
    "    phase.freebuffer()\n",
    "except:\n",
    "    pass\n",
    "phase = ol.capture.capture_phase(8192*2, groups=('all'), duration=False)\n",
    "ps=np.array(phase)\n",
    "p=np.array(phase).ravel()\n",
    "g0=np.argwhere(p>0).ravel()\n",
    "f=g0[0]\n",
    "p[f:f+20], p[f+2020:f+2060]"
   ]
  },
  {
   "cell_type": "code",
   "execution_count": null,
   "metadata": {},
   "outputs": [],
   "source": [
    "np.argwhere((ps!=0).sum(0))"
   ]
  },
  {
   "cell_type": "code",
   "execution_count": null,
   "metadata": {},
   "outputs": [],
   "source": [
    "(np.argwhere((ps!=0).sum(0))-1108+244+2048)%2048"
   ]
  },
  {
   "cell_type": "code",
   "execution_count": null,
   "metadata": {
    "scrolled": true
   },
   "outputs": [],
   "source": [
    "(g0-f)[:100]"
   ]
  },
  {
   "cell_type": "markdown",
   "metadata": {},
   "source": [
    "lanes are coming in 1,2,3,4...\n",
    "lane channels are seeing i * 512 + lane channel, i from 0-127 \n",
    "lane channel is resonator channel/4\n",
    "resonator r is in lane%4 and sees i * 512 + r//4"
   ]
  },
  {
   "cell_type": "code",
   "execution_count": null,
   "metadata": {},
   "outputs": [],
   "source": [
    "(g0-f)[:10]"
   ]
  },
  {
   "cell_type": "code",
   "execution_count": null,
   "metadata": {},
   "outputs": [],
   "source": [
    "(p[600:1200])"
   ]
  },
  {
   "cell_type": "code",
   "execution_count": null,
   "metadata": {},
   "outputs": [],
   "source": [
    "each capture of 16 phases has 4 of each lane, I'd expect data order to be l0l1l2l3l0l1l2l3... but it seems to be l0l0l0l0 ...."
   ]
  },
  {
   "cell_type": "code",
   "execution_count": null,
   "metadata": {},
   "outputs": [],
   "source": [
    "p[500:1000]/2**8"
   ]
  },
  {
   "cell_type": "code",
   "execution_count": null,
   "metadata": {},
   "outputs": [],
   "source": [
    "(FP16_14bf(12365+64*30)*FP16_15(.99998)).resize((8,8)).__index__()"
   ]
  },
  {
   "cell_type": "code",
   "execution_count": null,
   "metadata": {},
   "outputs": [],
   "source": [
    "bin(13824), hex(phasematch.FP16_15(.99998).__index__())"
   ]
  },
  {
   "cell_type": "markdown",
   "metadata": {},
   "source": [
    "# Now for a real test"
   ]
  },
  {
   "cell_type": "markdown",
   "metadata": {},
   "source": [
    "## Prepare the Data"
   ]
  },
  {
   "cell_type": "code",
   "execution_count": null,
   "metadata": {},
   "outputs": [],
   "source": [
    "n_total_packets=301  # How many packets\n",
    "sample_rate=2.048e6\n",
    "PULSE_DECAY_TIME=15e-6\n",
    "pulse_times=np.linspace(PULSE_DECAY_TIME,4*5*PULSE_DECAY_TIME, 5)\n",
    "amplitude = 1"
   ]
  },
  {
   "cell_type": "markdown",
   "metadata": {},
   "source": [
    "Turn one ideal pulse into phase. Take 30 points, time reverse it, and normalize it so that the maximum of a filtered pulse gives the original pulse height."
   ]
  },
  {
   "cell_type": "code",
   "execution_count": null,
   "metadata": {},
   "outputs": [],
   "source": [
    "def pulse(t, decay):\n",
    "    heavy_e=-np.e**(-t/PULSE_DECAY_TIME)*np.heaviside(t,1)/2\n",
    "    return heavy_e/2 + heavy_e*1j\n",
    "\n",
    "def gen_matched_filt(n_taps=30, n_before=2, plot=True, sample_rate=1.024e6):\n",
    "    t=np.arange(n_taps)/sample_rate\n",
    "    x=pulse(t-n_before*np.diff(t)[0], PULSE_DECAY_TIME)+1\n",
    "    phase=np.arctan2(x.imag, x.real)/np.pi\n",
    "    \n",
    "    matched = phase[::-1]\n",
    "    norm=np.sign(phase[np.abs(phase).argmax()])*np.abs(phase).max()/np.abs(scipy.signal.convolve(phase, matched,'same')).max()\n",
    "    if plot:\n",
    "        plt.subplot(1,2,1)\n",
    "        plt.plot(x.real)\n",
    "        plt.plot(x.imag)\n",
    "        plt.xlabel('Sample')\n",
    "        plt.ylabel('I and Q')\n",
    "        plt.subplot(1,2,2)\n",
    "        plt.plot(phase, label='phase')\n",
    "        plt.plot(matched, label='filt')\n",
    "        plt.plot(scipy.signal.convolve(phase, matched*norm,'same'),label='convol')\n",
    "        plt.xlabel('Sample')\n",
    "        plt.ylabel('Phase')\n",
    "        plt.legend()\n",
    "        plt.tight_layout()\n",
    "    return matched*norm"
   ]
  },
  {
   "cell_type": "markdown",
   "metadata": {},
   "source": [
    "Generate the complex waveform for a single resonator."
   ]
  },
  {
   "cell_type": "code",
   "execution_count": null,
   "metadata": {},
   "outputs": [],
   "source": [
    "%matplotlib inline\n",
    "max_t=1.25*(PULSE_DECAY_TIME+pulse_times.max())  #How many waveform samples do we need to generate\n",
    "n_samples=int(np.ceil(max_t*sample_rate))\n",
    "t = np.arange(n_samples)/sample_rate\n",
    "\n",
    "comb=np.ones_like(t, dtype=np.complex64)\n",
    "for t0 in pulse_times:\n",
    "    comb+=pulse(t-t0, PULSE_DECAY_TIME)\n",
    "comb*=amplitude\n",
    "\n",
    "print(f\"Comb shape: {comb.shape}. \\nTotal Samples: {comb.size}. Memory: {comb.size*8/1024**2:.0f} MB\\n\"\n",
    "      f\"Max value: {np.abs(comb).max()}.\\n\"\n",
    "      f\"Expected tone amplitude factor: ~512 * N_TONES_IN_BIN. (4096/8 as FFT scale dfaults to 8 in last 3 stages)\\n\"\n",
    "      f\"Resulting samples per output bin: {comb.size*2/n_bin}\")\n",
    "\n",
    "plt.tight_layout()\n",
    "plt.figure()\n",
    "plt.subplot(1,2,1)\n",
    "plt.plot(comb.real,comb.imag)\n",
    "plt.xlabel('I')\n",
    "plt.ylabel('Q')\n",
    "plt.subplot(1,2,2)\n",
    "plt.plot(t*1e6, comb.real)\n",
    "plt.plot(t*1e6, comb.imag)\n",
    "plt.ylabel('IQ Amplitude')\n",
    "plt.xlabel('t (us)')\n",
    "plt.tight_layout()"
   ]
  },
  {
   "cell_type": "markdown",
   "metadata": {},
   "source": [
    "### Configure the phase FIRs"
   ]
  },
  {
   "cell_type": "markdown",
   "metadata": {},
   "source": [
    "Make the matched filter"
   ]
  },
  {
   "cell_type": "code",
   "execution_count": null,
   "metadata": {},
   "outputs": [],
   "source": [
    "%matplotlib inline\n",
    "matched_filt=gen_matched_filt(n_taps=30,n_before=2, plot=True)"
   ]
  },
  {
   "cell_type": "markdown",
   "metadata": {},
   "source": [
    "Load the coeffs"
   ]
  },
  {
   "cell_type": "code",
   "execution_count": null,
   "metadata": {
    "scrolled": true
   },
   "outputs": [],
   "source": [
    "for i in range(512):\n",
    "    getLogger(__name__).info(f'Loading coefficient set {i}')\n",
    "    for j in range(4):  # We can load one set in each FIR bank before needing to trigger a config event.\n",
    "        res_id = j*512 + i\n",
    "        data = matched_filt\n",
    "#         data=np.zeros_like(matched_filt, dtype=np.uint16)\n",
    "#         data[-1]=0x7fff\n",
    "        ol.phasematch.load_coeff(res_id, data)\n",
    "    # Send zeros to trigger a config event, the config block will ensure a config packet is ready\n",
    "    drive_data(dma,0, zeros=True, in_per_out=2, n_out=1, phaseout=True, n_latency_packets=1)\n",
    "matched_filter_loaded=True"
   ]
  },
  {
   "cell_type": "markdown",
   "metadata": {},
   "source": [
    "### Configure the DDS\n",
    "\n",
    "We are going to feed in tones at baseband, so the increment and phase offset are 0."
   ]
  },
  {
   "cell_type": "code",
   "execution_count": null,
   "metadata": {
    "scrolled": false
   },
   "outputs": [],
   "source": [
    "tones=np.zeros((2,2048))\n",
    "ddc.tones=tones"
   ]
  },
  {
   "cell_type": "markdown",
   "metadata": {},
   "source": [
    "## Manually test a single path"
   ]
  },
  {
   "cell_type": "markdown",
   "metadata": {},
   "source": [
    "res_id=3\n",
    "coeffs=np.arange(30)\n",
    "lane = res_id // PhasematchDriver.N_RES_P_LANE\n",
    "reload_packet = np.zeros(coeffs.size + 1, dtype=np.uint16)\n",
    "reload_packet[0] = res_id % PhasematchDriver.N_RES_P_LANE\n",
    "FP32_8 = lambda x: FpBinary(int_bits=32 - 9, frac_bits=8, signed=True, value=x)\n",
    "reload_packet[1:] = [FP32_8(c).__index__() for c in PhasematchDriver.reorder_coeffs(coeffs)]\n",
    "\n",
    "cfg_packet=np.arange(PhasematchDriver.N_RES_P_LANE, dtype=np.uint16)\n",
    "\n",
    "reload_packet=pack16_to_32(reload_packet)\n",
    "cfg_packet=pack16_to_32(cfg_packet)"
   ]
  },
  {
   "cell_type": "markdown",
   "metadata": {},
   "source": [
    "fifo.tx(reload_packet, destination=0, last_bytes=2)  #reload channels are 0-3\n",
    "pm.fifo.register_map\n",
    "fifo.tx(reload_packet, destination=1, last_bytes=2)\n",
    "pm.fifo.register_map"
   ]
  },
  {
   "cell_type": "markdown",
   "metadata": {},
   "source": [
    "ol.phasematch.load_coeff(res_id, np.arange(30))"
   ]
  },
  {
   "cell_type": "markdown",
   "metadata": {},
   "source": [
    "fifo.register_map.SRR=0x000000A5\n",
    "fifo.reset_tx_fifo()"
   ]
  },
  {
   "cell_type": "markdown",
   "metadata": {},
   "source": [
    "# Generate and feed a stream\n",
    "\n",
    "First create a timeseries of IQ values for a DDSed resonator."
   ]
  },
  {
   "cell_type": "code",
   "execution_count": null,
   "metadata": {},
   "outputs": [],
   "source": [
    "n_out=4\n",
    "out=[]\n",
    "n_latency_packets=1\n",
    "n_sent=0\n",
    "while n_sent+2*n_out<comb.size:\n",
    "    # Send zeros to trigger a config event, the config block will ensure a config packet is ready  \n",
    "    out.append(drive_data(dma, comb[n_sent:], in_per_out=2, n_out=n_out, phaseout=True, fpgen=FP16_15, \n",
    "                          fprecv=None, n_latency_packets=n_latency_packets)[::2048])\n",
    "    n_sent+=n_latency_packets*(n_sent==0)+2*n_out    \n",
    "out=np.concatenate(out)"
   ]
  },
  {
   "cell_type": "code",
   "execution_count": null,
   "metadata": {},
   "outputs": [],
   "source": [
    "outfp=np.array([float(FpBinary(8,8,True,bit_field=int(x))) for x in out])\n",
    "#outfp2=np.array([float(FpBinary(9,7,True,bit_field=int(x))) for x in out]) #Use this line if the plots at the end aren't matching"
   ]
  },
  {
   "cell_type": "markdown",
   "metadata": {},
   "source": [
    "## Simulate the results"
   ]
  },
  {
   "cell_type": "markdown",
   "metadata": {},
   "source": [
    "First define a bunch of helpers"
   ]
  },
  {
   "cell_type": "code",
   "execution_count": null,
   "metadata": {},
   "outputs": [],
   "source": [
    "with open(f\"data/fclowpass.coe\",'r') as f:\n",
    "    lines=f.readlines()[1:]\n",
    "lines[0]=lines[0].partition('=')[-1]\n",
    "lpcoeffs=np.array(list(map(float,''.join(lines).replace(';','').replace('\\n','').split(','))))  #c19-0"
   ]
  },
  {
   "cell_type": "code",
   "execution_count": null,
   "metadata": {},
   "outputs": [],
   "source": [
    "#Lowpass\n",
    "lowpassed = np.zeros(comb.size-lpcoeffs.size+1, dtype=np.complex64)\n",
    "lowpassed.real = np.convolve(comb.real, lpcoeffs[::-1], mode='valid')\n",
    "lowpassed.imag = np.convolve(comb.imag, lpcoeffs[::-1], mode='valid')\n",
    "lowpassed=scipy.signal.decimate(lowpassed,2, n=lpcoeffs.size-1, ftype='fir', zero_phase=False)\n",
    "\n",
    "#arctan the IQ\n",
    "phased = np.arctan2(lowpassed.imag, lowpassed.real)/np.pi\n",
    "\n",
    "#Filter the phases\n",
    "matched = np.convolve(phased, matched_filt, mode='valid')"
   ]
  },
  {
   "cell_type": "code",
   "execution_count": null,
   "metadata": {},
   "outputs": [],
   "source": [
    "%matplotlib inline\n",
    "fig, ax = plt.subplots(2,2, figsize=(12,8), sharex=True)\n",
    "plt.sca(ax.flat[0])\n",
    "plt.plot(t*1e6, comb.real)\n",
    "plt.plot(t*1e6, comb.imag)\n",
    "plt.plot(t*1e6, np.abs(comb))\n",
    "plt.ylabel('I & Q Samples w/gain')\n",
    "\n",
    "plt.sca(ax.flat[1])\n",
    "plt.plot(t[:lowpassed.size*2:2]*1e6,np.abs(lowpassed))\n",
    "plt.ylabel('|IQ| (lowpass applied)')\n",
    "plt.xlabel('t (us)')\n",
    "\n",
    "plt.sca(ax.flat[2])\n",
    "plt.plot(t*1e6,np.arctan2(comb.imag,comb.real)/np.pi)\n",
    "plt.ylabel('atan2(I/Q)/pi')\n",
    "\n",
    "\n",
    "plt.sca(ax.flat[3])\n",
    "plt.plot(t[:phased.size*2:2]*1e6,phased)\n",
    "plt.ylabel('Atan2(I/Q)/pi (after lowpass)')\n",
    "#plt.xlim(0,1500)\n",
    "plt.xlabel('t (us)')\n",
    "plt.tight_layout()\n",
    "\n",
    "plt.figure()\n",
    "plt.plot(t[:matched.size*2:2]*1e6,matched, label='Python')\n",
    "plt.ylabel('Phase (lowpass applied)')\n",
    "plt.xlabel('t (us)')\n",
    "#plt.xlim(0,1400)"
   ]
  },
  {
   "cell_type": "code",
   "execution_count": null,
   "metadata": {},
   "outputs": [],
   "source": [
    "clip_ndx=29\n",
    "clipped_fpga=outfp[clip_ndx:]\n",
    "fpga_t=t[::2][:clipped_fpga.size]\n",
    "plt.plot(1e6*fpga_t,clipped_fpga, label='FPGA')\n",
    "\n",
    "if matched_filter_loaded:\n",
    "    plt.plot(t[:matched.size*2:2]*1e6,matched, label='Python')\n",
    "    plt.ylabel('Filtered Phase (lowpass applied)')\n",
    "else:\n",
    "    plt.plot(t[:phased.size*2:2]*1e6,-phased, label='Python')\n",
    "    plt.ylabel('Phase (lowpass applied)')\n",
    "\n",
    "plt.xlabel('t (us)')\n",
    "plt.legend()"
   ]
  }
 ],
 "metadata": {
  "kernelspec": {
   "display_name": "Python 3",
   "language": "python",
   "name": "python3"
  },
  "language_info": {
   "codemirror_mode": {
    "name": "ipython",
    "version": 3
   },
   "file_extension": ".py",
   "mimetype": "text/x-python",
   "name": "python",
   "nbconvert_exporter": "python",
   "pygments_lexer": "ipython3",
   "version": "3.8.2"
  },
  "toc": {
   "base_numbering": 1,
   "nav_menu": {},
   "number_sections": true,
   "sideBar": true,
   "skip_h1_title": false,
   "title_cell": "Table of Contents",
   "title_sidebar": "Contents",
   "toc_cell": false,
   "toc_position": {},
   "toc_section_display": true,
   "toc_window_display": false
  }
 },
 "nbformat": 4,
 "nbformat_minor": 1
}
