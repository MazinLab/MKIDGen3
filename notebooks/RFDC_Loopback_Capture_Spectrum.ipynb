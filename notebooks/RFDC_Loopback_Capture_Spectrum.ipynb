{
 "cells": [
  {
   "cell_type": "markdown",
   "id": "a9cf915b",
   "metadata": {},
   "source": [
    "# Imports"
   ]
  },
  {
   "cell_type": "code",
   "execution_count": 1,
   "id": "0690a514",
   "metadata": {},
   "outputs": [
    {
     "data": {
      "application/javascript": [
       "\n",
       "try {\n",
       "require(['notebook/js/codecell'], function(codecell) {\n",
       "  codecell.CodeCell.options_default.highlight_modes[\n",
       "      'magic_text/x-csrc'] = {'reg':[/^%%microblaze/]};\n",
       "  Jupyter.notebook.events.one('kernel_ready.Kernel', function(){\n",
       "      Jupyter.notebook.get_cells().map(function(cell){\n",
       "          if (cell.cell_type == 'code'){ cell.auto_highlight(); } }) ;\n",
       "  });\n",
       "});\n",
       "} catch (e) {};\n"
      ]
     },
     "metadata": {},
     "output_type": "display_data"
    },
    {
     "data": {
      "application/javascript": [
       "\n",
       "try {\n",
       "require(['notebook/js/codecell'], function(codecell) {\n",
       "  codecell.CodeCell.options_default.highlight_modes[\n",
       "      'magic_text/x-csrc'] = {'reg':[/^%%pybind11/]};\n",
       "  Jupyter.notebook.events.one('kernel_ready.Kernel', function(){\n",
       "      Jupyter.notebook.get_cells().map(function(cell){\n",
       "          if (cell.cell_type == 'code'){ cell.auto_highlight(); } }) ;\n",
       "  });\n",
       "});\n",
       "} catch (e) {};\n"
      ]
     },
     "metadata": {},
     "output_type": "display_data"
    }
   ],
   "source": [
    "import pynq\n",
    "import time\n",
    "from pynq import PL\n",
    "import xrfclk\n",
    "import xrfdc\n",
    "import numpy as np\n",
    "# from fpbinary import FpBinary\n",
    "import matplotlib.pyplot as plt\n",
    "from scipy.fftpack import fft, fftfreq, fftshift\n",
    "import mkidgen3 as g3\n",
    "import mkidgen3.mkidpynq as mkidpynq\n",
    "import mkidgen3.daccomb as daccomb\n",
    "import mkidgen3\n",
    "from mkidgen3.daccomb import generate_dac_comb\n",
    "from mkidgen3.drivers import axiswitch, bintores, capture, ddc, dactable, axififo, rfdc"
   ]
  },
  {
   "cell_type": "markdown",
   "id": "2612dc5c",
   "metadata": {},
   "source": [
    "# Load the Overlay and Setup RFDC and MIG"
   ]
  },
  {
   "cell_type": "code",
   "execution_count": 2,
   "id": "6fd715c6",
   "metadata": {},
   "outputs": [],
   "source": [
    "#ol = pynq.Overlay('../Full_Channelizer/rst_jenny/full_chan_cap_nec_rst_two_intrcnt.bit', ignore_version=True)\n",
    "ol = pynq.Overlay('RFDC_Cap_Full_Rate.bit', ignore_version=True)\n",
    "\n",
    "#ol.download()\n",
    "#print(f\"PL Bitfile: {PL.bitfile_name}\\nPL Timestamp: {PL.timestamp}\\n\"\n",
    "#      f\"Overlay timestamp: {ol.timestamp}  Loaded: {ol.is_loaded()}\")"
   ]
  },
  {
   "cell_type": "code",
   "execution_count": 3,
   "id": "d0841905",
   "metadata": {},
   "outputs": [],
   "source": [
    "dacreplay = ol.dac_table_axim_0"
   ]
  },
  {
   "cell_type": "markdown",
   "id": "aad5fe05",
   "metadata": {},
   "source": [
    "# Setup RFDC and MIG"
   ]
  },
  {
   "cell_type": "code",
   "execution_count": 4,
   "id": "6aa046f5",
   "metadata": {},
   "outputs": [],
   "source": [
    "g3._gen3_overlay=ol\n",
    "xrfclk.set_ref_clks()\n",
    "#ol.rfdc.start_clocks()\n",
    "#ol.rfdc.rfdc_status(tell=True)\n",
    "#print(f'Active ADC pair: {ol.rfdc.active_adc}')"
   ]
  },
  {
   "cell_type": "markdown",
   "id": "3bbc6ecd",
   "metadata": {},
   "source": [
    "## Setup DAC REPLAY"
   ]
  },
  {
   "cell_type": "code",
   "execution_count": 5,
   "id": "7d441d2b",
   "metadata": {},
   "outputs": [],
   "source": [
    "tones = np.array([0.3e9])\n",
    "amplitudes = np.array([1.0])"
   ]
  },
  {
   "cell_type": "code",
   "execution_count": 6,
   "id": "d6ef8526",
   "metadata": {},
   "outputs": [],
   "source": [
    "dactable = generate_dac_comb(frequencies=tones, n_samples=2**19, sample_rate=4.096e9, amplitudes=amplitudes)\n",
    "#{'iq': iq, 'frequencies': quantized_freqs, 'phases': phases}\n",
    "qtones = dactable['frequencies']\n",
    "qphases = dactable['phases']"
   ]
  },
  {
   "cell_type": "code",
   "execution_count": 7,
   "id": "56d26606",
   "metadata": {},
   "outputs": [],
   "source": [
    "dactable['iq'].real = 0"
   ]
  },
  {
   "cell_type": "code",
   "execution_count": 8,
   "id": "40dc9c6d",
   "metadata": {},
   "outputs": [],
   "source": [
    "dacreplay.stop()"
   ]
  },
  {
   "cell_type": "code",
   "execution_count": 9,
   "id": "c8294971",
   "metadata": {},
   "outputs": [],
   "source": [
    "dacreplay.replay(dactable['iq'], fpgen=lambda x: (x*2**15).astype(np.uint16))"
   ]
  },
  {
   "cell_type": "code",
   "execution_count": 10,
   "id": "21b8cb9a",
   "metadata": {},
   "outputs": [],
   "source": [
    "#dacreplay.quiet()"
   ]
  },
  {
   "cell_type": "markdown",
   "id": "cf1f0c7d",
   "metadata": {},
   "source": [
    "### Take ADC Snap"
   ]
  },
  {
   "cell_type": "code",
   "execution_count": 11,
   "id": "240e50bc",
   "metadata": {},
   "outputs": [],
   "source": [
    "cap_result=ol.capture.capture_adc(2**19)"
   ]
  },
  {
   "cell_type": "code",
   "execution_count": 12,
   "id": "dd035c2c",
   "metadata": {},
   "outputs": [],
   "source": [
    "adc_capture_data = cap_result[:,0]/2**15 + 1j*cap_result[:,1]/2**15"
   ]
  },
  {
   "cell_type": "code",
   "execution_count": 13,
   "id": "da698ffa",
   "metadata": {},
   "outputs": [],
   "source": [
    "cap_result.freebuffer()"
   ]
  },
  {
   "cell_type": "code",
   "execution_count": null,
   "id": "01cad3ab",
   "metadata": {},
   "outputs": [],
   "source": []
  },
  {
   "cell_type": "markdown",
   "id": "436ba7f9",
   "metadata": {},
   "source": [
    "# Plot Captured Data"
   ]
  },
  {
   "cell_type": "code",
   "execution_count": 15,
   "id": "39d5a4c0",
   "metadata": {},
   "outputs": [],
   "source": [
    "N = 2**19\n",
    "Fs = 4.096e9 # ADC Sample Rate [Hz]\n",
    "Tc = N/Fs # total collection time (seconds)\n",
    "time = np.linspace(0,Tc,N) # Time vector (seconds)\n",
    "plot_start=16\n",
    "plot_stop=20*4096+16\n",
    "sl = slice(plot_start,plot_stop)\n",
    "fft_freqs = np.linspace(-2.048e9,2.048e9,plot_stop-plot_start)"
   ]
  },
  {
   "cell_type": "markdown",
   "id": "57a4d57b",
   "metadata": {},
   "source": [
    "## Captured Time Series"
   ]
  },
  {
   "cell_type": "code",
   "execution_count": 16,
   "id": "5203a7a5",
   "metadata": {},
   "outputs": [
    {
     "data": {
      "image/png": "[encoded data removed]",
      "text/plain": [
       "<Figure size 720x360 with 1 Axes>"
      ]
     },
     "metadata": {
      "needs_background": "light"
     },
     "output_type": "display_data"
    }
   ],
   "source": [
    "plt.figure(figsize=(10,5))\n",
    "# plt.plot(time[sl],(ps_buf&0xffff)[sl].astype(np.int16), '-', label='real')\n",
    "plt.plot(time[sl],adc_capture_data.real[sl])\n",
    "plt.grid(True)\n",
    "plt.xlabel(\"time(s)\",position=(0.5,1))\n",
    "plt.ylabel(\"signal(V)\",position=(0,0.5))\n",
    "ax = plt.gca()\n",
    "ax.set_xlim(time[plot_start],time[plot_stop])\n",
    "#plt.legend()\n",
    "plt.title('Time Series')\n",
    "plt.show()"
   ]
  },
  {
   "cell_type": "markdown",
   "id": "67f4b5e3",
   "metadata": {},
   "source": [
    "## Captured FFT"
   ]
  },
  {
   "cell_type": "code",
   "execution_count": 17,
   "id": "2a5ff9c7",
   "metadata": {},
   "outputs": [],
   "source": [
    "y_fft = 20*np.log10(np.abs(fftshift(fft(adc_capture_data[sl]))))         # Calculate the FFT, and also shift so that f=0Hz is in the center."
   ]
  },
  {
   "cell_type": "code",
   "execution_count": 18,
   "id": "a26e37bc",
   "metadata": {},
   "outputs": [
    {
     "data": {
      "image/png": "[encoded data removed]",
      "text/plain": [
       "<Figure size 720x360 with 1 Axes>"
      ]
     },
     "metadata": {
      "needs_background": "light"
     },
     "output_type": "display_data"
    }
   ],
   "source": [
    "plt.figure(figsize=(10,5))\n",
    "plt.plot(fft_freqs[::2],y_fft[::2]) # Note: the 2./N properly normalizes the FFT amplitude to be in Volts.\n",
    "plt.grid(True)\n",
    "ax = plt.gca()\n",
    "#plt.yscale(\"log\")      # Uncomment these to get a log-y scale.\n",
    "#ax.set_ylim(1e-2,10)\n",
    "ax.set_xlim(-2.048e9,2.048e9)\n",
    "#ax.set_xlim(0.4e9, 0.6e9)\n",
    "plt.xlabel(\"Frequency[Hz]\",position=(0.5,0.5))\n",
    "plt.ylabel(\"power\",position=(1,0.5))\n",
    "plt.title('FFT')\n",
    "#plt.axvline(fft_freqs[np.argmax(y_fft)],color='k')\n",
    "#plt.axvline(0.383e9,color='r')\n",
    "#plt.axvline(-0.373e9,color='c')\n",
    "plt.show()"
   ]
  },
  {
   "cell_type": "code",
   "execution_count": null,
   "id": "594eb0b0",
   "metadata": {},
   "outputs": [],
   "source": []
  }
 ],
 "metadata": {
  "kernelspec": {
   "display_name": "Python 3",
   "language": "python",
   "name": "python3"
  },
  "language_info": {
   "codemirror_mode": {
    "name": "ipython",
    "version": 3
   },
   "file_extension": ".py",
   "mimetype": "text/x-python",
   "name": "python",
   "nbconvert_exporter": "python",
   "pygments_lexer": "ipython3",
   "version": "3.8.2"
  }
 },
 "nbformat": 4,
 "nbformat_minor": 5
}
