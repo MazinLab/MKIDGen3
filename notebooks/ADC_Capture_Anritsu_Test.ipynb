{
 "cells": [
  {
   "cell_type": "code",
   "execution_count": 1,
   "id": "ae7ad640",
   "metadata": {},
   "outputs": [
    {
     "data": {
      "application/javascript": [
       "\n",
       "try {\n",
       "require(['notebook/js/codecell'], function(codecell) {\n",
       "  codecell.CodeCell.options_default.highlight_modes[\n",
       "      'magic_text/x-csrc'] = {'reg':[/^%%microblaze/]};\n",
       "  Jupyter.notebook.events.one('kernel_ready.Kernel', function(){\n",
       "      Jupyter.notebook.get_cells().map(function(cell){\n",
       "          if (cell.cell_type == 'code'){ cell.auto_highlight(); } }) ;\n",
       "  });\n",
       "});\n",
       "} catch (e) {};\n"
      ]
     },
     "metadata": {},
     "output_type": "display_data"
    },
    {
     "data": {
      "application/javascript": [
       "\n",
       "try {\n",
       "require(['notebook/js/codecell'], function(codecell) {\n",
       "  codecell.CodeCell.options_default.highlight_modes[\n",
       "      'magic_text/x-csrc'] = {'reg':[/^%%pybind11/]};\n",
       "  Jupyter.notebook.events.one('kernel_ready.Kernel', function(){\n",
       "      Jupyter.notebook.get_cells().map(function(cell){\n",
       "          if (cell.cell_type == 'code'){ cell.auto_highlight(); } }) ;\n",
       "  });\n",
       "});\n",
       "} catch (e) {};\n"
      ]
     },
     "metadata": {},
     "output_type": "display_data"
    }
   ],
   "source": [
    "import pynq\n",
    "import time\n",
    "from pynq import PL\n",
    "import xrfclk\n",
    "import xrfdc\n",
    "import numpy as np\n",
    "# from fpbinary import FpBinary\n",
    "import matplotlib.pyplot as plt\n",
    "from scipy.fftpack import fft, fftfreq, fftshift\n",
    "import mkidgen3 as g3\n",
    "import mkidgen3.util\n",
    "import mkidgen3.mkidpynq as mkidpynq\n",
    "import mkidgen3.daccomb as daccomb\n",
    "import mkidgen3\n",
    "from mkidgen3.daccomb import generate_dac_comb\n",
    "from mkidgen3.drivers import axiswitch, bintores, capture, ddc, dactable, axififo, rfdc\n",
    "import scipy.io as sio"
   ]
  },
  {
   "cell_type": "code",
   "execution_count": 2,
   "id": "ef2b74ce",
   "metadata": {},
   "outputs": [],
   "source": [
    "rfdc.patch_xrfclk_lmk()\n",
    "xrfclk.set_ref_clks(lmk_freq='122.88_viaext10M')"
   ]
  },
  {
   "cell_type": "code",
   "execution_count": 3,
   "id": "79500efa",
   "metadata": {},
   "outputs": [
    {
     "name": "stdout",
     "output_type": "stream",
     "text": [
      "PL Bitfile: /home/xilinx/jupyter_notebooks/ADC_Anritsu_Capture_Test/iqtest.bit\n",
      "PL Timestamp: 2022/2/24 21:35:56 +952527\n",
      "Overlay timestamp: 2022/2/24 21:35:56 +952527  Loaded: True\n"
     ]
    }
   ],
   "source": [
    "g3._gen3_overlay = ol = pynq.Overlay('iqtest.bit', ignore_version=True, download=True)\n",
    "print(f\"PL Bitfile: {PL.bitfile_name}\\nPL Timestamp: {PL.timestamp}\\n\"\n",
    "      f\"Overlay timestamp: {ol.timestamp}  Loaded: {ol.is_loaded()}\")"
   ]
  },
  {
   "cell_type": "code",
   "execution_count": 4,
   "id": "bd3eb198",
   "metadata": {
    "scrolled": false
   },
   "outputs": [],
   "source": [
    "#ol.rfdc.start_clocks()\n",
    "#ol.rfdc.select_adc('single_ended')\n",
    "# ol.rfdc.select_adc('differential')\n",
    "#ol.rfdc.rfdc_status(tell=True);\n",
    "# print(f'Active ADC pair: {ol.rfdc.active_adc}')"
   ]
  },
  {
   "cell_type": "markdown",
   "id": "f8ed09ed",
   "metadata": {},
   "source": [
    "### Zero PL DDR4 if desired"
   ]
  },
  {
   "cell_type": "code",
   "execution_count": null,
   "id": "8d4ea136",
   "metadata": {},
   "outputs": [],
   "source": [
    "#ddr4_mmio=pynq.MMIO(g3.mkidpynq.PL_DDR4_ADDR, length=2**32)"
   ]
  },
  {
   "cell_type": "code",
   "execution_count": null,
   "id": "d6d49493",
   "metadata": {},
   "outputs": [],
   "source": [
    "#ddr4_mmio.array[:]=0"
   ]
  },
  {
   "cell_type": "markdown",
   "id": "c6d954dd",
   "metadata": {},
   "source": [
    "## Set Anritsu"
   ]
  },
  {
   "cell_type": "code",
   "execution_count": 194,
   "id": "ca6df706",
   "metadata": {},
   "outputs": [],
   "source": [
    "#freq = 0.32 #GHz'freq1 = 0.32\n",
    "#freq = 0.6786\n",
    "#freq = 0.893245\n",
    "#freq = 0.1 \n",
    "#freq = 0.3\n",
    "#freq = 0.5\n",
    "freq = 0.8"
   ]
  },
  {
   "cell_type": "code",
   "execution_count": 195,
   "id": "41c99640",
   "metadata": {},
   "outputs": [],
   "source": [
    "mkidgen3.util.set_anritsu(freq)"
   ]
  },
  {
   "cell_type": "markdown",
   "id": "5359286f",
   "metadata": {},
   "source": [
    "## ADC Capture"
   ]
  },
  {
   "cell_type": "code",
   "execution_count": 196,
   "id": "a7913972",
   "metadata": {},
   "outputs": [],
   "source": [
    "cap_result=ol.capture.capture_adc(2**19)"
   ]
  },
  {
   "cell_type": "code",
   "execution_count": 197,
   "id": "155d6a1b",
   "metadata": {},
   "outputs": [],
   "source": [
    "adc_capture_data = cap_result[:,0]/2**15 + 1j*cap_result[:,1]/2**15"
   ]
  },
  {
   "cell_type": "code",
   "execution_count": 198,
   "id": "abec9b55",
   "metadata": {},
   "outputs": [],
   "source": [
    "cap_result.freebuffer()"
   ]
  },
  {
   "cell_type": "code",
   "execution_count": 199,
   "id": "c4d67902",
   "metadata": {},
   "outputs": [],
   "source": [
    "sio.savemat('freq7_i.mat', mdict={'freq7_i':adc_capture_data})"
   ]
  },
  {
   "cell_type": "code",
   "execution_count": 97,
   "id": "9574855d",
   "metadata": {},
   "outputs": [
    {
     "data": {
      "text/plain": [
       "PynqBuffer([ 0.00012207+0.04846191j,  0.00036621+0.2520752j ,\n",
       "             0.00024414+0.39746094j,  0.00097656+0.44812012j,\n",
       "            -0.00048828+0.39355469j,  0.00061035+0.24621582j,\n",
       "            -0.00158691+0.04016113j, -0.00061035-0.17590332j,\n",
       "             0.00036621-0.34997559j,  0.00036621-0.44177246j])"
      ]
     },
     "execution_count": 97,
     "metadata": {},
     "output_type": "execute_result"
    }
   ],
   "source": [
    "adcd[0:10]"
   ]
  },
  {
   "cell_type": "code",
   "execution_count": null,
   "id": "d015730c",
   "metadata": {},
   "outputs": [],
   "source": [
    "freq1 = 0.32\n",
    "freq2 = 0.6786\n",
    "freq3 = 0.893245\n",
    "freq4 = 0.1 \n",
    "freq5 = 0.3\n",
    "freq6 = 0.5\n",
    "freq7 = 0.8"
   ]
  }
 ],
 "metadata": {
  "kernelspec": {
   "display_name": "Python 3",
   "language": "python",
   "name": "python3"
  },
  "language_info": {
   "codemirror_mode": {
    "name": "ipython",
    "version": 3
   },
   "file_extension": ".py",
   "mimetype": "text/x-python",
   "name": "python",
   "nbconvert_exporter": "python",
   "pygments_lexer": "ipython3",
   "version": "3.8.2"
  }
 },
 "nbformat": 4,
 "nbformat_minor": 5
}
