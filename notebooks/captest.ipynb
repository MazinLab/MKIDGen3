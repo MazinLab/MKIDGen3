{
 "cells": [
  {
   "cell_type": "markdown",
   "id": "2a3235ab",
   "metadata": {},
   "source": [
    "# Imports"
   ]
  },
  {
   "cell_type": "code",
   "execution_count": 1,
   "id": "f551ef3c",
   "metadata": {},
   "outputs": [
    {
     "data": {
      "application/javascript": [
       "\n",
       "try {\n",
       "require(['notebook/js/codecell'], function(codecell) {\n",
       "  codecell.CodeCell.options_default.highlight_modes[\n",
       "      'magic_text/x-csrc'] = {'reg':[/^%%microblaze/]};\n",
       "  Jupyter.notebook.events.one('kernel_ready.Kernel', function(){\n",
       "      Jupyter.notebook.get_cells().map(function(cell){\n",
       "          if (cell.cell_type == 'code'){ cell.auto_highlight(); } }) ;\n",
       "  });\n",
       "});\n",
       "} catch (e) {};\n"
      ]
     },
     "metadata": {},
     "output_type": "display_data"
    },
    {
     "data": {
      "application/javascript": [
       "\n",
       "try {\n",
       "require(['notebook/js/codecell'], function(codecell) {\n",
       "  codecell.CodeCell.options_default.highlight_modes[\n",
       "      'magic_text/x-csrc'] = {'reg':[/^%%pybind11/]};\n",
       "  Jupyter.notebook.events.one('kernel_ready.Kernel', function(){\n",
       "      Jupyter.notebook.get_cells().map(function(cell){\n",
       "          if (cell.cell_type == 'code'){ cell.auto_highlight(); } }) ;\n",
       "  });\n",
       "});\n",
       "} catch (e) {};\n"
      ]
     },
     "metadata": {},
     "output_type": "display_data"
    }
   ],
   "source": [
    "import pynq\n",
    "import time\n",
    "from pynq import PL, DefaultIP\n",
    "import xrfclk\n",
    "import xrfdc\n",
    "import numpy as np\n",
    "from fpbinary import FpBinary\n",
    "import matplotlib.pyplot as plt\n",
    "from scipy.fftpack import fft, fftfreq, fftshift\n",
    "import mkidgen3 as g3\n",
    "import mkidgen3.mkidpynq as mkidpynq\n",
    "import mkidgen3.daccomb as daccomb\n",
    "import mkidgen3\n",
    "import mkidgen3.util\n",
    "from mkidgen3.daccomb import generate_dac_comb\n",
    "from mkidgen3.drivers import axiswitch, bintores, capture, ddc, dactable, axififo, rfdc\n",
    "from mkidgen3.ifboard import IFBoard\n",
    "import logging\n",
    "from logging import getLogger\n",
    "import json"
   ]
  },
  {
   "cell_type": "code",
   "execution_count": 2,
   "id": "0ea87bbe",
   "metadata": {},
   "outputs": [],
   "source": [
    "logging.basicConfig()\n",
    "logging.getLogger('mkidgen3').setLevel('DEBUG')"
   ]
  },
  {
   "cell_type": "code",
   "execution_count": 3,
   "id": "7f685dc7",
   "metadata": {},
   "outputs": [],
   "source": [
    "class SwitchOnLast(DefaultIP):\n",
    "    bindto = ['mazinlab:mkidgen3:switch_on_last:0.1']\n",
    "\n",
    "    def __init__(self, description):\n",
    "        super().__init__(description=description)\n",
    "    \n",
    "    def disable(self):\n",
    "        self.register_map.enable = False\n",
    "        \n",
    "    def set_driver(self, slave=0, commit=True):\n",
    "        \"\"\"Set the input\"\"\"\n",
    "        slave = max(min(slave, 5), 0)\n",
    "        #self.disable()\n",
    "        time.sleep(.1)\n",
    "        self.register_map.stream = slave\n",
    "        time.sleep(.1)\n",
    "        if commit:\n",
    "            self.register_map.enable=True\n",
    "\n",
    "    def is_disabled(self, master=0):\n",
    "        return self.register_map.enable.enable\n",
    "\n",
    "    def driver_for(self, master=0):\n",
    "        return self.register_map.stream.stream\n",
    "\n",
    "    def commit(self):\n",
    "        \"\"\"Commit config, triggers a soft 16 cycle reset\"\"\"\n",
    "        self.register_map.enable=True\n"
   ]
  },
  {
   "cell_type": "markdown",
   "id": "26b19867",
   "metadata": {},
   "source": [
    "# Load the Overlay and Mig Allocation XCLBIN"
   ]
  },
  {
   "cell_type": "code",
   "execution_count": 4,
   "id": "cab9d304",
   "metadata": {},
   "outputs": [],
   "source": [
    "ol = g3.configure('fifoclk/iqtest.bit', ignore_version=True, clocks=True, external_10mhz=True)"
   ]
  },
  {
   "cell_type": "code",
   "execution_count": 5,
   "id": "5eb237eb",
   "metadata": {},
   "outputs": [
    {
     "name": "stdout",
     "output_type": "stream",
     "text": [
      "PL Bitfile: /home/xilinx/jupyter_notebooks/captest/fifoclk/iqtest.bit\n",
      "PL Timestamp: 2022/3/8 20:54:26 +599988\n",
      "Overlay timestamp: 2022/3/8 20:54:26 +599988  Loaded: True\n"
     ]
    }
   ],
   "source": [
    "print(f\"PL Bitfile: {PL.bitfile_name}\\nPL Timestamp: {PL.timestamp}\\n\"\n",
    "      f\"Overlay timestamp: {ol.timestamp}  Loaded: {ol.is_loaded()}\")"
   ]
  },
  {
   "cell_type": "markdown",
   "id": "29767594",
   "metadata": {},
   "source": [
    "#manual"
   ]
  },
  {
   "cell_type": "code",
   "execution_count": 6,
   "id": "3a15fbe4",
   "metadata": {},
   "outputs": [
    {
     "name": "stderr",
     "output_type": "stream",
     "text": [
      "INFO:mkidgen3.drivers.rfdc:RFDCHierarchy does not support switching ADCs\n",
      "DEBUG:mkidgen3.drivers.capture:Capture of ddciq not supported\n"
     ]
    },
    {
     "data": {
      "text/plain": [
       "RegisterMap {\n",
       "  max = Register(max=1048320, RESERVED=0),\n",
       "  run = Register(run=1, RESERVED=0)\n",
       "}"
      ]
     },
     "execution_count": 6,
     "metadata": {},
     "output_type": "execute_result"
    }
   ],
   "source": [
    "rfdc=ol.rfdc\n",
    "axis2mm=ol.capture.axis2mm\n",
    "filter_iq = ol.capture.filter_iq_0\n",
    "iqgen=ol.iq_gen_0\n",
    "axiint = ol.axi_intc_0\n",
    "ol.iq_gen_0.register_map.max=256*(2**19-1)\n",
    "ol.iq_gen_0.register_map.run=True\n",
    "ol.iq_gen_0.register_map"
   ]
  },
  {
   "cell_type": "code",
   "execution_count": null,
   "id": "0a7fdc87",
   "metadata": {},
   "outputs": [],
   "source": [
    "ol.capture.switch.set_driver(0)"
   ]
  },
  {
   "cell_type": "code",
   "execution_count": 7,
   "id": "2f9e3958",
   "metadata": {},
   "outputs": [],
   "source": [
    "ol.capture.filter_phase.keep='all'\n",
    "ol.capture.filter_iq['rawiq'].keep='all'"
   ]
  },
  {
   "cell_type": "code",
   "execution_count": null,
   "id": "8147a1e4",
   "metadata": {},
   "outputs": [],
   "source": [
    "ol.capture.axis_switch.register_map.enable=True\n",
    "ol.capture.axis_switch.register_map.stream=3\n",
    "ol.capture.axis_switch.register_map"
   ]
  },
  {
   "cell_type": "code",
   "execution_count": null,
   "id": "3d5bf7c1",
   "metadata": {},
   "outputs": [],
   "source": [
    "self=ol.capture\n",
    "tap_location='rawiq'\n",
    "groups='all'\n",
    "n=2000\n",
    "self.filter_iq[tap_location].keep = groups\n",
    "n_groups = len(self.filter_iq[tap_location].keep)\n",
    "capture_bytes = n * n_groups * 32\n",
    "buffer = pynq.allocate((n, n_groups * 8, 2), dtype='i2', target=self.ddr4_0)\n",
    "addr = buffer.device_address\n",
    "source=tap_location\n",
    "n=capture_bytes\n",
    "\n",
    "if n % 64:\n",
    "    raise ValueError('Can only capture in multiples of 64 bytes')\n",
    "self.switch.set_driver(slave=self.SOURCE_MAP[source], commit=False)\n",
    "if not self.axis2mm.ready:\n",
    "    raise IOError(\"capture core not ready, this shouldn't happen.\"\n",
    "                  \" Try calling .axis2mm.abort() followed by .axis2mm.clear_error()\"\n",
    "                  \" then try a small throwaway capture (data order may not be aligned in the first capture \"\n",
    "                  \"after a reset).\")\n",
    "getLogger(__name__).debug(f'Starting capture of {n} bytes ({n // 64} beats) to address {hex(addr)} from '\n",
    "                          f'source {source}')\n",
    "self.axis2mm.addr = addr\n",
    "self.axis2mm.len = n\n",
    "self.axis2mm.start(continuous=False, increment=True)\n",
    "self.switch.commit()\n",
    "axis2mm.cmd_ctrl_reg"
   ]
  },
  {
   "cell_type": "code",
   "execution_count": null,
   "id": "1b3425da",
   "metadata": {},
   "outputs": [],
   "source": [
    "axis2mm.cmd_ctrl_reg"
   ]
  },
  {
   "cell_type": "markdown",
   "id": "5035f68e",
   "metadata": {},
   "source": [
    "Now try phase"
   ]
  },
  {
   "cell_type": "code",
   "execution_count": null,
   "id": "76455bb1",
   "metadata": {},
   "outputs": [],
   "source": [
    "self=ol.capture\n",
    "tap_location='phase'\n",
    "groups='all'\n",
    "n=2000\n",
    "\n",
    "self.filter_phase.keep = groups\n",
    "n_groups = len(self.filter_phase.keep)\n",
    "capture_bytes = n * 2 * n_groups * 16\n",
    "buffer = pynq.allocate((n, n_groups * 16), dtype='i2', target=self.ddr4_0)\n",
    "\n",
    "addr = buffer.device_address\n",
    "source=tap_location\n",
    "n=capture_bytes\n",
    "\n",
    "if n % 64:\n",
    "    raise ValueError('Can only capture in multiples of 64 bytes')\n",
    "self.switch.set_driver(slave=self.SOURCE_MAP[source], commit=False)\n",
    "if not self.axis2mm.ready:\n",
    "    raise IOError(\"capture core not ready, this shouldn't happen.\"\n",
    "                  \" Try calling .axis2mm.abort() followed by .axis2mm.clear_error()\"\n",
    "                  \" then try a small throwaway capture (data order may not be aligned in the first capture \"\n",
    "                  \"after a reset).\")\n",
    "getLogger(__name__).debug(f'Starting capture of {n} bytes ({n // 64} beats) to address {hex(addr)} from '\n",
    "                          f'source {source}')\n",
    "self.axis2mm.addr = addr\n",
    "self.axis2mm.len = n\n",
    "self.axis2mm.start(continuous=False, increment=True)\n",
    "self.switch.commit()\n",
    "self.axis2mm.cmd_ctrl_reg"
   ]
  },
  {
   "cell_type": "code",
   "execution_count": null,
   "id": "80862ec1",
   "metadata": {},
   "outputs": [],
   "source": [
    "self.axis2mm.cmd_ctrl_reg, ol.capture.switch.register_map"
   ]
  },
  {
   "cell_type": "code",
   "execution_count": null,
   "id": "bfcec7c2",
   "metadata": {},
   "outputs": [],
   "source": [
    "self.filter_iq['rawiq'].keep = 'all'"
   ]
  },
  {
   "cell_type": "code",
   "execution_count": null,
   "id": "5830c6db",
   "metadata": {},
   "outputs": [],
   "source": [
    "ol.capture.switch.register_map.enable=1"
   ]
  },
  {
   "cell_type": "markdown",
   "id": "d759b6e3",
   "metadata": {},
   "source": [
    "## Fetch Blocks"
   ]
  },
  {
   "cell_type": "markdown",
   "id": "8a1487bf",
   "metadata": {},
   "source": [
    "ol.capture.SOURCE_MAP = dict(adc=0, iq=2, rawiq=1, phase=3)"
   ]
  },
  {
   "cell_type": "code",
   "execution_count": null,
   "id": "e8c6659d",
   "metadata": {},
   "outputs": [],
   "source": [
    "rfdc=ol.rfdc\n",
    "axis2mm=ol.capture.axis2mm\n",
    "filter_iq = ol.capture.filter_iq_0\n",
    "iqgen=ol.iq_gen_0\n",
    "axiint = ol.axi_intc_0\n",
    "ddr4_mmio=pynq.MMIO(g3.mkidpynq.PL_DDR4_ADDR, length=2**32)"
   ]
  },
  {
   "cell_type": "markdown",
   "id": "de176607",
   "metadata": {},
   "source": [
    "Start a ramp running, show axis2mm status"
   ]
  },
  {
   "cell_type": "code",
   "execution_count": null,
   "id": "fb63a951",
   "metadata": {},
   "outputs": [],
   "source": [
    "iqgen.register_map.max=256*(2**19-1)\n",
    "iqgen.register_map.run=True\n",
    "iqgen.register_map"
   ]
  },
  {
   "cell_type": "code",
   "execution_count": null,
   "id": "91ebf2e6",
   "metadata": {},
   "outputs": [],
   "source": [
    "iqgen.register_map"
   ]
  },
  {
   "cell_type": "code",
   "execution_count": null,
   "id": "4bae8de6",
   "metadata": {
    "scrolled": true
   },
   "outputs": [],
   "source": [
    "axis2mm.cmd_ctrl_reg"
   ]
  },
  {
   "cell_type": "markdown",
   "id": "5187f4f7",
   "metadata": {},
   "source": [
    "Example of how to manually start a stream flowing up to the stream limit block"
   ]
  },
  {
   "cell_type": "markdown",
   "id": "9beb8e4a",
   "metadata": {},
   "source": [
    "ol.capture.switch.set_driver(slave=ol.capture.SOURCE_MAP['rawiq'], commit=True)"
   ]
  },
  {
   "cell_type": "markdown",
   "id": "924348c0",
   "metadata": {},
   "source": [
    "ol.capture.filter_iq['rawiq'].keep='all'\n",
    "ol.capture.filter_iq['rawiq'].register_map"
   ]
  },
  {
   "cell_type": "markdown",
   "id": "c1014bb4",
   "metadata": {},
   "source": [
    "## Capture data for iq and look at it\n",
    "\n",
    "iq vals are 32bit uints on a ramp, sloppily grab the real and subtract the first value from each capture.\n",
    "Resulting values, raveled out of their resonator channels, should count by 1 until they wrap at MAX_UINT16 and then repeat, but you need to be careful that the - value isn't caused by doing np.diff on a uint"
   ]
  },
  {
   "cell_type": "code",
   "execution_count": 8,
   "id": "aadb5098",
   "metadata": {
    "scrolled": true
   },
   "outputs": [
    {
     "name": "stderr",
     "output_type": "stream",
     "text": [
      "DEBUG:mkidgen3.drivers.capture:Capturing 15.6 MB of data @ 16384.0 MBps. ETA 1 ms\n",
      "DEBUG:mkidgen3.drivers.capture:Capturing 15.6 MB of data @ 16384.0 MBps. ETA 1 ms\n",
      "DEBUG:mkidgen3.drivers.capture:Capturing 15.6 MB of data @ 16384.0 MBps. ETA 1 ms\n",
      "DEBUG:mkidgen3.drivers.capture:Capturing 15.6 MB of data @ 16384.0 MBps. ETA 1 ms\n",
      "DEBUG:mkidgen3.drivers.capture:Capturing 15.6 MB of data @ 16384.0 MBps. ETA 1 ms\n",
      "DEBUG:mkidgen3.drivers.capture:Capturing 15.6 MB of data @ 16384.0 MBps. ETA 1 ms\n",
      "DEBUG:mkidgen3.drivers.capture:Capturing 15.6 MB of data @ 16384.0 MBps. ETA 1 ms\n",
      "DEBUG:mkidgen3.drivers.capture:Capturing 15.6 MB of data @ 16384.0 MBps. ETA 1 ms\n"
     ]
    }
   ],
   "source": [
    "def rc():\n",
    "    time.sleep(np.random.uniform(0,1))\n",
    "    return ol.capture.capture_iq(2000, groups='all', tap_location='rawiq')\n",
    "d=[rc() for i in range(8)]"
   ]
  },
  {
   "cell_type": "code",
   "execution_count": 9,
   "id": "6330f3e6",
   "metadata": {},
   "outputs": [
    {
     "data": {
      "text/plain": [
       "{'r_busy': False,\n",
       " 'r_err': False,\n",
       " 'r_complete': True,\n",
       " 'r_continuous': False,\n",
       " 'r_increment_n': False,\n",
       " 'r_tlast_syncd_n': True,\n",
       " 'decode_error': False,\n",
       " 'slave_error': False,\n",
       " 'overflow_error': False,\n",
       " 'aborting': False,\n",
       " 'fifo_len': 8,\n",
       " 'abort': 0}"
      ]
     },
     "execution_count": 9,
     "metadata": {},
     "output_type": "execute_result"
    }
   ],
   "source": [
    "#NB if samples grows past ~2000 this starts to get a bit slow\n",
    "x=[]\n",
    "for v in d:\n",
    "    a=v.astype(np.uint16, copy=False)\n",
    "    a=np.array(a[...,0].reshape(-1))\n",
    "    a-=a[0]\n",
    "    x.append(a)\n",
    "x=np.array(x)\n",
    "axis2mm.cmd_ctrl_reg"
   ]
  },
  {
   "cell_type": "markdown",
   "id": "766f3675",
   "metadata": {},
   "source": [
    "If this isn't 1, 0 (or possibly -MAX_UINT16) there is a problem"
   ]
  },
  {
   "cell_type": "code",
   "execution_count": 10,
   "id": "5b1d2a1a",
   "metadata": {},
   "outputs": [
    {
     "data": {
      "text/plain": [
       "(1, -65535)"
      ]
     },
     "execution_count": 10,
     "metadata": {},
     "output_type": "execute_result"
    }
   ],
   "source": [
    "xd=np.diff(x.astype(np.int32),axis=1)\n",
    "xd.max(), xd.min()"
   ]
  },
  {
   "cell_type": "code",
   "execution_count": 11,
   "id": "6e56c0a0",
   "metadata": {},
   "outputs": [
    {
     "name": "stdout",
     "output_type": "stream",
     "text": [
      "Beat   0, 128, ...  lane 0 chan    0: [    0  2048  4096  6144  8192 10240 12288 14336 16384 18432]\n",
      "Beat   0, 128, ...  lane 1 chan    1: [    1  2049  4097  6145  8193 10241 12289 14337 16385 18433]\n",
      "Beat   0, 128, ...  lane 2 chan    2: [    2  2050  4098  6146  8194 10242 12290 14338 16386 18434]\n",
      "Beat   0, 128, ...  lane 3 chan    3: [    3  2051  4099  6147  8195 10243 12291 14339 16387 18435]\n",
      "Beat   0, 128, ...  lane 4 chan    4: [    4  2052  4100  6148  8196 10244 12292 14340 16388 18436]\n",
      "Beat   0, 128, ...  lane 5 chan    5: [    5  2053  4101  6149  8197 10245 12293 14341 16389 18437]\n",
      "Beat   0, 128, ...  lane 6 chan    6: [    6  2054  4102  6150  8198 10246 12294 14342 16390 18438]\n",
      "Beat   0, 128, ...  lane 7 chan    7: [    7  2055  4103  6151  8199 10247 12295 14343 16391 18439]\n",
      "Beat   0, 128, ...  lane 0 chan    8: [    8  2056  4104  6152  8200 10248 12296 14344 16392 18440]\n",
      "Beat   0, 128, ...  lane 1 chan    9: [    9  2057  4105  6153  8201 10249 12297 14345 16393 18441]\n",
      "Beat   0, 128, ...  lane 2 chan   10: [   10  2058  4106  6154  8202 10250 12298 14346 16394 18442]\n",
      "Beat   0, 128, ...  lane 3 chan   11: [   11  2059  4107  6155  8203 10251 12299 14347 16395 18443]\n",
      "Beat   0, 128, ...  lane 4 chan   12: [   12  2060  4108  6156  8204 10252 12300 14348 16396 18444]\n",
      "Beat   0, 128, ...  lane 5 chan   13: [   13  2061  4109  6157  8205 10253 12301 14349 16397 18445]\n",
      "Beat   0, 128, ...  lane 6 chan   14: [   14  2062  4110  6158  8206 10254 12302 14350 16398 18446]\n",
      "Beat   0, 128, ...  lane 7 chan   15: [   15  2063  4111  6159  8207 10255 12303 14351 16399 18447]\n",
      "Beat   1, 129, ...  lane 0 chan   16: [   16  2064  4112  6160  8208 10256 12304 14352 16400 18448]\n",
      "Beat   4, 132, ...  lane 7 chan   71: [   71  2119  4167  6215  8263 10311 12359 14407 16455 18503]\n",
      "Beat   4, 132, ...  lane 0 chan   72: [   72  2120  4168  6216  8264 10312 12360 14408 16456 18504]\n",
      "Beat 126, 254, ...  lane 7 chan 2031: [ 2031  4079  6127  8175 10223 12271 14319 16367 18415 20463]\n",
      "Beat 127, 255, ...  lane 0 chan 2032: [ 2032  4080  6128  8176 10224 12272 14320 16368 18416 20464]\n",
      "Beat 127, 255, ...  lane 1 chan 2033: [ 2033  4081  6129  8177 10225 12273 14321 16369 18417 20465]\n",
      "Beat 127, 255, ...  lane 2 chan 2034: [ 2034  4082  6130  8178 10226 12274 14322 16370 18418 20466]\n",
      "Beat 127, 255, ...  lane 3 chan 2035: [ 2035  4083  6131  8179 10227 12275 14323 16371 18419 20467]\n",
      "Beat 127, 255, ...  lane 4 chan 2036: [ 2036  4084  6132  8180 10228 12276 14324 16372 18420 20468]\n",
      "Beat 127, 255, ...  lane 5 chan 2037: [ 2037  4085  6133  8181 10229 12277 14325 16373 18421 20469]\n",
      "Beat 127, 255, ...  lane 6 chan 2038: [ 2038  4086  6134  8182 10230 12278 14326 16374 18422 20470]\n",
      "Beat 127, 255, ...  lane 7 chan 2039: [ 2039  4087  6135  8183 10231 12279 14327 16375 18423 20471]\n",
      "Beat 127, 255, ...  lane 0 chan 2040: [ 2040  4088  6136  8184 10232 12280 14328 16376 18424 20472]\n",
      "Beat 127, 255, ...  lane 1 chan 2041: [ 2041  4089  6137  8185 10233 12281 14329 16377 18425 20473]\n",
      "Beat 127, 255, ...  lane 2 chan 2042: [ 2042  4090  6138  8186 10234 12282 14330 16378 18426 20474]\n",
      "Beat 127, 255, ...  lane 3 chan 2043: [ 2043  4091  6139  8187 10235 12283 14331 16379 18427 20475]\n",
      "Beat 127, 255, ...  lane 4 chan 2044: [ 2044  4092  6140  8188 10236 12284 14332 16380 18428 20476]\n",
      "Beat 127, 255, ...  lane 5 chan 2045: [ 2045  4093  6141  8189 10237 12285 14333 16381 18429 20477]\n",
      "Beat 127, 255, ...  lane 6 chan 2046: [ 2046  4094  6142  8190 10238 12286 14334 16382 18430 20478]\n",
      "Beat 127, 255, ...  lane 7 chan 2047: [ 2047  4095  6143  8191 10239 12287 14335 16383 18431 20479]\n"
     ]
    }
   ],
   "source": [
    "xi=x.astype(np.int32)\n",
    "for i in list(range(17))+[71,72]+list(range(2047-16,2048)):\n",
    "    print(f'Beat {i//16:3}, {i//16+128:3}, ...  lane {i%8} chan {i:4}: {xi[0,i::2048][:10]}')"
   ]
  },
  {
   "cell_type": "markdown",
   "id": "159382d8",
   "metadata": {},
   "source": [
    "Its a good idea to go through this section a few times with different capture lengths, all should be fine."
   ]
  },
  {
   "cell_type": "markdown",
   "id": "21514a28",
   "metadata": {},
   "source": [
    "## Capture data for phase and look at it, this will trigger a stream switch\n",
    "\n",
    "phase data is on a slightly different ramp, with each group of 4 phases counting the stream beat. So we expect chan 0-3 to count 0,512,1024,... chan 4-7 to count 1,513,1025,..."
   ]
  },
  {
   "cell_type": "code",
   "execution_count": 12,
   "id": "84049739",
   "metadata": {},
   "outputs": [
    {
     "name": "stderr",
     "output_type": "stream",
     "text": [
      "DEBUG:mkidgen3.drivers.capture:Capturing ~0.78 MB of data @ 4096.0 MBps. ETA 0 ms\n",
      "DEBUG:mkidgen3.drivers.capture:Capturing ~0.78 MB of data @ 4096.0 MBps. ETA 0 ms\n",
      "DEBUG:mkidgen3.drivers.capture:Capturing ~0.78 MB of data @ 4096.0 MBps. ETA 0 ms\n",
      "DEBUG:mkidgen3.drivers.capture:Capturing ~0.78 MB of data @ 4096.0 MBps. ETA 0 ms\n",
      "DEBUG:mkidgen3.drivers.capture:Capturing ~0.78 MB of data @ 4096.0 MBps. ETA 0 ms\n",
      "DEBUG:mkidgen3.drivers.capture:Capturing ~0.78 MB of data @ 4096.0 MBps. ETA 0 ms\n",
      "DEBUG:mkidgen3.drivers.capture:Capturing ~0.78 MB of data @ 4096.0 MBps. ETA 0 ms\n",
      "DEBUG:mkidgen3.drivers.capture:Capturing ~0.78 MB of data @ 4096.0 MBps. ETA 0 ms\n"
     ]
    }
   ],
   "source": [
    "def rc():\n",
    "    time.sleep(np.random.uniform(0,1))\n",
    "    return ol.capture.capture_phase(200, groups='all')\n",
    "d=[rc() for i in range(8)]"
   ]
  },
  {
   "cell_type": "code",
   "execution_count": null,
   "id": "573615bb",
   "metadata": {},
   "outputs": [],
   "source": [
    "ol.capture.switch.register_map.enable=0\n",
    "ol.capture.switch.register_map.stream=0"
   ]
  },
  {
   "cell_type": "code",
   "execution_count": null,
   "id": "07a557e3",
   "metadata": {},
   "outputs": [],
   "source": [
    "axis2mm.cmd_ctrl_reg"
   ]
  },
  {
   "cell_type": "code",
   "execution_count": 13,
   "id": "0c8570fc",
   "metadata": {},
   "outputs": [],
   "source": [
    "x=np.array([x.astype(np.int32, copy=False).reshape(-1)-x.flat[0].astype(np.int32) for x in d])"
   ]
  },
  {
   "cell_type": "code",
   "execution_count": 14,
   "id": "5bdca7b4",
   "metadata": {},
   "outputs": [
    {
     "name": "stdout",
     "output_type": "stream",
     "text": [
      "Beat   0, 128, ...  lane 0 chan    0: [     0    512   1024   1536   2048 -62976 -62464 -61952 -61440 -60928]\n",
      "Beat   0, 128, ...  lane 1 chan    1: [     0    512   1024   1536   2048 -62976 -62464 -61952 -61440 -60928]\n",
      "Beat   0, 128, ...  lane 2 chan    2: [     0    512   1024   1536   2048 -62976 -62464 -61952 -61440 -60928]\n",
      "Beat   0, 128, ...  lane 3 chan    3: [     0    512   1024   1536   2048 -62976 -62464 -61952 -61440 -60928]\n",
      "Beat   0, 128, ...  lane 0 chan    4: [     1    513   1025   1537   2049 -62975 -62463 -61951 -61439 -60927]\n",
      "Beat   0, 128, ...  lane 1 chan    5: [     1    513   1025   1537   2049 -62975 -62463 -61951 -61439 -60927]\n",
      "Beat   0, 128, ...  lane 2 chan    6: [     1    513   1025   1537   2049 -62975 -62463 -61951 -61439 -60927]\n",
      "Beat   0, 128, ...  lane 3 chan    7: [     1    513   1025   1537   2049 -62975 -62463 -61951 -61439 -60927]\n",
      "Beat   0, 128, ...  lane 0 chan    8: [     2    514   1026   1538   2050 -62974 -62462 -61950 -61438 -60926]\n",
      "Beat   0, 128, ...  lane 1 chan    9: [     2    514   1026   1538   2050 -62974 -62462 -61950 -61438 -60926]\n",
      "Beat   0, 128, ...  lane 2 chan   10: [     2    514   1026   1538   2050 -62974 -62462 -61950 -61438 -60926]\n",
      "Beat   0, 128, ...  lane 3 chan   11: [     2    514   1026   1538   2050 -62974 -62462 -61950 -61438 -60926]\n",
      "Beat   0, 128, ...  lane 0 chan   12: [     3    515   1027   1539   2051 -62973 -62461 -61949 -61437 -60925]\n",
      "Beat   0, 128, ...  lane 1 chan   13: [     3    515   1027   1539   2051 -62973 -62461 -61949 -61437 -60925]\n",
      "Beat   0, 128, ...  lane 2 chan   14: [     3    515   1027   1539   2051 -62973 -62461 -61949 -61437 -60925]\n",
      "Beat   0, 128, ...  lane 3 chan   15: [     3    515   1027   1539   2051 -62973 -62461 -61949 -61437 -60925]\n",
      "Beat   1, 129, ...  lane 0 chan   16: [     4    516   1028   1540   2052 -62972 -62460 -61948 -61436 -60924]\n",
      "Beat 126, 254, ...  lane 3 chan 2031: [   507   1019   1531   2043   2555 -62469 -61957 -61445 -60933 -60421]\n",
      "Beat 127, 255, ...  lane 0 chan 2032: [   508   1020   1532   2044   2556 -62468 -61956 -61444 -60932 -60420]\n",
      "Beat 127, 255, ...  lane 1 chan 2033: [   508   1020   1532   2044   2556 -62468 -61956 -61444 -60932 -60420]\n",
      "Beat 127, 255, ...  lane 2 chan 2034: [   508   1020   1532   2044   2556 -62468 -61956 -61444 -60932 -60420]\n",
      "Beat 127, 255, ...  lane 3 chan 2035: [   508   1020   1532   2044   2556 -62468 -61956 -61444 -60932 -60420]\n",
      "Beat 127, 255, ...  lane 0 chan 2036: [   509   1021   1533   2045   2557 -62467 -61955 -61443 -60931 -60419]\n",
      "Beat 127, 255, ...  lane 1 chan 2037: [   509   1021   1533   2045   2557 -62467 -61955 -61443 -60931 -60419]\n",
      "Beat 127, 255, ...  lane 2 chan 2038: [   509   1021   1533   2045   2557 -62467 -61955 -61443 -60931 -60419]\n",
      "Beat 127, 255, ...  lane 3 chan 2039: [   509   1021   1533   2045   2557 -62467 -61955 -61443 -60931 -60419]\n",
      "Beat 127, 255, ...  lane 0 chan 2040: [   510   1022   1534   2046   2558 -62466 -61954 -61442 -60930 -60418]\n",
      "Beat 127, 255, ...  lane 1 chan 2041: [   510   1022   1534   2046   2558 -62466 -61954 -61442 -60930 -60418]\n",
      "Beat 127, 255, ...  lane 2 chan 2042: [   510   1022   1534   2046   2558 -62466 -61954 -61442 -60930 -60418]\n",
      "Beat 127, 255, ...  lane 3 chan 2043: [   510   1022   1534   2046   2558 -62466 -61954 -61442 -60930 -60418]\n",
      "Beat 127, 255, ...  lane 0 chan 2044: [   511   1023   1535   2047   2559 -62465 -61953 -61441 -60929 -60417]\n",
      "Beat 127, 255, ...  lane 1 chan 2045: [   511   1023   1535   2047   2559 -62465 -61953 -61441 -60929 -60417]\n",
      "Beat 127, 255, ...  lane 2 chan 2046: [   511   1023   1535   2047   2559 -62465 -61953 -61441 -60929 -60417]\n",
      "Beat 127, 255, ...  lane 3 chan 2047: [   511   1023   1535   2047   2559 -62465 -61953 -61441 -60929 -60417]\n"
     ]
    }
   ],
   "source": [
    "xi=x.astype(np.int32)\n",
    "for i in list(range(17))+list(range(2047-16,2048)):\n",
    "    print(f'Beat {i//16:3}, {i//16+128:3}, ...  lane {i%4} chan {i:4}: {xi[0,i::2048][:10]}')"
   ]
  },
  {
   "cell_type": "markdown",
   "id": "67b6fd64",
   "metadata": {},
   "source": [
    "All had better be 1"
   ]
  },
  {
   "cell_type": "code",
   "execution_count": 15,
   "id": "3d981b87",
   "metadata": {},
   "outputs": [
    {
     "data": {
      "text/plain": [
       "array([1, 1, 1, 1, 1, 1, 1, 1], dtype=int32)"
      ]
     },
     "execution_count": 15,
     "metadata": {},
     "output_type": "execute_result"
    }
   ],
   "source": [
    "np.diff(x[:,::4].astype(np.int32), axis=1).max(1)"
   ]
  },
  {
   "cell_type": "markdown",
   "id": "09ed5e56",
   "metadata": {},
   "source": [
    "## ADC Capture"
   ]
  },
  {
   "cell_type": "code",
   "execution_count": 16,
   "id": "385f9f07",
   "metadata": {},
   "outputs": [
    {
     "name": "stderr",
     "output_type": "stream",
     "text": [
      "DEBUG:mkidgen3.drivers.capture:Capturing 0.1953125 MB of data @ 16384 MB/s. ETA 0 ms\n",
      "DEBUG:mkidgen3.drivers.capture:Capturing 0.1953125 MB of data @ 16384 MB/s. ETA 0 ms\n",
      "DEBUG:mkidgen3.drivers.capture:Capturing 0.1953125 MB of data @ 16384 MB/s. ETA 0 ms\n",
      "DEBUG:mkidgen3.drivers.capture:Capturing 0.1953125 MB of data @ 16384 MB/s. ETA 0 ms\n",
      "DEBUG:mkidgen3.drivers.capture:Capturing 0.1953125 MB of data @ 16384 MB/s. ETA 0 ms\n",
      "DEBUG:mkidgen3.drivers.capture:Capturing 0.1953125 MB of data @ 16384 MB/s. ETA 0 ms\n",
      "DEBUG:mkidgen3.drivers.capture:Capturing 0.1953125 MB of data @ 16384 MB/s. ETA 0 ms\n",
      "DEBUG:mkidgen3.drivers.capture:Capturing 0.1953125 MB of data @ 16384 MB/s. ETA 0 ms\n"
     ]
    }
   ],
   "source": [
    "def rc():\n",
    "    time.sleep(np.random.uniform(0,1))\n",
    "    return ol.capture.capture_adc(256*200)\n",
    "d=[rc() for i in range(8)]"
   ]
  },
  {
   "cell_type": "code",
   "execution_count": 17,
   "id": "851678a0",
   "metadata": {},
   "outputs": [],
   "source": [
    "x=np.array([x[:,0].astype(np.uint16, copy=False)-x.flat[0].astype(np.uint16) for x in d])"
   ]
  },
  {
   "cell_type": "code",
   "execution_count": 18,
   "id": "8b554fd0",
   "metadata": {},
   "outputs": [
    {
     "data": {
      "text/plain": [
       "(array([1, 1, 1, 1, 1, 1, 1, 1], dtype=int32),\n",
       " array([1, 1, 1, 1, 1, 1, 1, 1], dtype=int32))"
      ]
     },
     "execution_count": 18,
     "metadata": {},
     "output_type": "execute_result"
    }
   ],
   "source": [
    "np.diff(x.astype(np.int32), axis=1).max(1),np.diff(x.astype(np.int32), axis=1).min(1)"
   ]
  },
  {
   "cell_type": "code",
   "execution_count": 19,
   "id": "cab6c8c3",
   "metadata": {},
   "outputs": [
    {
     "name": "stdout",
     "output_type": "stream",
     "text": [
      "Beat   0, 128, ...  lane 0 chan    0: [    0  2048  4096  6144  8192 10240 12288 14336 16384 18432]\n",
      "Beat   0, 128, ...  lane 1 chan    1: [    1  2049  4097  6145  8193 10241 12289 14337 16385 18433]\n",
      "Beat   0, 128, ...  lane 2 chan    2: [    2  2050  4098  6146  8194 10242 12290 14338 16386 18434]\n",
      "Beat   0, 128, ...  lane 3 chan    3: [    3  2051  4099  6147  8195 10243 12291 14339 16387 18435]\n",
      "Beat   0, 128, ...  lane 4 chan    4: [    4  2052  4100  6148  8196 10244 12292 14340 16388 18436]\n",
      "Beat   0, 128, ...  lane 5 chan    5: [    5  2053  4101  6149  8197 10245 12293 14341 16389 18437]\n",
      "Beat   0, 128, ...  lane 6 chan    6: [    6  2054  4102  6150  8198 10246 12294 14342 16390 18438]\n",
      "Beat   0, 128, ...  lane 7 chan    7: [    7  2055  4103  6151  8199 10247 12295 14343 16391 18439]\n",
      "Beat   0, 128, ...  lane 0 chan    8: [    8  2056  4104  6152  8200 10248 12296 14344 16392 18440]\n",
      "Beat   0, 128, ...  lane 1 chan    9: [    9  2057  4105  6153  8201 10249 12297 14345 16393 18441]\n",
      "Beat   0, 128, ...  lane 2 chan   10: [   10  2058  4106  6154  8202 10250 12298 14346 16394 18442]\n",
      "Beat   0, 128, ...  lane 3 chan   11: [   11  2059  4107  6155  8203 10251 12299 14347 16395 18443]\n",
      "Beat   0, 128, ...  lane 4 chan   12: [   12  2060  4108  6156  8204 10252 12300 14348 16396 18444]\n",
      "Beat   0, 128, ...  lane 5 chan   13: [   13  2061  4109  6157  8205 10253 12301 14349 16397 18445]\n",
      "Beat   0, 128, ...  lane 6 chan   14: [   14  2062  4110  6158  8206 10254 12302 14350 16398 18446]\n",
      "Beat   0, 128, ...  lane 7 chan   15: [   15  2063  4111  6159  8207 10255 12303 14351 16399 18447]\n",
      "Beat   1, 129, ...  lane 0 chan   16: [   16  2064  4112  6160  8208 10256 12304 14352 16400 18448]\n",
      "Beat 126, 254, ...  lane 7 chan 2031: [ 2031  4079  6127  8175 10223 12271 14319 16367 18415 20463]\n",
      "Beat 127, 255, ...  lane 0 chan 2032: [ 2032  4080  6128  8176 10224 12272 14320 16368 18416 20464]\n",
      "Beat 127, 255, ...  lane 1 chan 2033: [ 2033  4081  6129  8177 10225 12273 14321 16369 18417 20465]\n",
      "Beat 127, 255, ...  lane 2 chan 2034: [ 2034  4082  6130  8178 10226 12274 14322 16370 18418 20466]\n",
      "Beat 127, 255, ...  lane 3 chan 2035: [ 2035  4083  6131  8179 10227 12275 14323 16371 18419 20467]\n",
      "Beat 127, 255, ...  lane 4 chan 2036: [ 2036  4084  6132  8180 10228 12276 14324 16372 18420 20468]\n",
      "Beat 127, 255, ...  lane 5 chan 2037: [ 2037  4085  6133  8181 10229 12277 14325 16373 18421 20469]\n",
      "Beat 127, 255, ...  lane 6 chan 2038: [ 2038  4086  6134  8182 10230 12278 14326 16374 18422 20470]\n",
      "Beat 127, 255, ...  lane 7 chan 2039: [ 2039  4087  6135  8183 10231 12279 14327 16375 18423 20471]\n",
      "Beat 127, 255, ...  lane 0 chan 2040: [ 2040  4088  6136  8184 10232 12280 14328 16376 18424 20472]\n",
      "Beat 127, 255, ...  lane 1 chan 2041: [ 2041  4089  6137  8185 10233 12281 14329 16377 18425 20473]\n",
      "Beat 127, 255, ...  lane 2 chan 2042: [ 2042  4090  6138  8186 10234 12282 14330 16378 18426 20474]\n",
      "Beat 127, 255, ...  lane 3 chan 2043: [ 2043  4091  6139  8187 10235 12283 14331 16379 18427 20475]\n",
      "Beat 127, 255, ...  lane 4 chan 2044: [ 2044  4092  6140  8188 10236 12284 14332 16380 18428 20476]\n",
      "Beat 127, 255, ...  lane 5 chan 2045: [ 2045  4093  6141  8189 10237 12285 14333 16381 18429 20477]\n",
      "Beat 127, 255, ...  lane 6 chan 2046: [ 2046  4094  6142  8190 10238 12286 14334 16382 18430 20478]\n",
      "Beat 127, 255, ...  lane 7 chan 2047: [ 2047  4095  6143  8191 10239 12287 14335 16383 18431 20479]\n"
     ]
    }
   ],
   "source": [
    "xi=x.astype(np.int32)\n",
    "for i in list(range(17))+list(range(2047-16,2048)):\n",
    "    print(f'Beat {i//16:3}, {i//16+128:3}, ...  lane {i%8} chan {i:4}: {xi[0,i::2048][:10]}')"
   ]
  },
  {
   "cell_type": "code",
   "execution_count": null,
   "id": "8a47422c",
   "metadata": {},
   "outputs": [],
   "source": [
    "try:\n",
    "    print(x[x!=x.max()].max())\n",
    "except ValueError:\n",
    "    pass"
   ]
  }
 ],
 "metadata": {
  "kernelspec": {
   "display_name": "Python 3",
   "language": "python",
   "name": "python3"
  },
  "language_info": {
   "codemirror_mode": {
    "name": "ipython",
    "version": 3
   },
   "file_extension": ".py",
   "mimetype": "text/x-python",
   "name": "python",
   "nbconvert_exporter": "python",
   "pygments_lexer": "ipython3",
   "version": "3.8.2"
  }
 },
 "nbformat": 4,
 "nbformat_minor": 5
}
