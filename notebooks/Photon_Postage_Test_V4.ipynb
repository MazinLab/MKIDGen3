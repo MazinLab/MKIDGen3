{
 "cells": [
  {
   "cell_type": "markdown",
   "id": "c7b9c5ac",
   "metadata": {},
   "source": [
    "# Import Drivers+, Download Overlay"
   ]
  },
  {
   "cell_type": "code",
   "execution_count": 228,
   "id": "ae7ad640",
   "metadata": {
    "pycharm": {
     "name": "#%%\n"
    }
   },
   "outputs": [],
   "source": [
    "import logging\n",
    "import sys\n",
    "import pynq\n",
    "import time\n",
    "from pynq import PL, buffer\n",
    "\n",
    "import numpy as np\n",
    "from fpbinary import FpBinary\n",
    "import matplotlib.pyplot as plt\n",
    "from scipy.fftpack import fft, fftfreq, fftshift\n",
    "import scipy.io as sio\n",
    "\n",
    "import mkidgen3 as g3\n",
    "import mkidgen3.mkidpynq as mkidpynq\n",
    "import mkidgen3.util\n",
    "import mkidgen3.plotting\n",
    "from mkidgen3.plotting import plot_waveforms, plot_res_chan\n",
    "from mkidgen3.daccomb import generate_dac_comb\n",
    "from mkidgen3.drivers import axiswitch, bintores, capture, ddc, dactable, axififo, rfdc, trigger\n",
    "#from mkidgen3.drivers.ifboard import IFBoard\n",
    "from mkidgen3.testutils import *\n",
    "import xrfclk\n",
    "import xrfdc\n",
    "from pynq import Overlay"
   ]
  },
  {
   "cell_type": "code",
   "execution_count": 229,
   "id": "edbf8a61",
   "metadata": {},
   "outputs": [],
   "source": [
    "import logging"
   ]
  },
  {
   "cell_type": "code",
   "execution_count": 230,
   "id": "1103d915",
   "metadata": {},
   "outputs": [],
   "source": [
    "logging.basicConfig()"
   ]
  },
  {
   "cell_type": "code",
   "execution_count": 231,
   "id": "11a154b4",
   "metadata": {
    "pycharm": {
     "name": "#%%\n"
    }
   },
   "outputs": [],
   "source": [
    "# Download Overlay, Optionally Configure Clocks\n",
    "bitstream='photon_captest4.bit'\n",
    "#bitstream='gen3_top.bit'\n",
    "ol = g3.overlay_helpers.configure(bitstream, ignore_version=True, clocks=False, programming_key='4.096GSPS_MTS', download=True)"
   ]
  },
  {
   "cell_type": "markdown",
   "id": "022acd22",
   "metadata": {},
   "source": [
    "# Interrupts"
   ]
  },
  {
   "cell_type": "code",
   "execution_count": 266,
   "id": "267a0b1f",
   "metadata": {},
   "outputs": [
    {
     "data": {
      "text/plain": [
       "<pynq.interrupt.Interrupt at 0xffff927c3b20>"
      ]
     },
     "execution_count": 266,
     "metadata": {},
     "output_type": "execute_result"
    }
   ],
   "source": [
    "ol.trigger_system.photon_maxi_0.interrupt"
   ]
  },
  {
   "cell_type": "code",
   "execution_count": 318,
   "id": "7e7ee4cf",
   "metadata": {},
   "outputs": [
    {
     "data": {
      "text/plain": [
       "RegisterMap {\n",
       "  CTRL = Register(AP_START=1, AP_DONE=0, AP_IDLE=0, AP_READY=0, RESERVED_1=0, AUTO_RESTART=1, RESERVED_2=0, INTERRUPT=0, RESERVED_3=0),\n",
       "  GIER = Register(Enable=1, RESERVED=0),\n",
       "  IP_IER = Register(CHAN0_INT_EN=1, CHAN1_INT_EN=0, RESERVED_0=0),\n",
       "  IP_ISR = Register(CHAN0_INT_ST=0, CHAN1_INT_ST=0, RESERVED_0=0),\n",
       "  photons_out_1 = Register(photons_out=2102394880),\n",
       "  photons_out_2 = Register(photons_out=0),\n",
       "  Memory_n_photons = Register(value=0),\n",
       "  active_buffer = Register(active_buffer=0, RESERVED=0),\n",
       "  active_buffer_ctrl = Register(active_buffer_ap_vld=1, RESERVED=0),\n",
       "  photons_per_buf = Register(photons_per_buf=65535, RESERVED=0),\n",
       "  time_shift = Register(time_shift=12, RESERVED=0)\n",
       "}"
      ]
     },
     "execution_count": 318,
     "metadata": {},
     "output_type": "execute_result"
    }
   ],
   "source": [
    "ol.trigger_system.photon_maxi_0.register_map"
   ]
  },
  {
   "cell_type": "code",
   "execution_count": 127,
   "id": "f037800e",
   "metadata": {},
   "outputs": [],
   "source": [
    "async def wait_for_photon():\n",
    "    ol.phase_in.tx(phases_in)\n",
    "    await ol.trigger_system.photon_maxi_0.interrupt.wait()\n",
    "    saved_data = ol.trigger_system.photon_maxi_0.get_photons()\n",
    "    print(ol.trigger_system.photon_maxi_0.register_map)"
   ]
  },
  {
   "cell_type": "code",
   "execution_count": 128,
   "id": "3f224d97",
   "metadata": {},
   "outputs": [],
   "source": [
    "import asyncio\n",
    "loop = asyncio.get_event_loop()"
   ]
  },
  {
   "cell_type": "code",
   "execution_count": 129,
   "id": "e58b5eb0",
   "metadata": {},
   "outputs": [
    {
     "name": "stdout",
     "output_type": "stream",
     "text": [
      "RegisterMap {\n",
      "  CTRL = Register(AP_START=1, AP_DONE=0, AP_IDLE=0, AP_READY=0, RESERVED_1=0, AUTO_RESTART=1, RESERVED_2=0, INTERRUPT=1, RESERVED_3=0),\n",
      "  GIER = Register(Enable=1, RESERVED=0),\n",
      "  IP_IER = Register(CHAN0_INT_EN=1, CHAN1_INT_EN=0, RESERVED_0=0),\n",
      "  IP_ISR = Register(CHAN0_INT_ST=1, CHAN1_INT_ST=0, RESERVED_0=0),\n",
      "  photons_out_1 = Register(photons_out=2033188864),\n",
      "  photons_out_2 = Register(photons_out=0),\n",
      "  Memory_n_photons = Register(value=2),\n",
      "  active_buffer = Register(active_buffer=0, RESERVED=0),\n",
      "  active_buffer_ctrl = Register(active_buffer_ap_vld=1, RESERVED=0),\n",
      "  photons_per_buf = Register(photons_per_buf=65535, RESERVED=0),\n",
      "  time_shift = Register(time_shift=12, RESERVED=0)\n",
      "}\n"
     ]
    }
   ],
   "source": [
    "task = loop.create_task(wait_for_photon())\n",
    "loop.run_until_complete(task)"
   ]
  },
  {
   "cell_type": "code",
   "execution_count": null,
   "id": "052b1e9c",
   "metadata": {},
   "outputs": [],
   "source": []
  },
  {
   "cell_type": "markdown",
   "id": "b36afd11",
   "metadata": {},
   "source": [
    "# Start IQ Values"
   ]
  },
  {
   "cell_type": "code",
   "execution_count": 233,
   "id": "58556037",
   "metadata": {},
   "outputs": [],
   "source": [
    "ol.iq_gen_0.generate()"
   ]
  },
  {
   "cell_type": "markdown",
   "id": "51792828",
   "metadata": {},
   "source": [
    "# Program Thresholds and Holdoffs"
   ]
  },
  {
   "cell_type": "code",
   "execution_count": 232,
   "id": "070f7824",
   "metadata": {},
   "outputs": [
    {
     "data": {
      "text/plain": [
       "(array([-0.3, -0.3, -0.3, ..., -0.3, -0.3, -0.3]),\n",
       " array([9, 9, 9, ..., 9, 9, 9], dtype=int16))"
      ]
     },
     "execution_count": 232,
     "metadata": {},
     "output_type": "execute_result"
    }
   ],
   "source": [
    "thresholds = -0.3*np.ones(2048)\n",
    "holdoffs = (np.ones(2048)+8).astype(np.int16)\n",
    "#holdoffs = holdoffs.astype(int).clip(0, 254)\n",
    "thresholds, holdoffs"
   ]
  },
  {
   "cell_type": "code",
   "execution_count": 234,
   "id": "3a7b24ad",
   "metadata": {},
   "outputs": [],
   "source": [
    "ol.trigger_system.trigger_1.configure(thresholds, holdoffs)"
   ]
  },
  {
   "cell_type": "markdown",
   "id": "88954a3e",
   "metadata": {},
   "source": [
    "## Generate Timestamps"
   ]
  },
  {
   "cell_type": "code",
   "execution_count": 196,
   "id": "743d546b",
   "metadata": {},
   "outputs": [
    {
     "name": "stdout",
     "output_type": "stream",
     "text": [
      "[10 10 10 10 10 10 10 10 10 10]\n"
     ]
    }
   ],
   "source": [
    "x=(np.arange(70, dtype=np.uint64)*np.ones(512, dtype=np.uint64)[:,None]).T\n",
    "x=x.reshape(np.prod(x.shape))+10\n",
    "print(x[30:40])  # Should roll over from 35 to 0\n",
    "\n",
    "# fifo is loaded 4 bytes at a time, stream is 5 bytes at a time, numbers here are 8 bytes at a time, \n",
    "# need to drop the bytes 5-7, keep 0-4, high 4 bits of byte 4 will be ignored\n",
    "data=np.frombuffer(x, dtype=np.uint8).reshape((x.size,8))\n",
    "needed_bytes=data[:,:5].ravel()\n",
    "y=np.frombuffer(needed_bytes, dtype=np.uint32)\n",
    "times_in=y"
   ]
  },
  {
   "cell_type": "markdown",
   "id": "c61f5e8d",
   "metadata": {},
   "source": [
    "# Trick MAXI to Output Photon"
   ]
  },
  {
   "cell_type": "code",
   "execution_count": 236,
   "id": "18644755",
   "metadata": {},
   "outputs": [],
   "source": [
    "x=(np.arange(70, dtype=np.uint64)*np.ones(512, dtype=np.uint64)[:,None]).T\n",
    "x=x.reshape(np.prod(x.shape))+10"
   ]
  },
  {
   "cell_type": "code",
   "execution_count": 237,
   "id": "3d7b0fba",
   "metadata": {},
   "outputs": [],
   "source": [
    "x[x.size//2:]+=20000\n",
    "x[-512*3:]+=20000\n",
    "\n",
    "# fifo is loaded 4 bytes at a time, stream is 5 bytes at a time, numbers here are 8 bytes at a time, \n",
    "# need to drop the bytes 5-7, keep 0-4, high 4 bits of byte 4 will be ignored\n",
    "data=np.frombuffer(x, dtype=np.uint8).reshape((x.size,8))\n",
    "needed_bytes=data[:,:5].ravel()\n",
    "y=np.frombuffer(needed_bytes, dtype=np.uint32)\n",
    "times_in=y"
   ]
  },
  {
   "cell_type": "code",
   "execution_count": 238,
   "id": "9432b5f1",
   "metadata": {},
   "outputs": [],
   "source": [
    "tmp=0"
   ]
  },
  {
   "cell_type": "code",
   "execution_count": 239,
   "id": "d67170bd",
   "metadata": {},
   "outputs": [
    {
     "name": "stderr",
     "output_type": "stream",
     "text": [
      "/home/xilinx/src/mkidgen3/mkidgen3/drivers/axififo.py:43: RuntimeWarning: coroutine 'Interrupt.wait' was never awaited\n",
      "  self.interrupt.wait()  # wait for the transmit to complete\n",
      "RuntimeWarning: Enable tracemalloc to get the object allocation traceback\n"
     ]
    }
   ],
   "source": [
    "# Load timestamps in FIFO\n",
    "tmp1=ol.timestamps_in.tx_vacancy\n",
    "ol.timestamps_in.tx(times_in[tmp:tmp1])\n",
    "tmp=tmp1"
   ]
  },
  {
   "cell_type": "code",
   "execution_count": 240,
   "id": "46741621",
   "metadata": {},
   "outputs": [
    {
     "data": {
      "text/plain": [
       "20744"
      ]
     },
     "execution_count": 240,
     "metadata": {},
     "output_type": "execute_result"
    }
   ],
   "source": [
    "ol.timestamps_in.tx_vacancy"
   ]
  },
  {
   "cell_type": "markdown",
   "id": "8f2fb57e",
   "metadata": {},
   "source": [
    "# Configure Postage Filter"
   ]
  },
  {
   "cell_type": "code",
   "execution_count": 241,
   "id": "8b861253",
   "metadata": {},
   "outputs": [],
   "source": [
    "ol.trigger_system.postage_filter_0.configure(monitor_channels=[0,1,2,3,4,5,6,7])\n",
    "ol.trigger_system.photon_maxi_0.capture();\n",
    "ol.trigger_system.postage_maxi_0.capture();"
   ]
  },
  {
   "cell_type": "code",
   "execution_count": 242,
   "id": "94558dcb",
   "metadata": {},
   "outputs": [],
   "source": [
    "#ol.trigger_system.photon_maxi_0.capture?"
   ]
  },
  {
   "cell_type": "code",
   "execution_count": 243,
   "id": "ec5f6348",
   "metadata": {},
   "outputs": [
    {
     "data": {
      "text/plain": [
       "(RegisterMap {\n",
       "   monitor_0 = Register(monitor_0=0, RESERVED=0),\n",
       "   monitor_1 = Register(monitor_1=1, RESERVED=0),\n",
       "   monitor_2 = Register(monitor_2=2, RESERVED=0),\n",
       "   monitor_3 = Register(monitor_3=3, RESERVED=0),\n",
       "   monitor_4 = Register(monitor_4=4, RESERVED=0),\n",
       "   monitor_5 = Register(monitor_5=5, RESERVED=0),\n",
       "   monitor_6 = Register(monitor_6=6, RESERVED=0),\n",
       "   monitor_7 = Register(monitor_7=7, RESERVED=0)\n",
       " },\n",
       " RegisterMap {\n",
       "   CTRL = Register(AP_START=1, AP_DONE=0, AP_IDLE=0, AP_READY=0, RESERVED_1=0, AUTO_RESTART=1, RESERVED_2=0, INTERRUPT=0, RESERVED_3=0),\n",
       "   GIER = Register(Enable=1, RESERVED=0),\n",
       "   IP_IER = Register(CHAN0_INT_EN=1, CHAN1_INT_EN=0, RESERVED_0=0),\n",
       "   IP_ISR = Register(CHAN0_INT_ST=0, CHAN1_INT_ST=0, RESERVED_0=0),\n",
       "   photons_out_1 = Register(photons_out=2102394880),\n",
       "   photons_out_2 = Register(photons_out=0),\n",
       "   Memory_n_photons = Register(value=0),\n",
       "   active_buffer = Register(active_buffer=0, RESERVED=0),\n",
       "   active_buffer_ctrl = Register(active_buffer_ap_vld=0, RESERVED=0),\n",
       "   photons_per_buf = Register(photons_per_buf=65535, RESERVED=0),\n",
       "   time_shift = Register(time_shift=12, RESERVED=0)\n",
       " },\n",
       " RegisterMap {\n",
       "   CTRL = Register(AP_START=1, AP_DONE=0, AP_IDLE=0, AP_READY=0, RESERVED_1=0, AUTO_RESTART=0, RESERVED_2=0, INTERRUPT=0, RESERVED_3=0),\n",
       "   GIER = Register(Enable=1, RESERVED=0),\n",
       "   IP_IER = Register(CHAN0_INT_EN=1, CHAN1_INT_EN=0, RESERVED_0=0),\n",
       "   IP_ISR = Register(CHAN0_INT_ST=0, CHAN1_INT_ST=0, RESERVED_0=0),\n",
       "   iq_1 = Register(iq=2104492032),\n",
       "   iq_2 = Register(iq=0),\n",
       "   event_count = Register(event_count=0, RESERVED=0),\n",
       "   max_events = Register(max_events=1000, RESERVED=0)\n",
       " })"
      ]
     },
     "execution_count": 243,
     "metadata": {},
     "output_type": "execute_result"
    }
   ],
   "source": [
    "ol.trigger_system.postage_filter_0.register_map,\\\n",
    "ol.trigger_system.photon_maxi_0.register_map,\\\n",
    "ol.trigger_system.postage_maxi_0.register_map"
   ]
  },
  {
   "cell_type": "markdown",
   "id": "145870d7",
   "metadata": {},
   "source": [
    "## Generate Phase Data"
   ]
  },
  {
   "cell_type": "code",
   "execution_count": 244,
   "id": "1ca89c9d",
   "metadata": {},
   "outputs": [],
   "source": [
    "data = np.loadtxt('golden.dat', delimiter=' ', dtype=int)"
   ]
  },
  {
   "cell_type": "code",
   "execution_count": 245,
   "id": "1fad7017",
   "metadata": {},
   "outputs": [],
   "source": [
    "phases = data[:,0]\n",
    "trigger = data[:,1]\n",
    "photon = data[:,2]\n",
    "energy_val = data[:,3]"
   ]
  },
  {
   "cell_type": "markdown",
   "id": "e75de01c",
   "metadata": {},
   "source": [
    "Reading back: Photon: [0:15] uint16 time [0:15] int16 phase [0:15] int16 resonator ID\n",
    "Sending out: for a given channel (res ID)"
   ]
  },
  {
   "cell_type": "code",
   "execution_count": 246,
   "id": "b227ed90",
   "metadata": {},
   "outputs": [],
   "source": [
    "x = phases+np.zeros((2048,1))\n",
    "x[1:]=0\n",
    "data_in = x.T.ravel().copy().astype(np.int16)\n",
    "phases_in = np.frombuffer(data_in, dtype=np.uint32)"
   ]
  },
  {
   "cell_type": "code",
   "execution_count": 247,
   "id": "ecc02619",
   "metadata": {},
   "outputs": [
    {
     "data": {
      "text/plain": [
       "array([-459,    0,    0, ...,    0,    0,    0], dtype=int16)"
      ]
     },
     "execution_count": 247,
     "metadata": {},
     "output_type": "execute_result"
    }
   ],
   "source": [
    "data_in"
   ]
  },
  {
   "cell_type": "code",
   "execution_count": 248,
   "id": "295c7fc1",
   "metadata": {},
   "outputs": [],
   "source": [
    "# Load Phases\n",
    "ol.phase_in.tx(phases_in)"
   ]
  },
  {
   "cell_type": "code",
   "execution_count": 255,
   "id": "6cf8db53",
   "metadata": {},
   "outputs": [
    {
     "data": {
      "text/plain": [
       "65532"
      ]
     },
     "execution_count": 255,
     "metadata": {},
     "output_type": "execute_result"
    }
   ],
   "source": [
    "ol.phase_in.tx_vacancy"
   ]
  },
  {
   "cell_type": "code",
   "execution_count": 166,
   "id": "9ad36f39",
   "metadata": {},
   "outputs": [
    {
     "data": {
      "text/plain": [
       "<matplotlib.lines.Line2D at 0xffff8cdb01f0>"
      ]
     },
     "execution_count": 166,
     "metadata": {},
     "output_type": "execute_result"
    },
    {
     "data": {
      "image/png": "[encoded data removed]",
      "text/plain": [
       "<Figure size 432x288 with 1 Axes>"
      ]
     },
     "metadata": {
      "needs_background": "light"
     },
     "output_type": "display_data"
    }
   ],
   "source": [
    "plt.plot(data_in[::2048])\n",
    "plt.axhline(-26828)"
   ]
  },
  {
   "cell_type": "code",
   "execution_count": 253,
   "id": "82fbfbec",
   "metadata": {},
   "outputs": [],
   "source": [
    "self = ol.trigger_system.photon_maxi_0"
   ]
  },
  {
   "cell_type": "markdown",
   "id": "ecf21b39",
   "metadata": {},
   "source": [
    "# Should see two photons and we do"
   ]
  },
  {
   "cell_type": "code",
   "execution_count": 254,
   "id": "0316f003",
   "metadata": {},
   "outputs": [
    {
     "data": {
      "text/plain": [
       "array([(   18, -26828, 0), (20044, -26828, 0), (    0,      0, 0), ...,\n",
       "       (    0,      0, 0), (    0,      0, 0), (    0,      0, 0)],\n",
       "      dtype=[('time', '<u8'), ('phase', '<i2'), ('id', '<u2')])"
      ]
     },
     "execution_count": 254,
     "metadata": {},
     "output_type": "execute_result"
    }
   ],
   "source": [
    "self.unpack_photons(self._buf[0])"
   ]
  },
  {
   "cell_type": "code",
   "execution_count": null,
   "id": "3fdacd0f",
   "metadata": {},
   "outputs": [],
   "source": []
  }
 ],
 "metadata": {
  "kernelspec": {
   "display_name": "Python 3",
   "language": "python",
   "name": "python3"
  },
  "language_info": {
   "codemirror_mode": {
    "name": "ipython",
    "version": 3
   },
   "file_extension": ".py",
   "mimetype": "text/x-python",
   "name": "python",
   "nbconvert_exporter": "python",
   "pygments_lexer": "ipython3",
   "version": "3.8.2"
  }
 },
 "nbformat": 4,
 "nbformat_minor": 5
}
