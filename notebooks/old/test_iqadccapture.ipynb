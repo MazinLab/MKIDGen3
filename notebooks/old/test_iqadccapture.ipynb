{
 "cells": [
  {
   "cell_type": "markdown",
   "metadata": {},
   "source": [
    "# Imports, Definitions, and Instantiating the overlay"
   ]
  },
  {
   "cell_type": "code",
   "execution_count": 1,
   "metadata": {},
   "outputs": [
    {
     "data": {
      "application/javascript": [
       "\n",
       "try {\n",
       "require(['notebook/js/codecell'], function(codecell) {\n",
       "  codecell.CodeCell.options_default.highlight_modes[\n",
       "      'magic_text/x-csrc'] = {'reg':[/^%%pybind11/]};\n",
       "  Jupyter.notebook.events.one('kernel_ready.Kernel', function(){\n",
       "      Jupyter.notebook.get_cells().map(function(cell){\n",
       "          if (cell.cell_type == 'code'){ cell.auto_highlight(); } }) ;\n",
       "  });\n",
       "});\n",
       "} catch (e) {};\n"
      ]
     },
     "metadata": {},
     "output_type": "display_data"
    }
   ],
   "source": [
    "import logging\n",
    "import numpy as np\n",
    "import time\n",
    "import itertools\n",
    "import matplotlib.pyplot as plt\n",
    "import scipy.signal\n",
    "from logging import getLogger\n",
    "import os\n",
    "from glob import glob\n",
    "\n",
    "import bitstruct\n",
    "from fpbinary import FpBinary, OverflowEnum, RoundingEnum\n",
    "from mkidgen3.daccomb import generate as gen_comb\n",
    "from mkidgen3.testutils import *\n",
    "import mkidgen3.testutils as tu\n",
    "from mkidgen3.fixedpoint import *\n",
    "from mkidgen3.pynq import dma_status  ## also activates the drivers\n",
    "import mkidgen3.pynq as mp\n",
    "\n",
    "import xrfdc, xrfclk\n",
    "import pynq\n",
    "from pynq import PL, Overlay, DefaultIP, allocate, DefaultHierarchy\n",
    "\n",
    "\n",
    "matched_filter_loaded=False\n",
    "logging.basicConfig()\n",
    "logging.getLogger('').setLevel('DEBUG')\n",
    "logging.getLogger('__main__').setLevel('INFO')"
   ]
  },
  {
   "cell_type": "markdown",
   "metadata": {},
   "source": [
    "Load the overlay and extract the dma core"
   ]
  },
  {
   "cell_type": "code",
   "execution_count": 2,
   "metadata": {
    "scrolled": true
   },
   "outputs": [
    {
     "name": "stderr",
     "output_type": "stream",
     "text": [
      "DEBUG:asyncio:Using selector: EpollSelector\n"
     ]
    },
    {
     "name": "stdout",
     "output_type": "stream",
     "text": [
      "PL Bitfile: /home/xilinx/gen3/test_iqadccap/design_1.bit\n",
      "PL Timestamp: 2021/2/26 16:39:7 +981948\n",
      "Overlay timestamp: 2021/2/26 16:39:7 +981948  Loaded: True\n"
     ]
    }
   ],
   "source": [
    "ol = Overlay('/home/xilinx/gen3/test_iqadccap/design_1.bit', ignore_version=True)\n",
    "ol.download()\n",
    "print(f\"PL Bitfile: {PL.bitfile_name}\\nPL Timestamp: {PL.timestamp}\\n\"\n",
    "      f\"Overlay timestamp: {ol.timestamp}  Loaded: {ol.is_loaded()}\")"
   ]
  },
  {
   "cell_type": "code",
   "execution_count": 3,
   "metadata": {},
   "outputs": [],
   "source": [
    "iqgen=ol.iq_gen_0\n",
    "iqc0=ol.iq_capture_0\n",
    "rfdc=ol.usp_rf_data_converter_0\n",
    "ddr=ol.ddr4_0\n",
    "adc0=ol.adc_capture_0"
   ]
  },
  {
   "cell_type": "code",
   "execution_count": 4,
   "metadata": {},
   "outputs": [
    {
     "name": "stdout",
     "output_type": "stream",
     "text": [
      "adc_capture_0 mazinlab:mkidgen3:adc_capture:0.7\n",
      "iq_capture_0 mazinlab:mkidgen3:iq_capture:0.8\n",
      "iq_gen_0 mazinlab:mkidgen3:iq_gen:0.1\n",
      "usp_rf_data_converter_0 xilinx.com:ip:usp_rf_data_converter:2.3\n",
      "ddr4_0 xilinx.com:ip:ddr4:2.2\n",
      "zynq_ultra_ps_e_0 xilinx.com:ip:zynq_ultra_ps_e:3.3\n"
     ]
    }
   ],
   "source": [
    "for ip, d in ol.ip_dict.items():\n",
    "    print(ip, d['type'])"
   ]
  },
  {
   "cell_type": "markdown",
   "metadata": {},
   "source": [
    "# Set up the PL DDR4 MMIO"
   ]
  },
  {
   "cell_type": "code",
   "execution_count": 5,
   "metadata": {},
   "outputs": [],
   "source": [
    "ddr4_mmio=pynq.MMIO(mp.PL_DDR4_ADDR, length=2**32)"
   ]
  },
  {
   "cell_type": "code",
   "execution_count": 6,
   "metadata": {},
   "outputs": [],
   "source": [
    "ddr4_mmio.array[:]=1"
   ]
  },
  {
   "cell_type": "markdown",
   "metadata": {},
   "source": [
    "# Configure IQ cap"
   ]
  },
  {
   "cell_type": "markdown",
   "metadata": {},
   "source": [
    "Each group is 32 bytes (8 complex shorts). DDR4 saturation should occur if n_grps>77 while adc cap is running."
   ]
  },
  {
   "cell_type": "code",
   "execution_count": 7,
   "metadata": {},
   "outputs": [
    {
     "name": "stdout",
     "output_type": "stream",
     "text": [
      "Will capture ~390.625 MB of data @ 2048.0 MBps. ETA 191 ms\n"
     ]
    }
   ],
   "source": [
    "n_cap = 400000\n",
    "grps = list(range(16))+list(range(32,48))\n",
    "grps = list(range(32))\n",
    "\n",
    "iq_mb = n_cap*len(grps)*32/1024**2\n",
    "iq_mbps = 32*512*len(grps)/256\n",
    "iq_eta = n_cap/2/1024**2*1000\n",
    "iqc0.capture(n_cap, groups=grps, start=False)"
   ]
  },
  {
   "cell_type": "code",
   "execution_count": 8,
   "metadata": {},
   "outputs": [
    {
     "data": {
      "text/plain": [
       "RegisterMap {\n",
       "  CTRL = Register(AP_START=0, AP_DONE=0, AP_IDLE=1, AP_READY=0, RESERVED_1=0, AUTO_RESTART=0, RESERVED_2=0),\n",
       "  GIER = Register(Enable=0, RESERVED=0),\n",
       "  IP_IER = Register(CHAN0_INT_EN=0, CHAN1_INT_EN=0, RESERVED=0),\n",
       "  IP_ISR = Register(CHAN0_INT_ST=0, CHAN1_INT_ST=0, RESERVED=0),\n",
       "  keep_1 = Register(keep=4294967295),\n",
       "  keep_2 = Register(keep=0),\n",
       "  keep_3 = Register(keep=0),\n",
       "  keep_4 = Register(keep=0),\n",
       "  keep_5 = Register(keep=0),\n",
       "  keep_6 = Register(keep=0),\n",
       "  keep_7 = Register(keep=0),\n",
       "  keep_8 = Register(keep=0),\n",
       "  total_capturesize_1 = Register(total_capturesize=102400000),\n",
       "  total_capturesize_2 = Register(total_capturesize=0),\n",
       "  capturesize = Register(capturesize=12800000),\n",
       "  iqout_1 = Register(iqout=0),\n",
       "  iqout_2 = Register(iqout=4)\n",
       "}"
      ]
     },
     "execution_count": 8,
     "metadata": {},
     "output_type": "execute_result"
    }
   ],
   "source": [
    "iqc0.register_map"
   ]
  },
  {
   "cell_type": "markdown",
   "metadata": {},
   "source": [
    "# Configure IQ Generator"
   ]
  },
  {
   "cell_type": "code",
   "execution_count": 9,
   "metadata": {},
   "outputs": [
    {
     "data": {
      "text/plain": [
       "RegisterMap {\n",
       "  CTRL = Register(AP_START=0, AP_DONE=0, AP_IDLE=1, AP_READY=0, RESERVED_1=0, AUTO_RESTART=0, RESERVED_2=0),\n",
       "  GIER = Register(Enable=0, RESERVED=0),\n",
       "  IP_IER = Register(CHAN0_INT_EN=0, CHAN1_INT_EN=0, RESERVED=0),\n",
       "  IP_ISR = Register(CHAN0_INT_ST=0, CHAN1_INT_ST=0, RESERVED=0),\n",
       "  max = Register(max=102400512)\n",
       "}"
      ]
     },
     "execution_count": 9,
     "metadata": {},
     "output_type": "execute_result"
    }
   ],
   "source": [
    "iqgen.generate((n_cap+2)*256)\n",
    "iqgen.register_map"
   ]
  },
  {
   "cell_type": "markdown",
   "metadata": {},
   "source": [
    "# Configure ADC Cap"
   ]
  },
  {
   "cell_type": "code",
   "execution_count": 18,
   "metadata": {},
   "outputs": [
    {
     "name": "stdout",
     "output_type": "stream",
     "text": [
      "Will capture 3662 MB of data @ 16384 MBps. ETA 234 ms\n"
     ]
    }
   ],
   "source": [
    "n_cap = 40000000*3\n",
    "adc_mb=n_cap*32/1024**2\n",
    "adc_mbps=32*512\n",
    "adc_eta=n_cap/512e3\n",
    "print(f\"Will capture {adc_mb:.0f} MB of data @ {adc_mbps} MBps. ETA {adc_eta:.0f} ms\")\n",
    "adc0.capture(n_cap, start=False, addr=0*2**31/2**12)"
   ]
  },
  {
   "cell_type": "code",
   "execution_count": 11,
   "metadata": {},
   "outputs": [
    {
     "data": {
      "text/plain": [
       "RegisterMap {\n",
       "  CTRL = Register(AP_START=0, AP_DONE=0, AP_IDLE=1, AP_READY=0, RESERVED_1=0, AUTO_RESTART=0, RESERVED_2=0),\n",
       "  GIER = Register(Enable=0, RESERVED=0),\n",
       "  IP_IER = Register(CHAN0_INT_EN=0, CHAN1_INT_EN=0, RESERVED=0),\n",
       "  IP_ISR = Register(CHAN0_INT_ST=0, CHAN1_INT_ST=0, RESERVED=0),\n",
       "  capturesize = Register(capturesize=40000000),\n",
       "  iqout_1 = Register(iqout=2147483648),\n",
       "  iqout_2 = Register(iqout=4)\n",
       "}"
      ]
     },
     "execution_count": 11,
     "metadata": {},
     "output_type": "execute_result"
    }
   ],
   "source": [
    "adc0.register_map"
   ]
  },
  {
   "cell_type": "markdown",
   "metadata": {},
   "source": [
    "In the test design the replay outputs 16 IQ values each tick and IQ Capture 0 gets the lower 8. So if we replay 0,1,2.... the groups of 8 it gets will be 0-7, 16-23, etc. So groups 0-16 "
   ]
  },
  {
   "cell_type": "markdown",
   "metadata": {},
   "source": [
    "# Run It "
   ]
  },
  {
   "cell_type": "code",
   "execution_count": 12,
   "metadata": {},
   "outputs": [
    {
     "name": "stdout",
     "output_type": "stream",
     "text": [
      "Will use 86.49% of DDR4 bandwidth.\n"
     ]
    }
   ],
   "source": [
    "ddr_mbps = 333*512/8\n",
    "print(f'Will use {(adc_mbps+iq_mbps)/ddr_mbps*100:.2f}% of DDR4 bandwidth.')"
   ]
  },
  {
   "cell_type": "code",
   "execution_count": 13,
   "metadata": {},
   "outputs": [],
   "source": [
    "iqgen.register_map.CTRL.AP_START=1"
   ]
  },
  {
   "cell_type": "code",
   "execution_count": 14,
   "metadata": {},
   "outputs": [
    {
     "name": "stdout",
     "output_type": "stream",
     "text": [
      "Started in 0.6 ms\n"
     ]
    }
   ],
   "source": [
    "tic=time.time()\n",
    "iqc0.register_map.CTRL.AP_START=1\n",
    "adc0.register_map.CTRL.AP_START=1\n",
    "toc=time.time()\n",
    "print(f'Started in {(toc-tic)*1000:.1} ms')"
   ]
  },
  {
   "cell_type": "code",
   "execution_count": 15,
   "metadata": {},
   "outputs": [
    {
     "data": {
      "text/plain": [
       "(RegisterMap {\n",
       "   CTRL = Register(AP_START=1, AP_DONE=0, AP_IDLE=0, AP_READY=0, RESERVED_1=0, AUTO_RESTART=0, RESERVED_2=0),\n",
       "   GIER = Register(Enable=0, RESERVED=0),\n",
       "   IP_IER = Register(CHAN0_INT_EN=0, CHAN1_INT_EN=0, RESERVED=0),\n",
       "   IP_ISR = Register(CHAN0_INT_ST=0, CHAN1_INT_ST=0, RESERVED=0),\n",
       "   max = Register(max=102400512)\n",
       " }, RegisterMap {\n",
       "   CTRL = Register(AP_START=0, AP_DONE=0, AP_IDLE=1, AP_READY=0, RESERVED_1=0, AUTO_RESTART=0, RESERVED_2=0),\n",
       "   GIER = Register(Enable=0, RESERVED=0),\n",
       "   IP_IER = Register(CHAN0_INT_EN=0, CHAN1_INT_EN=0, RESERVED=0),\n",
       "   IP_ISR = Register(CHAN0_INT_ST=0, CHAN1_INT_ST=0, RESERVED=0),\n",
       "   keep_1 = Register(keep=4294967295),\n",
       "   keep_2 = Register(keep=0),\n",
       "   keep_3 = Register(keep=0),\n",
       "   keep_4 = Register(keep=0),\n",
       "   keep_5 = Register(keep=0),\n",
       "   keep_6 = Register(keep=0),\n",
       "   keep_7 = Register(keep=0),\n",
       "   keep_8 = Register(keep=0),\n",
       "   total_capturesize_1 = Register(total_capturesize=102400000),\n",
       "   total_capturesize_2 = Register(total_capturesize=0),\n",
       "   capturesize = Register(capturesize=12800000),\n",
       "   iqout_1 = Register(iqout=0),\n",
       "   iqout_2 = Register(iqout=4)\n",
       " }, RegisterMap {\n",
       "   CTRL = Register(AP_START=0, AP_DONE=0, AP_IDLE=1, AP_READY=0, RESERVED_1=0, AUTO_RESTART=0, RESERVED_2=0),\n",
       "   GIER = Register(Enable=0, RESERVED=0),\n",
       "   IP_IER = Register(CHAN0_INT_EN=0, CHAN1_INT_EN=0, RESERVED=0),\n",
       "   IP_ISR = Register(CHAN0_INT_ST=0, CHAN1_INT_ST=0, RESERVED=0),\n",
       "   capturesize = Register(capturesize=40000000),\n",
       "   iqout_1 = Register(iqout=2147483648),\n",
       "   iqout_2 = Register(iqout=4)\n",
       " })"
      ]
     },
     "execution_count": 15,
     "metadata": {},
     "output_type": "execute_result"
    }
   ],
   "source": [
    "iqgen.register_map, iqc0.register_map, adc0.register_map"
   ]
  },
  {
   "cell_type": "code",
   "execution_count": 20,
   "metadata": {},
   "outputs": [],
   "source": [
    "adc0.register_map.CTRL.AP_START=1"
   ]
  },
  {
   "cell_type": "code",
   "execution_count": null,
   "metadata": {},
   "outputs": [],
   "source": [
    "ddr4_mmio.array[ddr4_mmio.array.size//2]"
   ]
  },
  {
   "cell_type": "code",
   "execution_count": null,
   "metadata": {},
   "outputs": [],
   "source": [
    "x=ddr4_mmio.array[:8*(n_cap+2)*len(grps)]\n",
    "x=x.reshape((x.size//8,8)).copy()"
   ]
  },
  {
   "cell_type": "code",
   "execution_count": null,
   "metadata": {},
   "outputs": [],
   "source": [
    "hex(ddr4_mmio.array.size//2*4)"
   ]
  },
  {
   "cell_type": "code",
   "execution_count": null,
   "metadata": {},
   "outputs": [],
   "source": [
    "x[:,0].tolist()"
   ]
  },
  {
   "cell_type": "code",
   "execution_count": null,
   "metadata": {},
   "outputs": [],
   "source": [
    "ddr4_mmio.array[10000000]"
   ]
  },
  {
   "cell_type": "code",
   "execution_count": null,
   "metadata": {},
   "outputs": [],
   "source": []
  }
 ],
 "metadata": {
  "kernelspec": {
   "display_name": "Python 3",
   "language": "python",
   "name": "python3"
  },
  "language_info": {
   "codemirror_mode": {
    "name": "ipython",
    "version": 3
   },
   "file_extension": ".py",
   "mimetype": "text/x-python",
   "name": "python",
   "nbconvert_exporter": "python",
   "pygments_lexer": "ipython3",
   "version": "3.6.5"
  },
  "toc": {
   "base_numbering": 1,
   "nav_menu": {},
   "number_sections": true,
   "sideBar": true,
   "skip_h1_title": false,
   "title_cell": "Table of Contents",
   "title_sidebar": "Contents",
   "toc_cell": false,
   "toc_position": {},
   "toc_section_display": true,
   "toc_window_display": false
  }
 },
 "nbformat": 4,
 "nbformat_minor": 1
}
