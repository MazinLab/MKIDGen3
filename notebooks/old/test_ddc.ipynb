{
 "cells": [
  {
   "cell_type": "markdown",
   "metadata": {},
   "source": [
    "# Imports, Definitions, and Instantiating the overlay"
   ]
  },
  {
   "cell_type": "code",
   "execution_count": 1,
   "metadata": {},
   "outputs": [],
   "source": [
    "import numpy as np\n",
    "import time\n",
    "import pynq\n",
    "from pynq import PL, Overlay, DefaultIP, allocate\n",
    "from fpbinary import FpBinary, OverflowEnum, RoundingEnum\n",
    "import matplotlib.pyplot as plt\n",
    "\n",
    "FP16_15 = lambda x: FpBinary(int_bits=1, frac_bits=15, signed=True, value=x)\n",
    "FP16_25 = lambda x: FpBinary(int_bits=-9, frac_bits=25, signed=True, value=x)\n",
    "FP16_23 = lambda x: FpBinary(int_bits=-7, frac_bits=23, signed=True, value=x)\n",
    "n_res = 2048"
   ]
  },
  {
   "cell_type": "markdown",
   "metadata": {},
   "source": [
    "Create a driver"
   ]
  },
  {
   "cell_type": "code",
   "execution_count": 2,
   "metadata": {},
   "outputs": [],
   "source": [
    "class ResonatorDDSIP(DefaultIP):\n",
    "    toneinc_offset = 0x1000\n",
    "    phase0_offset = 0x2000\n",
    "\n",
    "    def __init__(self, description):\n",
    "        \"\"\"\n",
    "\n",
    "        Note the axilite memory space is\n",
    "        0x1000 ~\n",
    "        0x1fff : Memory 'toneinc_V' (256 * 128b)\n",
    "                 Word 4n   : bit [31:0] - toneinc_V[n][31: 0]\n",
    "                 Word 4n+1 : bit [31:0] - toneinc_V[n][63:32]\n",
    "                 Word 4n+2 : bit [31:0] - toneinc_V[n][95:64]\n",
    "                 Word 4n+3 : bit [31:0] - toneinc_V[n][127:96]\n",
    "        0x2000 ~\n",
    "        0x2fff : Memory 'phase0_V' (256 * 128b)\n",
    "                 Word 4n   : bit [31:0] - phase0_V[n][31: 0]\n",
    "                 Word 4n+1 : bit [31:0] - phase0_V[n][63:32]\n",
    "                 Word 4n+2 : bit [31:0] - phase0_V[n][95:64]\n",
    "                 Word 4n+3 : bit [31:0] - phase0_V[n][127:96]\n",
    "        \"\"\"\n",
    "        super().__init__(description=description)\n",
    "\n",
    "    bindto = ['MazinLab:mkidgen3:resonator_dds:0.9']\n",
    "\n",
    "    @staticmethod\n",
    "    def _checkgroup(group_ndx):\n",
    "        if group_ndx < 0 or group_ndx > 255:\n",
    "            raise ValueError('group_ndx must be in [0,255]')\n",
    "\n",
    "    def read_group(self, offset, group_ndx):\n",
    "        \"\"\"Read the numbers in group from the core and convert them from binary data to python numbers\"\"\"\n",
    "        self._checkgroup(group_ndx)\n",
    "        signed = offset == self.toneinc_offset\n",
    "        vals = [self.read(offset + 16 * group_ndx + 4 * i) for i in range(4)]  # 2 16bit values each\n",
    "        ret = [float(FpBinary(1, 15, signed=signed, bit_field=(v >> (16 * i)) & 0xffff))\n",
    "               for v in vals for i in (0, 1)]\n",
    "        # print(f\"Read {bin(vals[0]&0xffff)} from the first address.\")\n",
    "        return ret\n",
    "\n",
    "    def write_group(self, offset, group_ndx, group):\n",
    "        \"\"\"Convert the numbers in the group from python data to binary data and load it into the core\"\"\"\n",
    "        self._checkgroup(group_ndx)\n",
    "        if len(group) != 8:\n",
    "            raise ValueError('len(group)!=8')\n",
    "        signed = offset == self.toneinc_offset\n",
    "        bits = 0\n",
    "        fixedgroup = [FpBinary(int_bits=1, frac_bits=15, signed=signed, value=g) for g in group]\n",
    "        for i, (g0, g1) in enumerate(zip(*[iter(fixedgroup)] * 2)):  #take them by twos\n",
    "            bits |= ((g1.__index__() << 16) | g0.__index__()) << (32 * i)\n",
    "        data = bits.to_bytes(32, 'little', signed=False)\n",
    "        self.write(offset + 16 * group_ndx, data)\n",
    "\n",
    "    def toneinc(self, res):\n",
    "        \"\"\" Retrieve the tone increment for a particular resonator \"\"\"\n",
    "        return self.read_group(self.toneinc_offset, res // 8)[res % 8]\n",
    "\n",
    "    def phase0(self, res):\n",
    "        \"\"\" Retrieve the phase offset for a particular resonator \"\"\"\n",
    "        return self.read_group(self.phase0_offset, res // 8)[res % 8]\n",
    "\n",
    "    @property\n",
    "    def toneincs(self):\n",
    "        return [v for g in range(256) for v in self.read_group(self.toneinc_offset, g)]\n",
    "\n",
    "    @toneincs.setter\n",
    "    def toneincs(self, toneincs):\n",
    "        if len(toneincs) != 2048:\n",
    "            raise ValueError('len(toneincs)!=2048')\n",
    "        if min(toneincs) < -1 or max(toneincs) >= 1:\n",
    "            raise ValueError('Tone increments must be in [-1,1)')\n",
    "        for i in range(256):\n",
    "            self.write_group(self.toneinc_offset, i, toneincs[i * 8:i * 8 + 8])\n",
    "\n",
    "    @property\n",
    "    def phase0s(self):\n",
    "        return [v for g in range(256) for v in self.read_group(self.phase0_offset, g)]\n",
    "\n",
    "    @phase0s.setter\n",
    "    def phase0s(self, phase0s):\n",
    "        if len(phase0s) != 2048:\n",
    "            raise ValueError('len(phase0s)!=2048')\n",
    "        if min(phase0s) < 0 or max(phase0s) > 1:\n",
    "            raise ValueError('Phase offsets must be in [0,1]')\n",
    "        for i in range(256):\n",
    "            self.write_group(self.phase0_offset, i, phase0s[i * 8:i * 8 + 8])\n"
   ]
  },
  {
   "cell_type": "markdown",
   "metadata": {},
   "source": [
    "Create some helper functions to send and recieve data"
   ]
  },
  {
   "cell_type": "code",
   "execution_count": 3,
   "metadata": {},
   "outputs": [],
   "source": [
    "n_packets_rcvd, n_packets_sent, pptx, input_buffer = 0, 0, None, None\n",
    "next_sample_send=0\n",
    "\n",
    "def prep_buffers(ntx=16, n_res=2048):\n",
    "    global pptx, input_buffer, output_buffer\n",
    "    pptx = ntx\n",
    "\n",
    "    try:\n",
    "        # Close buffers if they are open\n",
    "        input_buffer.close()\n",
    "        output_buffer.close()\n",
    "    except (NameError,AttributeError):\n",
    "        pass\n",
    "\n",
    "    # Create the buffers\n",
    "    input_buffer = allocate(shape=(n_res * 2 * pptx,), dtype=np.uint16)  # 2048 I & Q\n",
    "    output_buffer = allocate(shape=(n_res * 2,), dtype=np.uint16)\n",
    "\n",
    "\n",
    "def packet_to_buffer(packet, fpgen=FP16_15):\n",
    "    if fpgen is None:\n",
    "        ibits = [np.uint16(x) for x in packet.real]\n",
    "        qbits = [np.uint16(x) for x in packet.imag]\n",
    "    else:\n",
    "        ibits = [fpgen(x).__index__() for x in packet.real]\n",
    "        qbits = [fpgen(x).__index__() for x in packet.imag]\n",
    "    data = np.zeros(2 * packet.size, dtype=np.uint16)\n",
    "    data[::2] = ibits\n",
    "    data[1::2] = qbits\n",
    "    return data\n",
    "\n",
    "\n",
    "def packet_from_buffer(buffer, fpformat=(-9,25)):\n",
    "    packet = np.zeros(buffer.size // 2, dtype=np.complex128)\n",
    "    \n",
    "    ibits = buffer[0::2]\n",
    "    qbits = buffer[1::2]\n",
    "\n",
    "    if fpformat is None:\n",
    "        fp = lambda x: int(x)\n",
    "    else:\n",
    "        fp = lambda x: FpBinary(int_bits=fpformat[0], frac_bits=fpformat[1], signed=True, bit_field=int(x))\n",
    "    packet.real = [float(fp(x)) for x in ibits]\n",
    "    packet.imag = [float(fp(x)) for x in qbits]\n",
    "    return packet\n",
    "\n",
    "\n",
    "def txrx(dma, comb, nper, packets_out, n_total_packets=None, packet_latency=1, in_per_out=2,\n",
    "         txfp=FP16_15, rxfp=(-9,25), wait=True, show=False):\n",
    "    global n_packets_rcvd, n_packets_sent, pptx, input_buffer, next_sample_send\n",
    "    \n",
    "    if n_total_packets is None:\n",
    "        n_total_packets=comb.size//256//8\n",
    "    \n",
    "    \n",
    "    prep_buffers(nper)\n",
    "    n_loop=(n_total_packets - n_packets_sent) // pptx\n",
    "    \n",
    "    print(f'Will send {(n_total_packets - n_packets_sent)} packets in {n_loop} iterations')\n",
    "\n",
    "    for i in range(n_loop):\n",
    "        \n",
    "        #Send data\n",
    "        n_to_send = pptx * n_res\n",
    "        data = comb.ravel()[next_sample_send:next_sample_send + n_to_send]\n",
    "        input_buffer[:] = packet_to_buffer(data, fpgen=txfp)\n",
    "        \n",
    "        dma.sendchannel.transfer(input_buffer)\n",
    "\n",
    "        if wait:\n",
    "            if show:\n",
    "                print(f\"Sent {pptx}, waiting.\")\n",
    "            dma.sendchannel.wait()\n",
    "        next_sample_send += n_to_send\n",
    "        n_packets_sent = next_sample_send // n_res\n",
    "        \n",
    "        #How many are are available to be recieved\n",
    "        pending = n_packets_sent//in_per_out - n_packets_rcvd - packet_latency\n",
    "        \n",
    "        if show:\n",
    "            print(f\"Sent: {n_packets_sent}  Pending: {pending}\")\n",
    "            \n",
    "        for i in range(pending):\n",
    "            if show:\n",
    "                print(f\"Receiving packet {n_packets_rcvd}\")\n",
    "            dma.recvchannel.transfer(output_buffer)\n",
    "            if wait:\n",
    "                dma.recvchannel.wait()\n",
    "            packets_out[n_packets_rcvd] = packet_from_buffer(output_buffer, fpformat=rxfp)\n",
    "            n_packets_rcvd += 1\n",
    "\n",
    "        if show:\n",
    "            print(f\"Received: {n_packets_rcvd}.\")\n",
    "\n",
    "def dds(p):\n",
    "    return np.cos(np.pi*p)+np.sin(np.pi*p)*1j"
   ]
  },
  {
   "cell_type": "markdown",
   "metadata": {},
   "source": [
    "Load the overlay and extract the dma and ip core"
   ]
  },
  {
   "cell_type": "code",
   "execution_count": 4,
   "metadata": {},
   "outputs": [
    {
     "name": "stdout",
     "output_type": "stream",
     "text": [
      "PL Bitfile: /home/xilinx/overlayfiles/test_ddc_control/test_ddc.bit\n",
      "PL Timestamp: 2020/5/14 6:36:59 +158594\n",
      "Overlay timestamp: 2020/5/14 6:36:59 +158594  Loaded: True\n"
     ]
    }
   ],
   "source": [
    "ol = Overlay('/home/xilinx/overlayfiles/test_ddc_control/test_ddc.bit',ignore_version=True)\n",
    "ol.download()\n",
    "dma=ol.axi_dma_0\n",
    "ddc_core=ol.resonator_dds_0\n",
    "print(f\"PL Bitfile: {PL.bitfile_name}\\nPL Timestamp: {PL.timestamp}\\n\"\n",
    "      f\"Overlay timestamp: {ol.timestamp}  Loaded: {ol.is_loaded()}\")"
   ]
  },
  {
   "cell_type": "markdown",
   "metadata": {},
   "source": [
    "## Configure the core"
   ]
  },
  {
   "cell_type": "code",
   "execution_count": 5,
   "metadata": {},
   "outputs": [],
   "source": [
    "phase0s=np.zeros(2048)\n",
    "toneincs=np.zeros(2048)"
   ]
  },
  {
   "cell_type": "code",
   "execution_count": 6,
   "metadata": {},
   "outputs": [],
   "source": [
    "toneincs[:]=0.0\n",
    "phase0s[:]=0.25\n",
    "ddc_core.toneincs=toneincs\n",
    "ddc_core.phase0s=phase0s  "
   ]
  },
  {
   "cell_type": "markdown",
   "metadata": {},
   "source": [
    "Check that we've loaded the core"
   ]
  },
  {
   "cell_type": "code",
   "execution_count": 7,
   "metadata": {},
   "outputs": [
    {
     "name": "stdout",
     "output_type": "stream",
     "text": [
      "Reading toneinc group 0 [0.0, 0.0, 0.0, 0.0, 0.0, 0.0, 0.0, 0.0]\n",
      "Reading toneinc group 1 [0.0, 0.0, 0.0, 0.0, 0.0, 0.0, 0.0, 0.0]\n",
      "Reading toneinc group 255 [0.0, 0.0, 0.0, 0.0, 0.0, 0.0, 0.0, 0.0]\n",
      "Reading phase offset group 0 [0.25, 0.25, 0.25, 0.25, 0.25, 0.25, 0.25, 0.25]\n",
      "Reading phase offset group 255 [0.25, 0.25, 0.25, 0.25, 0.25, 0.25, 0.25, 0.25]\n"
     ]
    }
   ],
   "source": [
    "print('Reading toneinc group 0',ddc_core.read_group(ddc_core.toneinc_offset, 0))\n",
    "print('Reading toneinc group 1',ddc_core.read_group(ddc_core.toneinc_offset, 1))\n",
    "print('Reading toneinc group 255',ddc_core.read_group(ddc_core.toneinc_offset, 255))\n",
    "print('Reading phase offset group 0',ddc_core.read_group(ddc_core.phase0_offset, 0))\n",
    "print('Reading phase offset group 255',ddc_core.read_group(ddc_core.phase0_offset, 255))"
   ]
  },
  {
   "cell_type": "markdown",
   "metadata": {},
   "source": [
    "Start the core for versions of the IP that don't use ap_crtl_none"
   ]
  },
  {
   "cell_type": "code",
   "execution_count": 8,
   "metadata": {},
   "outputs": [
    {
     "name": "stderr",
     "output_type": "stream",
     "text": [
      "/usr/local/lib/python3.6/dist-packages/pynq/registers.py:422: UserWarning: Unsupported register size 4096 for register Memory_toneinc_V\n",
      "  v[2], k\n",
      "/usr/local/lib/python3.6/dist-packages/pynq/registers.py:422: UserWarning: Unsupported register size 4096 for register Memory_phase0_V\n",
      "  v[2], k\n"
     ]
    },
    {
     "data": {
      "text/plain": [
       "RegisterMap {\n",
       "  CTRL = Register(AP_START=1, AP_DONE=0, AP_IDLE=0, AP_READY=0, RESERVED_1=0, AUTO_RESTART=1, RESERVED_2=0),\n",
       "  GIER = Register(Enable=0, RESERVED=0),\n",
       "  IP_IER = Register(CHAN0_INT_EN=0, CHAN1_INT_EN=0, RESERVED=0),\n",
       "  IP_ISR = Register(CHAN0_INT_ST=0, CHAN1_INT_ST=0, RESERVED=0)\n",
       "}"
      ]
     },
     "execution_count": 8,
     "metadata": {},
     "output_type": "execute_result"
    }
   ],
   "source": [
    "try:\n",
    "    ddc_core.register_map.CTRL.AUTO_RESTART=True\n",
    "    ddc_core.register_map.CTRL.AP_START=True\n",
    "except Exception as e:\n",
    "    print(e)\n",
    "ddc_core.register_map"
   ]
  },
  {
   "cell_type": "markdown",
   "metadata": {},
   "source": [
    "## Send the data & compute expected outputs\n",
    "Send in groups of 6 packets, 6*2048 samples, 1536 transactions, overlay has length 2048 fifos bracketing the core "
   ]
  },
  {
   "cell_type": "markdown",
   "metadata": {},
   "source": [
    "### Prepare data to send\n"
   ]
  },
  {
   "cell_type": "code",
   "execution_count": 9,
   "metadata": {},
   "outputs": [],
   "source": [
    "n_packets=200  #how many sets of 8x256 samples? Need some maximum number of things for sending and recieving\n",
    "npack=6 # how many we send at a time"
   ]
  },
  {
   "cell_type": "markdown",
   "metadata": {},
   "source": [
    "Set up data so we can send the bits 0 on real and 8192 on imaginary for the first 1024 channels and 0 for the last 1024."
   ]
  },
  {
   "cell_type": "code",
   "execution_count": 10,
   "metadata": {},
   "outputs": [],
   "source": [
    "data=(np.ones(2048)*8192j+0)[np.newaxis,:]*np.ones(n_packets)[:,np.newaxis]\n",
    "data[:,1024:]=0"
   ]
  },
  {
   "cell_type": "markdown",
   "metadata": {},
   "source": [
    "Output and expected output array"
   ]
  },
  {
   "cell_type": "code",
   "execution_count": 11,
   "metadata": {},
   "outputs": [],
   "source": [
    "packets_out=np.zeros((data.shape[0], n_res), dtype=np.complex64)\n",
    "expected=np.zeros_like(data)"
   ]
  },
  {
   "cell_type": "markdown",
   "metadata": {},
   "source": [
    "Make it easy to send different phase offsets to see if the core responds."
   ]
  },
  {
   "cell_type": "code",
   "execution_count": 12,
   "metadata": {
    "scrolled": false
   },
   "outputs": [],
   "source": [
    "phase0_progression=np.array([.25,.5,0,1]) #note that 0 should result in out=in and 0.5 should result in a swap of real and imag. "
   ]
  },
  {
   "cell_type": "markdown",
   "metadata": {},
   "source": [
    "This things step by step to allow arming the System ILA"
   ]
  },
  {
   "cell_type": "code",
   "execution_count": 13,
   "metadata": {},
   "outputs": [
    {
     "name": "stdout",
     "output_type": "stream",
     "text": [
      "Will send 6 packets in 1 iterations\n",
      "Sent 6, waiting.\n",
      "Sent: 6  Pending: 5\n",
      "Receiving packet 0\n",
      "Receiving packet 1\n",
      "Receiving packet 2\n",
      "Receiving packet 3\n",
      "Receiving packet 4\n",
      "Received: 5.\n"
     ]
    }
   ],
   "source": [
    "#what data are we sending\n",
    "i=0\n",
    "sl=slice(n_packets_sent, n_packets_sent+npack)\n",
    "#load phase offsets again\n",
    "phase0s[:]=phase0_progression[i]\n",
    "ddc_core.phase0s=phase0s\n",
    "#compute the expected output\n",
    "expected[sl,:]=data[sl,:]*dds(phase0_progression[i])\n",
    "#send and recieve the data to the core. With txfp and rxfp set to none numbers will just be as if they were uint16\n",
    "# packet latenc needs to be 1 since the core has about 27 cycles of latency so the last packet's last \n",
    "# sample will always be stuck in the coret\n",
    "txrx(dma, data, 6, packets_out, n_total_packets=npack*(i+1), packet_latency=1, wait=True, show=True, \n",
    "     txfp=None, rxfp=None, in_per_out=1)"
   ]
  },
  {
   "cell_type": "code",
   "execution_count": 14,
   "metadata": {},
   "outputs": [
    {
     "name": "stdout",
     "output_type": "stream",
     "text": [
      "Will send 6 packets in 1 iterations\n",
      "Sent 6, waiting.\n",
      "Sent: 12  Pending: 6\n",
      "Receiving packet 5\n",
      "Receiving packet 6\n",
      "Receiving packet 7\n",
      "Receiving packet 8\n",
      "Receiving packet 9\n",
      "Receiving packet 10\n",
      "Received: 11.\n"
     ]
    }
   ],
   "source": [
    "#what data are we sending\n",
    "i=1\n",
    "sl=slice(n_packets_sent, n_packets_sent+npack)\n",
    "#load phase offsets again\n",
    "phase0s[:]=phase0_progression[i]\n",
    "ddc_core.phase0s=phase0s\n",
    "#compute the expected output\n",
    "expected[sl,:]=data[sl,:]*dds(phase0_progression[i])\n",
    "#send and recieve the data to the core. With txfp and rxfp set to none numbers will just be as if they were uint16\n",
    "# packet latenc needs to be 1 since the core has about 27 cycles of latency so the last packet's last \n",
    "# sample will always be stuck in the coret\n",
    "txrx(dma, data, 6, packets_out, n_total_packets=npack*(i+1), packet_latency=1, wait=True, show=True, \n",
    "     txfp=None, rxfp=None, in_per_out=1)"
   ]
  },
  {
   "cell_type": "code",
   "execution_count": 15,
   "metadata": {},
   "outputs": [
    {
     "name": "stdout",
     "output_type": "stream",
     "text": [
      "Will send 6 packets in 1 iterations\n",
      "Sent 6, waiting.\n",
      "Sent: 18  Pending: 6\n",
      "Receiving packet 11\n",
      "Receiving packet 12\n",
      "Receiving packet 13\n",
      "Receiving packet 14\n",
      "Receiving packet 15\n",
      "Receiving packet 16\n",
      "Received: 17.\n"
     ]
    }
   ],
   "source": [
    "#what data are we sending\n",
    "i=2\n",
    "sl=slice(n_packets_sent, n_packets_sent+npack)\n",
    "#load phase offsets again\n",
    "phase0s[:]=phase0_progression[i]\n",
    "ddc_core.phase0s=phase0s\n",
    "#compute the expected output\n",
    "expected[sl,:]=data[sl,:]*dds(phase0_progression[i])\n",
    "#send and recieve the data to the core. With txfp and rxfp set to none numbers will just be as if they were uint16\n",
    "# packet latenc needs to be 1 since the core has about 27 cycles of latency so the last packet's last \n",
    "# sample will always be stuck in the coret\n",
    "txrx(dma, data, 6, packets_out, n_total_packets=npack*(i+1), packet_latency=1, wait=True, show=True, \n",
    "     txfp=None, rxfp=None, in_per_out=1)"
   ]
  },
  {
   "cell_type": "code",
   "execution_count": 16,
   "metadata": {},
   "outputs": [
    {
     "name": "stdout",
     "output_type": "stream",
     "text": [
      "Will send 6 packets in 1 iterations\n",
      "Sent 6, waiting.\n",
      "Sent: 24  Pending: 6\n",
      "Receiving packet 17\n",
      "Receiving packet 18\n",
      "Receiving packet 19\n",
      "Receiving packet 20\n",
      "Receiving packet 21\n",
      "Receiving packet 22\n",
      "Received: 23.\n"
     ]
    }
   ],
   "source": [
    "#what data are we sending\n",
    "i=3\n",
    "sl=slice(n_packets_sent, n_packets_sent+npack)\n",
    "#load phase offsets again\n",
    "phase0s[:]=phase0_progression[i]\n",
    "ddc_core.phase0s=phase0s\n",
    "#compute the expected output\n",
    "expected[sl,:]=data[sl,:]*dds(phase0_progression[i])\n",
    "#send and recieve the data to the core. With txfp and rxfp set to none numbers will just be as if they were uint16\n",
    "# packet latenc needs to be 1 since the core has about 27 cycles of latency so the last packet's last \n",
    "# sample will always be stuck in the coret\n",
    "txrx(dma, data, 6, packets_out, n_total_packets=npack*(i+1), packet_latency=1, wait=True, show=True, \n",
    "     txfp=None, rxfp=None, in_per_out=1)"
   ]
  },
  {
   "cell_type": "code",
   "execution_count": 36,
   "metadata": {},
   "outputs": [],
   "source": [
    "expected/=2 #The core (should be) shifting the binary point from -9 to -7. I'm not 100% about this, but it is a division by 2 error at best and not the root issue!"
   ]
  },
  {
   "cell_type": "markdown",
   "metadata": {},
   "source": [
    "## Look at results\n",
    "Real is blue, imaginary orange"
   ]
  },
  {
   "cell_type": "code",
   "execution_count": 41,
   "metadata": {
    "scrolled": false
   },
   "outputs": [
    {
     "data": {
      "image/png": "[encoded data removed]",
      "text/plain": [
       "<matplotlib.figure.Figure at 0x7f90d16c50>"
      ]
     },
     "metadata": {},
     "output_type": "display_data"
    }
   ],
   "source": [
    "n=n_packets_rcvd #only plot data that came out\n",
    "res_plot=[0,1,2,4,5,8,9,1023,1024,2047]  #which channels to plot\n",
    "_,axes = plt.subplots(len(res_plot),3,figsize=(14,2.8*len(res_plot)))\n",
    "for i,(res, raw, ddc, exp) in enumerate(zip(res_plot, data[:n,res_plot].T,packets_out[:n,res_plot].T,expected[:n,res_plot].T)):\n",
    "    plt.sca(axes[i,0])\n",
    "    plt.plot(raw.real)\n",
    "    plt.plot(raw.imag)\n",
    "    plt.title(f\"Sent.\")\n",
    "    plt.ylim(-8200,8200)\n",
    "    plt.sca(axes[i,1])\n",
    "    plt.plot(ddc.real.astype(np.int16))\n",
    "    plt.plot(ddc.imag.astype(np.int16))\n",
    "    plt.title(f\"DDCed. Channel {res}, Lane {res%8}\")\n",
    "    plt.ylim(-8200,8200)\n",
    "    plt.sca(axes[i,2])\n",
    "    plt.plot(exp.real)\n",
    "    plt.plot(exp.imag)\n",
    "    plt.ylim(-8200,8200)\n",
    "    plt.title(f\"Expected\")\n",
    "plt.subplots_adjust(wspace=.15, hspace=.35)"
   ]
  }
 ],
 "metadata": {
  "kernelspec": {
   "display_name": "Python 3",
   "language": "python",
   "name": "python3"
  },
  "language_info": {
   "codemirror_mode": {
    "name": "ipython",
    "version": 3
   },
   "file_extension": ".py",
   "mimetype": "text/x-python",
   "name": "python",
   "nbconvert_exporter": "python",
   "pygments_lexer": "ipython3",
   "version": "3.6.5"
  },
  "toc": {
   "base_numbering": 1,
   "nav_menu": {},
   "number_sections": true,
   "sideBar": true,
   "skip_h1_title": false,
   "title_cell": "Table of Contents",
   "title_sidebar": "Contents",
   "toc_cell": false,
   "toc_position": {},
   "toc_section_display": true,
   "toc_window_display": false
  }
 },
 "nbformat": 4,
 "nbformat_minor": 1
}
