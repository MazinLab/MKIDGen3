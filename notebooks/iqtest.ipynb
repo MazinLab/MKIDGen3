{
 "cells": [
  {
   "cell_type": "code",
   "execution_count": 1,
   "id": "ae7ad640",
   "metadata": {},
   "outputs": [
    {
     "data": {
      "application/javascript": [
       "\n",
       "try {\n",
       "require(['notebook/js/codecell'], function(codecell) {\n",
       "  codecell.CodeCell.options_default.highlight_modes[\n",
       "      'magic_text/x-csrc'] = {'reg':[/^%%microblaze/]};\n",
       "  Jupyter.notebook.events.one('kernel_ready.Kernel', function(){\n",
       "      Jupyter.notebook.get_cells().map(function(cell){\n",
       "          if (cell.cell_type == 'code'){ cell.auto_highlight(); } }) ;\n",
       "  });\n",
       "});\n",
       "} catch (e) {};\n"
      ]
     },
     "metadata": {},
     "output_type": "display_data"
    },
    {
     "data": {
      "application/javascript": [
       "\n",
       "try {\n",
       "require(['notebook/js/codecell'], function(codecell) {\n",
       "  codecell.CodeCell.options_default.highlight_modes[\n",
       "      'magic_text/x-csrc'] = {'reg':[/^%%pybind11/]};\n",
       "  Jupyter.notebook.events.one('kernel_ready.Kernel', function(){\n",
       "      Jupyter.notebook.get_cells().map(function(cell){\n",
       "          if (cell.cell_type == 'code'){ cell.auto_highlight(); } }) ;\n",
       "  });\n",
       "});\n",
       "} catch (e) {};\n"
      ]
     },
     "metadata": {},
     "output_type": "display_data"
    }
   ],
   "source": [
    "import pynq\n",
    "import time\n",
    "from pynq import PL\n",
    "import xrfclk\n",
    "import xrfdc\n",
    "import numpy as np\n",
    "from fpbinary import FpBinary\n",
    "import matplotlib.pyplot as plt\n",
    "from scipy.fftpack import fft, fftfreq, fftshift\n",
    "import mkidgen3 as g3\n",
    "import mkidgen3.mkidpynq as mkidpynq\n",
    "import mkidgen3.daccomb as daccomb\n",
    "import mkidgen3\n",
    "import mkidgen3.util\n",
    "from mkidgen3.daccomb import generate_dac_comb\n",
    "from mkidgen3.drivers import axiswitch, bintores, capture, ddc, dactable, axififo, rfdc\n",
    "from mkidgen3.ifboard import IFBoard\n",
    "import logging\n",
    "from logging import getLogger\n",
    "import json"
   ]
  },
  {
   "cell_type": "code",
   "execution_count": null,
   "id": "c58ab158",
   "metadata": {},
   "outputs": [],
   "source": [
    "logging.basicConfig()\n",
    "logging.getLogger('mkidgen3').setLevel('DEBUG')"
   ]
  },
  {
   "cell_type": "code",
   "execution_count": 2,
   "id": "6d2cf849",
   "metadata": {},
   "outputs": [
    {
     "name": "stdout",
     "output_type": "stream",
     "text": [
      "IFStatus: Powered, boot 1. LO gen3 fractional mode, full calibration. PLL locked.\n",
      "\tReq: 6000 MHz Attained: 6000 MHz Err: 0 MHz\n",
      "\tDAC attens: (1.0, 1.0)\n",
      "\tADC Attens: (1.0, 1.0)\n"
     ]
    }
   ],
   "source": [
    "ifb = IFBoard()\n",
    "print(ifb.status())"
   ]
  },
  {
   "cell_type": "code",
   "execution_count": null,
   "id": "f8b104b1",
   "metadata": {},
   "outputs": [],
   "source": [
    "ifb.power_on()\n",
    "print(ifb.status())"
   ]
  },
  {
   "cell_type": "code",
   "execution_count": null,
   "id": "d9a0fd00",
   "metadata": {},
   "outputs": [],
   "source": [
    "ifb.set_lo(6000, fractional=True, g2_mode=False, full_calibration=True)\n",
    "ifb.set_attens(output_attens=(2,3), input_attens=(5,None))\n",
    "print(ifb.status())"
   ]
  },
  {
   "cell_type": "code",
   "execution_count": 4,
   "id": "da882a83",
   "metadata": {},
   "outputs": [
    {
     "data": {
      "text/plain": [
       "{'global': {'coms': True,\n",
       "  'boot': 1,\n",
       "  'ver': 'IFShield v0.5',\n",
       "  'gen2': False,\n",
       "  'fract': True,\n",
       "  'g3fcal': True,\n",
       "  'lo': 6000,\n",
       "  'power': True},\n",
       " 'attens': {'adc1': 5.0, 'adc2': 1.0, 'dac1': 2.0, 'dac2': 3.0},\n",
       " 'trf': [{'f_REF': 10,\n",
       "   'f_PFD': 10,\n",
       "   'f_calclk': 0.3125,\n",
       "   'df_RF': 5.960465e-07,\n",
       "   'f_LO': 6000,\n",
       "   'pll_locked': True},\n",
       "  {'r0': {'raw': 2326568,\n",
       "    'chip_id': True,\n",
       "    'r_sat_err': False,\n",
       "    'vco_trim': 7,\n",
       "    'vco_sel': 0,\n",
       "    'count_mode_mux_sel': False,\n",
       "    'count': 284}},\n",
       "  {'r1': {'raw': 1766850601,\n",
       "    'rdiv': 1,\n",
       "    'invert_ref_clock': False,\n",
       "    'neg_vco': True,\n",
       "    'icp': 10,\n",
       "    'icpdouble': False,\n",
       "    'cal_clk_sel': 13}},\n",
       "  {'r2': {'raw': 209724810,\n",
       "    'nint': 300,\n",
       "    'pll_div_sel': 0,\n",
       "    'prescale_sel': True,\n",
       "    'vco_sel': 3,\n",
       "    'vcosel_mode': False,\n",
       "    'cal_acc': 0,\n",
       "    'en_cal': False}},\n",
       "  {'r3': {'raw': 11, 'nfrac': 0}},\n",
       "  {'r4': {'raw': 1243349004,\n",
       "    'pwd_pll': False,\n",
       "    'pwd_cp': False,\n",
       "    'pwd_vco': False,\n",
       "    'pwd_vcomux': False,\n",
       "    'pwd_rfdiv': False,\n",
       "    'pwd_presc': False,\n",
       "    'pwd_lodiv': False,\n",
       "    'pwd_buff1': False,\n",
       "    'pwd_buff2': False,\n",
       "    'pwd_buff3': False,\n",
       "    'pwd_buff4': False,\n",
       "    'en_extvco': False,\n",
       "    'ext_vco_ctrl': False,\n",
       "    'en_isource': True,\n",
       "    'ld_ana_prec': 3,\n",
       "    'cp_tristate': 0,\n",
       "    'speedup': False,\n",
       "    'ld_dig_prec': False,\n",
       "    'en_dith': True,\n",
       "    'mod_ord': 2,\n",
       "    'dith_sel': False,\n",
       "    'del_sd_clk': 0,\n",
       "    'en_frac': True}},\n",
       "  {'r5': {'raw': 13,\n",
       "    'vcobias_rtirm': 0,\n",
       "    'pllbias_rtrim': 0,\n",
       "    'vco_bias': 0,\n",
       "    'vcobuf_bias': 0,\n",
       "    'vcomux_bias': 0,\n",
       "    'bufout_bias': 0,\n",
       "    'vco_cal_ib': False,\n",
       "    'vco_cal_ref': 0,\n",
       "    'vco_ampl_ctrl': 0,\n",
       "    'vco_vb_ctrl': 0,\n",
       "    'en_ld_isource': False}},\n",
       "  {'r6': {'raw': 1413550094,\n",
       "    'vco_trim': 32,\n",
       "    'en_lockdet': False,\n",
       "    'vco_test_mode': False,\n",
       "    'cal_bypass': False,\n",
       "    'mux_ctrl': 1,\n",
       "    'isource_sink': False,\n",
       "    'isource_trim': 4,\n",
       "    'lo_div_sel': 0,\n",
       "    'lo_div_ib': 2,\n",
       "    'div_mux_ref': 2,\n",
       "    'div_mux_out': 2,\n",
       "    'div_mux_bias_ovrd': False}}]}"
      ]
     },
     "execution_count": 4,
     "metadata": {},
     "output_type": "execute_result"
    }
   ],
   "source": [
    "st=ifb.status()\n",
    "st._data"
   ]
  },
  {
   "cell_type": "code",
   "execution_count": null,
   "id": "50b7bc2b",
   "metadata": {
    "scrolled": true
   },
   "outputs": [],
   "source": [
    "ol = g3.configure('single_ended/iqtest.bit', clocks=True, external_10mhz=True, ignore_version=True)\n",
    "print(f\"PL Bitfile: {PL.bitfile_name}\\nPL Timestamp: {PL.timestamp}\\n\"\n",
    "      f\"Overlay timestamp: {ol.timestamp}  Loaded: {ol.is_loaded()}\")"
   ]
  },
  {
   "cell_type": "code",
   "execution_count": null,
   "id": "bd3eb198",
   "metadata": {
    "scrolled": false
   },
   "outputs": [],
   "source": [
    "#ol.rfdc.select_adc('single_ended')\n",
    "# ol.rfdc.select_adc('differential')\n",
    "ol.rfdc.rfdc_status(tell=True);\n",
    "#print(f'Active ADC pair: {ol.rfdc.active_adc}')"
   ]
  },
  {
   "cell_type": "markdown",
   "id": "ad120320",
   "metadata": {},
   "source": [
    "## Verify the cores are all online and won't bring down the board"
   ]
  },
  {
   "cell_type": "code",
   "execution_count": null,
   "id": "c2012ba1",
   "metadata": {},
   "outputs": [],
   "source": [
    "ol.capture.filter_iq_0.register_map"
   ]
  },
  {
   "cell_type": "code",
   "execution_count": null,
   "id": "1a03846b",
   "metadata": {},
   "outputs": [],
   "source": [
    "ol.capture.filter_iq_1.register_map"
   ]
  },
  {
   "cell_type": "code",
   "execution_count": null,
   "id": "88f5bde4",
   "metadata": {},
   "outputs": [],
   "source": [
    "ol.capture.axis_switch.read(0x0040),ol.capture.axis_switch.is_disabled()"
   ]
  },
  {
   "cell_type": "code",
   "execution_count": null,
   "id": "67fa7033",
   "metadata": {},
   "outputs": [],
   "source": [
    "ol.capture.axis2mm.cmd_ctrl_reg"
   ]
  },
  {
   "cell_type": "code",
   "execution_count": null,
   "id": "6b5c30bf",
   "metadata": {},
   "outputs": [],
   "source": [
    "ol.capture.filter_phase_0.register_map"
   ]
  },
  {
   "cell_type": "markdown",
   "id": "3bbc6ecd",
   "metadata": {},
   "source": [
    "## Setup DAC REPLAY"
   ]
  },
  {
   "cell_type": "code",
   "execution_count": null,
   "id": "7d441d2b",
   "metadata": {},
   "outputs": [],
   "source": [
    "tones = np.array([0.3e9])\n",
    "amplitudes = np.array([1.0])"
   ]
  },
  {
   "cell_type": "code",
   "execution_count": null,
   "id": "5d993e7d",
   "metadata": {},
   "outputs": [],
   "source": [
    "dactable = g3.set_waveform(tones, fpgen=lambda x: (x*2**15).astype(np.uint16))\n",
    "qtones = dactable['frequencies']\n",
    "qphases = dactable['phases']\n",
    "iqtable = dactable['iq']"
   ]
  },
  {
   "cell_type": "markdown",
   "id": "18ee46b9",
   "metadata": {},
   "source": [
    "#### Or Manually"
   ]
  },
  {
   "cell_type": "code",
   "execution_count": null,
   "id": "ee2c65dd",
   "metadata": {},
   "outputs": [],
   "source": [
    "tones = np.array([0.3e9])\n",
    "amplitudes = np.array([1.0])\n",
    "dactable = generate_dac_comb(frequencies=tones, n_samples=2**19, sample_rate=4.096e9, amplitudes=amplitudes)\n",
    "#{'iq': iq, 'frequencies': quantized_freqs, 'phases': phases}\n",
    "qtones = dactable['frequencies']\n",
    "qphases = dactable['phases']\n",
    "iqtable = dactable['iq']\n",
    "buf = np.zeros((2 ** 15, 2, 16), dtype=np.int16)\n",
    "buf[:, 0, :] = iqtable.real.reshape((2 ** 15,16)) * 2**15\n",
    "buf[:, 1,: ] = iqtable.imag.reshape((2 ** 15,16)) * 2**15\n",
    "ol.dac_table_axim_0.stop()\n",
    "ol.dac_table_axim_0.replay(iqtable, fpgen=lambda x: (x*2**15).astype(np.uint16))\n",
    "ol.dac_table_axim_0._buffer"
   ]
  },
  {
   "cell_type": "code",
   "execution_count": null,
   "id": "d6ef8526",
   "metadata": {},
   "outputs": [],
   "source": [
    "dactable = generate_dac_comb(frequencies=tones, n_samples=2**19, sample_rate=4.096e9, amplitudes=amplitudes)\n",
    "#{'iq': iq, 'frequencies': quantized_freqs, 'phases': phases}\n",
    "qtones = dactable['frequencies']\n",
    "qphases = dactable['phases']\n",
    "iqtable = dactable['iq']"
   ]
  },
  {
   "cell_type": "code",
   "execution_count": null,
   "id": "360d6a63",
   "metadata": {},
   "outputs": [],
   "source": [
    "buf = np.zeros((2 ** 15, 2, 16), dtype=np.int16)\n",
    "buf[:, 0, :] = iqtable.real.reshape((2 ** 15,16)) * 2**15\n",
    "buf[:, 1,: ] = iqtable.imag.reshape((2 ** 15,16)) * 2**15"
   ]
  },
  {
   "cell_type": "code",
   "execution_count": null,
   "id": "e6a1329a",
   "metadata": {},
   "outputs": [],
   "source": [
    "ol.rfdc.rfdc.IPStatus, ol.rfdc.rfdc.dac_tiles[1].PLLConfig, ol.rfdc.rfdc.dac_tiles[1].blocks[2].BlockStatus, ol.rfdc.rfdc.dac_tiles[1].blocks[3].BlockStatus"
   ]
  },
  {
   "cell_type": "code",
   "execution_count": null,
   "id": "40dc9c6d",
   "metadata": {},
   "outputs": [],
   "source": [
    "ol.dac_table_axim_0.stop()\n",
    "ol.dac_table_axim_0.replay(iqtable, fpgen=lambda x: (x*2**15).astype(np.uint16))"
   ]
  },
  {
   "cell_type": "code",
   "execution_count": null,
   "id": "47aaab9f",
   "metadata": {},
   "outputs": [],
   "source": [
    "ol.dac_table_axim_0._buffer"
   ]
  },
  {
   "cell_type": "markdown",
   "id": "f8ed09ed",
   "metadata": {},
   "source": [
    "### Zero PL DDR4 if desired"
   ]
  },
  {
   "cell_type": "code",
   "execution_count": null,
   "id": "8d4ea136",
   "metadata": {},
   "outputs": [],
   "source": [
    "ddr4_mmio=pynq.MMIO(g3.mkidpynq.PL_DDR4_ADDR, length=2**32)"
   ]
  },
  {
   "cell_type": "code",
   "execution_count": null,
   "id": "d6d49493",
   "metadata": {},
   "outputs": [],
   "source": [
    "ddr4_mmio.array[:]=0"
   ]
  },
  {
   "cell_type": "markdown",
   "id": "6f9d94d1",
   "metadata": {},
   "source": [
    "## Resonator selection"
   ]
  },
  {
   "cell_type": "code",
   "execution_count": null,
   "id": "8acfb0b9",
   "metadata": {},
   "outputs": [],
   "source": [
    "g3.set_channels(tones)\n",
    "ol.photon_pipe.reschan.bin_to_res.bins"
   ]
  },
  {
   "cell_type": "markdown",
   "id": "f2bffc69",
   "metadata": {},
   "source": [
    "#### Or manually"
   ]
  },
  {
   "cell_type": "code",
   "execution_count": null,
   "id": "18b5d45b",
   "metadata": {},
   "outputs": [],
   "source": [
    "bins = np.arange(2048, dtype=int)\n",
    "bins[:tones.size] = opfb_bin_number(tones)\n",
    "ol.photon_pipe.reschan.bin_to_res.bins=bins"
   ]
  },
  {
   "cell_type": "markdown",
   "id": "43a8cb91",
   "metadata": {},
   "source": [
    "## DDC Configuration"
   ]
  },
  {
   "cell_type": "code",
   "execution_count": null,
   "id": "c51ae33a",
   "metadata": {},
   "outputs": [],
   "source": [
    "g3.set_tones(tones)\n",
    "ol.photon_pipe.reschan.resonator_ddc.tones"
   ]
  },
  {
   "cell_type": "markdown",
   "id": "78b42313",
   "metadata": {},
   "source": [
    "#### Or manually"
   ]
  },
  {
   "cell_type": "code",
   "execution_count": null,
   "id": "2f1730c6",
   "metadata": {},
   "outputs": [],
   "source": [
    "ddctones = np.zeros((2, 2048))\n",
    "ddctones[0, :min(tones.size, 2048)] = tone_increments(tones)\n",
    "ddctones[1, :] = np.zeros(2048)  #Phase offsets to 0\n",
    "print('Writing tones...')  # The core expects normalized increments\n",
    "ol.photon_pipe.reschan.resonator_ddc.tones = tones"
   ]
  },
  {
   "cell_type": "markdown",
   "id": "5359286f",
   "metadata": {},
   "source": [
    "## ADC Capture"
   ]
  },
  {
   "cell_type": "code",
   "execution_count": null,
   "id": "a7913972",
   "metadata": {},
   "outputs": [],
   "source": [
    "raw=ol.capture.capture_adc(2048*32)"
   ]
  },
  {
   "cell_type": "code",
   "execution_count": null,
   "id": "fe3e4b1d",
   "metadata": {},
   "outputs": [],
   "source": [
    "#ol.capture.axis2mm.cmd_ctrl_regd_ctrl_reg"
   ]
  },
  {
   "cell_type": "code",
   "execution_count": null,
   "id": "d0cd3c05",
   "metadata": {},
   "outputs": [],
   "source": [
    "#raw.shape"
   ]
  },
  {
   "cell_type": "code",
   "execution_count": null,
   "id": "3b38aa58",
   "metadata": {},
   "outputs": [],
   "source": [
    "rf=raw.ravel()"
   ]
  },
  {
   "cell_type": "code",
   "execution_count": null,
   "id": "e0287995",
   "metadata": {},
   "outputs": [],
   "source": []
  },
  {
   "cell_type": "code",
   "execution_count": null,
   "id": "bba5a556",
   "metadata": {},
   "outputs": [],
   "source": [
    "n=128\n",
    "plt.figure(figsize=(12,8))\n",
    "plt.axhline(0, color='k')\n",
    "plt.plot(np.arange(n), rf.astype(np.int16)[:n],'o')\n",
    "plt.plot(np.arange(n)[::2], rf.astype(np.int16)[:n:2],'^')\n",
    "# plt.plot(np.arange(n)[::2], -rf.astype(np.int16)[:n:2],'^')\n",
    "# plt.plot(np.arange(n)[1::2], rf.astype(np.int16)[1:n:2],'.')"
   ]
  },
  {
   "cell_type": "code",
   "execution_count": null,
   "id": "136e7b5c",
   "metadata": {},
   "outputs": [],
   "source": [
    "np.arange(20)[::3]"
   ]
  },
  {
   "cell_type": "code",
   "execution_count": null,
   "id": "155d6a1b",
   "metadata": {},
   "outputs": [],
   "source": [
    "adcd =raw[:,0]/2**15 + 1j*raw[:,1]/2**15"
   ]
  },
  {
   "cell_type": "markdown",
   "id": "4016f33f",
   "metadata": {},
   "source": [
    "# Plot Spectrum"
   ]
  },
  {
   "cell_type": "code",
   "execution_count": null,
   "id": "8783d9ae",
   "metadata": {},
   "outputs": [],
   "source": [
    "N = 2**16\n",
    "Fs = 4.096e9 # ADC Sample Rate [Hz]\n",
    "Tc = N/Fs # total collection time (seconds)\n",
    "time = np.linspace(0,Tc,N) # Time vector (seconds)\n",
    "sample = np.linspace(0,N-1,N)\n",
    "plot_start=10\n",
    "plot_stop=2047+10\n",
    "sl = slice(plot_start,plot_stop)\n",
    "fft_freqs = np.linspace(-2.048e9,2.048e9,plot_stop-plot_start)"
   ]
  },
  {
   "cell_type": "code",
   "execution_count": null,
   "id": "ac457110",
   "metadata": {},
   "outputs": [],
   "source": [
    "ol.dac_table_axim_0.register_map"
   ]
  },
  {
   "cell_type": "code",
   "execution_count": null,
   "id": "cbac3479",
   "metadata": {},
   "outputs": [],
   "source": []
  },
  {
   "cell_type": "code",
   "execution_count": null,
   "id": "46e7af85",
   "metadata": {},
   "outputs": [],
   "source": [
    "plt.figure(figsize=(10,5))\n",
    "plt.plot(sample[sl],adcd.real[sl])\n",
    "plt.plot(sample[sl],adcd.imag[sl])\n",
    "plt.title('Sample Series')\n",
    "plt.xlabel(\"sample\",position=(0.5,1))\n",
    "plt.ylabel(\"signal\",position=(0,0.5))\n",
    "#ax.set_xlim(time[plot_start],time[plot_stop])\n",
    "plt.show()"
   ]
  },
  {
   "cell_type": "code",
   "execution_count": null,
   "id": "c8f527ed",
   "metadata": {},
   "outputs": [],
   "source": [
    "plt.figure(figsize=(10,5))\n",
    "plt.plot(sample[sl],np.diff(adcd.imag[10:3151]))\n",
    "plt.title('Derivative')\n",
    "plt.xlabel(\"sample\",position=(0.5,1))\n",
    "plt.ylabel(\"signal\",position=(0,0.5))\n",
    "#ax.set_xlim(time[plot_start],time[plot_stop])\n",
    "plt.show()"
   ]
  },
  {
   "cell_type": "code",
   "execution_count": null,
   "id": "dca3aeed",
   "metadata": {},
   "outputs": [],
   "source": [
    "a = sample[sl]\n",
    "b = np.diff(adcd.real[1010:3151])\n",
    "out = np.column_stack((a, b))"
   ]
  },
  {
   "cell_type": "code",
   "execution_count": null,
   "id": "3761c2a7",
   "metadata": {
    "scrolled": true
   },
   "outputs": [],
   "source": [
    "plt.figure(figsize=(10,5))\n",
    "# plt.plot(time[sl],(ps_buf&0xffff)[sl].astype(np.int16), '-', label='real')\n",
    "plt.plot(time[sl],adc_capture_data.real[sl])\n",
    "plt.grid(True)\n",
    "plt.xlabel(\"time(s)\",position=(0.5,1))\n",
    "plt.ylabel(\"signal(V)\",position=(0,0.5))\n",
    "ax = plt.gca()\n",
    "ax.set_xlim(time[plot_start],time[plot_stop])\n",
    "#plt.legend()\n",
    "plt.title('Time Series')\n",
    "plt.show()"
   ]
  },
  {
   "cell_type": "code",
   "execution_count": null,
   "id": "70a593ac",
   "metadata": {},
   "outputs": [],
   "source": [
    "plt.plot(np.arange(100),adcd.real[-100:])\n",
    "plt.plot(np.arange(100)+100,adcd.real[:100])"
   ]
  },
  {
   "cell_type": "code",
   "execution_count": null,
   "id": "7be6464d",
   "metadata": {
    "scrolled": true
   },
   "outputs": [],
   "source": [
    "plt.plot((np.fft.fftfreq(adcd.size, d=1/4096)), (20*np.log10(np.abs(np.fft.fft(adcd)))))\n",
    "plt.xlabel('Freq (MHz)');\n",
    "#plt.xlim(0,500)"
   ]
  },
  {
   "cell_type": "code",
   "execution_count": null,
   "id": "122f9278",
   "metadata": {},
   "outputs": [],
   "source": [
    "y_fft = 20*np.log10(np.abs(np.fft.fft(adcd)))\n",
    "plt.plot(np.fft.fftshift(np.fft.fftfreq(y_fft.size, d=1/4.096)), y_fft)"
   ]
  },
  {
   "cell_type": "markdown",
   "id": "f3356be7",
   "metadata": {},
   "source": [
    "## IQ Capture"
   ]
  },
  {
   "cell_type": "markdown",
   "id": "c8b497b1",
   "metadata": {},
   "source": [
    "Check which capture locations are supported:"
   ]
  },
  {
   "cell_type": "code",
   "execution_count": null,
   "id": "8b6760e4",
   "metadata": {
    "scrolled": true
   },
   "outputs": [],
   "source": [
    "ol.capture.filter_iq"
   ]
  },
  {
   "cell_type": "code",
   "execution_count": null,
   "id": "83a0333e",
   "metadata": {},
   "outputs": [],
   "source": [
    "iq = ol.capture.capture_iq(8192, groups='all', tap_location='ddciq', duration=False) #rawiq=bin2res #iq=lowpassed  #ddciq=before lowpass (unsupported)"
   ]
  },
  {
   "cell_type": "markdown",
   "id": "bceb6675",
   "metadata": {},
   "source": [
    "## Phase Capture"
   ]
  },
  {
   "cell_type": "code",
   "execution_count": null,
   "id": "3ef6085f",
   "metadata": {},
   "outputs": [],
   "source": [
    "phase = ol.capture.capture_phase(8192, groups='all', duration=False)"
   ]
  },
  {
   "cell_type": "code",
   "execution_count": null,
   "id": "358c5929",
   "metadata": {},
   "outputs": [],
   "source": [
    "phase.shape"
   ]
  },
  {
   "cell_type": "code",
   "execution_count": null,
   "id": "2b1188b4",
   "metadata": {},
   "outputs": [],
   "source": [
    "plt.plot(phase[:,0]/2**13)\n",
    "plt.plot(phase[:,1]/2**13)\n",
    "plt.plot(phase[:,2]/2**13)\n",
    "plt.plot(phase[:,3]/2**13)"
   ]
  },
  {
   "cell_type": "markdown",
   "id": "3c54c29e",
   "metadata": {},
   "source": [
    "## Manual phase capture"
   ]
  },
  {
   "cell_type": "code",
   "execution_count": null,
   "id": "92d13cb4",
   "metadata": {},
   "outputs": [],
   "source": [
    "n=100\n",
    "groups = [0,1,2,3,4]  #0-127\n",
    "self=ol.capture"
   ]
  },
  {
   "cell_type": "code",
   "execution_count": null,
   "id": "f66b1843",
   "metadata": {},
   "outputs": [],
   "source": [
    "self.switch.set_driver(slave=self.SOURCE_MAP['phase'], commit=True)"
   ]
  },
  {
   "cell_type": "code",
   "execution_count": null,
   "id": "7082faf0",
   "metadata": {},
   "outputs": [],
   "source": [
    "print(self.axis2mm.cmd_ctrl_reg)\n",
    "self.axis2mm.abort()\n",
    "self.axis2mm.clear_error()\n",
    "if not self.axis2mm.ready:\n",
    "    print(\"capture core unable not ready, this shouldn't happen\")\n",
    "print(self.axis2mm.cmd_ctrl_reg)"
   ]
  },
  {
   "cell_type": "code",
   "execution_count": null,
   "id": "f14fcfa2",
   "metadata": {},
   "outputs": [],
   "source": []
  },
  {
   "cell_type": "code",
   "execution_count": null,
   "id": "85c5056d",
   "metadata": {},
   "outputs": [],
   "source": [
    "self.filter_phase.keep = groups\n",
    "n_groups = self.filter_phase.n_kept"
   ]
  },
  {
   "cell_type": "code",
   "execution_count": null,
   "id": "c4dcc7bf",
   "metadata": {},
   "outputs": [],
   "source": [
    "# each group is 16 phases (32 bytes)\n",
    "capture_bytes = n * 2 * n_groups*16\n",
    "\n",
    "try:\n",
    "    buffer = allocate((n, n_groups*16), dtype='i2', target=self.ddr4_0)\n",
    "except RuntimeError:\n",
    "    getLogger(__name__).warning(f'Insufficient space for requested samples.')\n",
    "    raise RuntimeError('Insufficient free space')\n",
    "addr = buffer.device_address\n",
    "\n",
    "datavolume_mb = capture_bytes / 1024 ** 2\n",
    "datarate_mbps = 32 * 512/4 * n_groups/128   #phases arrive 4@512 so the filter outputs every 4 clocks\n",
    "captime = datavolume_mb / datarate_mbps\n",
    "\n",
    "msg = (f\"Capturing ~{datavolume_mb:.2f} MB of data @ {datarate_mbps:.1f} MBps. \"\n",
    "       f\"ETA {datavolume_mb / datarate_mbps * 1000:.0f} ms\")\n",
    "print(msg)"
   ]
  },
  {
   "cell_type": "code",
   "execution_count": null,
   "id": "90b660c6",
   "metadata": {},
   "outputs": [],
   "source": [
    "self.axis2mm.addr = buffer\n",
    "self.axis2mm.len = n\n",
    "self.axis2mm.start(continuous=False, increment=True)\n",
    "self._capture('phase', capture_bytes, addr)\n",
    "time.sleep(captime)"
   ]
  },
  {
   "cell_type": "markdown",
   "id": "ea1bfefa",
   "metadata": {},
   "source": [
    "### Scratchpad"
   ]
  },
  {
   "cell_type": "code",
   "execution_count": null,
   "id": "41a871fc",
   "metadata": {},
   "outputs": [],
   "source": []
  }
 ],
 "metadata": {
  "kernelspec": {
   "display_name": "Python 3",
   "language": "python",
   "name": "python3"
  },
  "language_info": {
   "codemirror_mode": {
    "name": "ipython",
    "version": 3
   },
   "file_extension": ".py",
   "mimetype": "text/x-python",
   "name": "python",
   "nbconvert_exporter": "python",
   "pygments_lexer": "ipython3",
   "version": "3.8.2"
  }
 },
 "nbformat": 4,
 "nbformat_minor": 5
}
