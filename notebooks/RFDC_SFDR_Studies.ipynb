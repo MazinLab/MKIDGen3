{
 "cells": [
  {
   "cell_type": "markdown",
   "id": "a9cf915b",
   "metadata": {},
   "source": [
    "# Imports"
   ]
  },
  {
   "cell_type": "code",
   "execution_count": 1,
   "id": "0690a514",
   "metadata": {},
   "outputs": [
    {
     "data": {
      "application/javascript": [
       "\n",
       "try {\n",
       "require(['notebook/js/codecell'], function(codecell) {\n",
       "  codecell.CodeCell.options_default.highlight_modes[\n",
       "      'magic_text/x-csrc'] = {'reg':[/^%%microblaze/]};\n",
       "  Jupyter.notebook.events.one('kernel_ready.Kernel', function(){\n",
       "      Jupyter.notebook.get_cells().map(function(cell){\n",
       "          if (cell.cell_type == 'code'){ cell.auto_highlight(); } }) ;\n",
       "  });\n",
       "});\n",
       "} catch (e) {};\n"
      ]
     },
     "metadata": {},
     "output_type": "display_data"
    },
    {
     "data": {
      "application/javascript": [
       "\n",
       "try {\n",
       "require(['notebook/js/codecell'], function(codecell) {\n",
       "  codecell.CodeCell.options_default.highlight_modes[\n",
       "      'magic_text/x-csrc'] = {'reg':[/^%%pybind11/]};\n",
       "  Jupyter.notebook.events.one('kernel_ready.Kernel', function(){\n",
       "      Jupyter.notebook.get_cells().map(function(cell){\n",
       "          if (cell.cell_type == 'code'){ cell.auto_highlight(); } }) ;\n",
       "  });\n",
       "});\n",
       "} catch (e) {};\n"
      ]
     },
     "metadata": {},
     "output_type": "display_data"
    }
   ],
   "source": [
    "import pynq\n",
    "import time\n",
    "from pynq import PL\n",
    "import xrfclk\n",
    "import xrfdc\n",
    "import numpy as np\n",
    "# from fpbinary import FpBinary\n",
    "import matplotlib.pyplot as plt\n",
    "from scipy.fftpack import fft, fftfreq, fftshift\n",
    "import mkidgen3 as g3\n",
    "import mkidgen3.mkidpynq as mkidpynq\n",
    "import mkidgen3.daccomb as daccomb\n",
    "import mkidgen3\n",
    "from mkidgen3.daccomb import generate_dac_comb\n",
    "from mkidgen3.drivers import axiswitch, bintores, capture, ddc, dactable, axififo, rfdc\n",
    "import scipy.io as sio"
   ]
  },
  {
   "cell_type": "markdown",
   "id": "2612dc5c",
   "metadata": {},
   "source": [
    "# Load the Overlay and Setup RFDC and MIG"
   ]
  },
  {
   "cell_type": "code",
   "execution_count": 2,
   "id": "6fd715c6",
   "metadata": {},
   "outputs": [],
   "source": [
    "#ol = pynq.Overlay('../Full_Channelizer/rst_jenny/full_chan_cap_nec_rst_two_intrcnt.bit', ignore_version=True)\n",
    "ol = pynq.Overlay('RFDC_Cap_Full_Rate.bit', ignore_version=True)\n",
    "\n",
    "#ol.download()\n",
    "#print(f\"PL Bitfile: {PL.bitfile_name}\\nPL Timestamp: {PL.timestamp}\\n\"\n",
    "#      f\"Overlay timestamp: {ol.timestamp}  Loaded: {ol.is_loaded()}\")"
   ]
  },
  {
   "cell_type": "code",
   "execution_count": 3,
   "id": "d0841905",
   "metadata": {},
   "outputs": [],
   "source": [
    "dacreplay = ol.dac_table_axim_0"
   ]
  },
  {
   "cell_type": "markdown",
   "id": "aad5fe05",
   "metadata": {},
   "source": [
    "# Setup RFDC and MIG"
   ]
  },
  {
   "cell_type": "code",
   "execution_count": 4,
   "id": "6aa046f5",
   "metadata": {},
   "outputs": [],
   "source": [
    "g3._gen3_overlay=ol\n",
    "#xrfclk.set_ref_clks()\n",
    "#ol.rfdc.start_clocks()\n",
    "#ol.rfdc.rfdc_status(tell=True)\n",
    "#print(f'Active ADC pair: {ol.rfdc.active_adc}')"
   ]
  },
  {
   "cell_type": "markdown",
   "id": "3bbc6ecd",
   "metadata": {},
   "source": [
    "## Setup DAC REPLAY"
   ]
  },
  {
   "cell_type": "code",
   "execution_count": 5,
   "id": "7d441d2b",
   "metadata": {},
   "outputs": [],
   "source": [
    "tones = np.array([0.8e9])\n",
    "amplitudes = np.array([1.0])"
   ]
  },
  {
   "cell_type": "code",
   "execution_count": 6,
   "id": "d6ef8526",
   "metadata": {},
   "outputs": [],
   "source": [
    "dactable = generate_dac_comb(frequencies=tones, n_samples=2**19, sample_rate=4.096e9, amplitudes=amplitudes)\n",
    "#{'iq': iq, 'frequencies': quantized_freqs, 'phases': phases}\n",
    "qtones = dactable['frequencies']\n",
    "qphases = dactable['phases']"
   ]
  },
  {
   "cell_type": "code",
   "execution_count": 7,
   "id": "56d26606",
   "metadata": {},
   "outputs": [],
   "source": [
    "dactable['iq'].real = 0"
   ]
  },
  {
   "cell_type": "code",
   "execution_count": 8,
   "id": "40dc9c6d",
   "metadata": {},
   "outputs": [],
   "source": [
    "dacreplay.stop()"
   ]
  },
  {
   "cell_type": "code",
   "execution_count": 9,
   "id": "c8294971",
   "metadata": {},
   "outputs": [],
   "source": [
    "dacreplay.replay(dactable['iq'], fpgen=lambda x: (x*2**15).astype(np.uint16))"
   ]
  },
  {
   "cell_type": "code",
   "execution_count": 10,
   "id": "21b8cb9a",
   "metadata": {},
   "outputs": [],
   "source": [
    "#dacreplay.quiet()"
   ]
  },
  {
   "cell_type": "markdown",
   "id": "cf1f0c7d",
   "metadata": {},
   "source": [
    "### Take ADC Snap"
   ]
  },
  {
   "cell_type": "code",
   "execution_count": 11,
   "id": "240e50bc",
   "metadata": {},
   "outputs": [],
   "source": [
    "cap_result=ol.capture.capture_adc(2**19)"
   ]
  },
  {
   "cell_type": "code",
   "execution_count": 12,
   "id": "dd035c2c",
   "metadata": {},
   "outputs": [],
   "source": [
    "adc_capture_data = cap_result[:,0]/2**15 + 1j*cap_result[:,1]/2**15"
   ]
  },
  {
   "cell_type": "code",
   "execution_count": 13,
   "id": "da698ffa",
   "metadata": {},
   "outputs": [],
   "source": [
    "cap_result.freebuffer()"
   ]
  },
  {
   "cell_type": "code",
   "execution_count": 14,
   "id": "371add57",
   "metadata": {},
   "outputs": [],
   "source": [
    "sio.savemat('0_1_.mat', mdict={'adc_imag_800MHz':adc_capture_data})"
   ]
  }
 ],
 "metadata": {
  "kernelspec": {
   "display_name": "Python 3",
   "language": "python",
   "name": "python3"
  },
  "language_info": {
   "codemirror_mode": {
    "name": "ipython",
    "version": 3
   },
   "file_extension": ".py",
   "mimetype": "text/x-python",
   "name": "python",
   "nbconvert_exporter": "python",
   "pygments_lexer": "ipython3",
   "version": "3.8.2"
  }
 },
 "nbformat": 4,
 "nbformat_minor": 5
}
