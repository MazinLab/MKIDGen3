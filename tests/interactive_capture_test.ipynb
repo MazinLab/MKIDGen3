{
 "cells": [
  {
   "cell_type": "code",
   "execution_count": null,
   "metadata": {
    "collapsed": true
   },
   "outputs": [],
   "source": [
    "import threading\n",
    "import time\n",
    "from datetime import datetime\n",
    "import zmq\n",
    "import logging\n",
    "logging.basicConfig(level=logging.DEBUG)\n",
    "\n",
    "from mkidgen3.feedline_server import start_zmq_devices, FeedlineReadout\n",
    "from mkidgen3.feedline_objects import zpipe, CaptureRequest, FeedlineConfig\n",
    "from mkidgen3.captures import CaptureJob"
   ]
  },
  {
   "cell_type": "code",
   "execution_count": null,
   "outputs": [],
   "source": [
    "bitstream=''\n",
    "cap_addr = f'tcp://localhost:16000'\n",
    "stat_addr = f'tcp://localhost:15000'\n",
    "server_addr = 'foobar'  # There is no server, this is needed for forming the UUID of the CapReq"
   ],
   "metadata": {
    "collapsed": false
   }
  },
  {
   "cell_type": "code",
   "execution_count": null,
   "outputs": [],
   "source": [
    "start_zmq_devices(cap_addr, stat_addr)"
   ],
   "metadata": {
    "collapsed": false
   }
  },
  {
   "cell_type": "code",
   "execution_count": null,
   "outputs": [],
   "source": [
    "context = zmq.Context.instance()\n",
    "context.linger = 0\n",
    "a, b = zpipe(context)"
   ],
   "metadata": {
    "collapsed": false
   }
  },
  {
   "cell_type": "code",
   "execution_count": null,
   "outputs": [],
   "source": [
    "fr = FeedlineReadout(bitstream, if_port=None, ignore_version=True)\n",
    "cr = CaptureRequest(10000, 'photon', FeedlineConfig())\n",
    "cj = CaptureJob(cr, server_addr, cap_addr, stat_addr, submit=False)"
   ],
   "metadata": {
    "collapsed": false
   }
  },
  {
   "cell_type": "code",
   "execution_count": null,
   "outputs": [],
   "source": [
    "#Insert all code to manually configure the overlay here OR actually populate a real FeedlineConfig and call fr.hardware.apply_config(cr.id, cr.feedline_config)"
   ],
   "metadata": {
    "collapsed": false
   }
  },
  {
   "cell_type": "code",
   "execution_count": null,
   "outputs": [],
   "source": [
    "cj.start_listeners()"
   ],
   "metadata": {
    "collapsed": false
   }
  },
  {
   "cell_type": "code",
   "execution_count": null,
   "outputs": [],
   "source": [
    "cap_thread = threading.Thread(target=fr.photon_cap, name=f\"CapThread: {cr.id}\",\n",
    "                     args=(b, cr, fr.hardware._ol),\n",
    "                     kwargs=dict(context=context))"
   ],
   "metadata": {
    "collapsed": false
   }
  },
  {
   "cell_type": "code",
   "execution_count": null,
   "outputs": [],
   "source": [
    "cr.set_status('running', f'Started at UTC {datetime.utcnow()}')\n",
    "cr.destablish()\n",
    "cap_thread.start()\n",
    "time.sleep(5)\n",
    "a.send(b'')  # Request the cap_thread to abort"
   ],
   "metadata": {
    "collapsed": false
   }
  },
  {
   "cell_type": "code",
   "execution_count": null,
   "outputs": [],
   "source": [
    "x=cj.data()\n"
   ],
   "metadata": {
    "collapsed": false
   }
  }
 ],
 "metadata": {
  "kernelspec": {
   "display_name": "Python 3",
   "language": "python",
   "name": "python3"
  },
  "language_info": {
   "codemirror_mode": {
    "name": "ipython",
    "version": 2
   },
   "file_extension": ".py",
   "mimetype": "text/x-python",
   "name": "python",
   "nbconvert_exporter": "python",
   "pygments_lexer": "ipython2",
   "version": "2.7.6"
  }
 },
 "nbformat": 4,
 "nbformat_minor": 0
}
